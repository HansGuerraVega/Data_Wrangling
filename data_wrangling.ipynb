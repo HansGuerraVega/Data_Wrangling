{
 "cells": [
  {
   "cell_type": "markdown",
   "id": "3Xg_RQfnafXz",
   "metadata": {
    "id": "3Xg_RQfnafXz"
   },
   "source": [
    "# Fill that cart!"
   ]
  },
  {
   "cell_type": "markdown",
   "id": "mhIvmmkW414q",
   "metadata": {
    "id": "mhIvmmkW414q"
   },
   "source": [
    "# Introducción\n",
    "\n",
    "Instacart es una plataforma de entregas de comestibles donde la clientela puede registrar un pedido y hacer que se lo entreguen, similar a Uber Eats y Door Dash.\n",
    "El conjunto de datos proporcionado tiene modificaciones del original. Se redujo el tamaño del conjunto para que los cálculos se hicieran más rápido y se introdujeron valores ausentes y duplicados. Se tuvo cuidado de conservar las distribuciones de los datos originales al hacer los cambios."
   ]
  },
  {
   "cell_type": "markdown",
   "id": "3MbyzpOQZ5Or",
   "metadata": {
    "id": "3MbyzpOQZ5Or"
   },
   "source": [
    "## Diccionario de datos\n",
    "\n",
    "Hay cinco tablas en el conjunto de datos, y tendrás que usarlas todas para hacer el preprocesamiento de datos y el análisis exploratorio de datos. A continuación se muestra un diccionario de datos que enumera las columnas de cada tabla y describe los datos que contienen.\n",
    "\n",
    "- `instacart_orders.csv`: cada fila corresponde a un pedido en la aplicación Instacart.\n",
    "    - `'order_id'`: número de ID que identifica de manera única cada pedido.\n",
    "    - `'user_id'`: número de ID que identifica de manera única la cuenta de cada cliente.\n",
    "    - `'order_number'`: el número de veces que este cliente ha hecho un pedido.\n",
    "    - `'order_dow'`: día de la semana en que se hizo el pedido (0 si es domingo).\n",
    "    - `'order_hour_of_day'`: hora del día en que se hizo el pedido.\n",
    "    - `'days_since_prior_order'`: número de días transcurridos desde que este cliente hizo su pedido anterior.\n",
    "- `products.csv`: cada fila corresponde a un producto único que pueden comprar los clientes.\n",
    "    - `'product_id'`: número ID que identifica de manera única cada producto.\n",
    "    - `'product_name'`: nombre del producto.\n",
    "    - `'aisle_id'`: número ID que identifica de manera única cada categoría de pasillo de víveres.\n",
    "    - `'department_id'`: número ID que identifica de manera única cada departamento de víveres.\n",
    "- `order_products.csv`: cada fila corresponde a un artículo pedido en un pedido.\n",
    "    - `'order_id'`: número de ID que identifica de manera única cada pedido.\n",
    "    - `'product_id'`: número ID que identifica de manera única cada producto.\n",
    "    - `'add_to_cart_order'`: el orden secuencial en el que se añadió cada artículo en el carrito.\n",
    "    - `'reordered'`: 0 si el cliente nunca ha pedido este producto antes, 1 si lo ha pedido.\n",
    "- `aisles.csv`\n",
    "    - `'aisle_id'`: número ID que identifica de manera única cada categoría de pasillo de víveres.\n",
    "    - `'aisle'`: nombre del pasillo.\n",
    "- `departments.csv`\n",
    "    - `'department_id'`: número ID que identifica de manera única cada departamento de víveres.\n",
    "    - `'department'`: nombre del departamento."
   ]
  },
  {
   "cell_type": "markdown",
   "id": "n3Ha_cNSZ8lK",
   "metadata": {
    "id": "n3Ha_cNSZ8lK"
   },
   "source": [
    "# Paso 1. Descripción de los datos\n",
    "\n",
    "Lee los archivos de datos (`instacart_orders.csv`, `products.csv`, `aisles.csv`, `departments.csv` y `order_products.csv`) con `pd.read_csv()` usando los parámetros adecuados para leer los datos correctamente (recuarda guardarlos en el mismio). Verifica la información para cada DataFrame creado.\n"
   ]
  },
  {
   "cell_type": "markdown",
   "id": "OmlQPLlyaAfR",
   "metadata": {
    "id": "OmlQPLlyaAfR"
   },
   "source": [
    "## Plan de solución\n",
    "\n",
    "Un posible plan de solución:\n",
    "\n",
    "1. Se importarán las librerias con las que se ha trabajado hasta ahora (pandas, numpy y pyplot)\n",
    "2. Se leerán los datos con la librería de Pandas.\n",
    "3. Observando los datos, se tiene que usar un delimitador ya que las columnas estan separadas por \";\"\n",
    "4. Se obtendrá la información mediante el método \".info()\" para tener un idea general de cada dataframe como valores nulos, dimensiones de los dataframes, nombres de columnas y tipo de datos\n"
   ]
  },
  {
   "cell_type": "code",
   "execution_count": 34,
   "id": "fbf1adab",
   "metadata": {
    "id": "fbf1adab"
   },
   "outputs": [],
   "source": [
    "# importar librerías\n",
    "import pandas as pd\n",
    "from matplotlib import pyplot as plt\n",
    "import numpy as np"
   ]
  },
  {
   "cell_type": "code",
   "execution_count": 36,
   "id": "ad36396d",
   "metadata": {
    "id": "ad36396d"
   },
   "outputs": [],
   "source": [
    "# leer conjuntos de datos en los DataFrames\n",
    "# Conjunto 'instacart_orders'\n",
    "df_orders = pd.read_csv('instacart_orders.csv', delimiter=';')\n",
    "# Conjunto 'products'\n",
    "df_products = pd.read_csv('products.csv', delimiter=';')\n",
    "# Conjunto 'aisles'\n",
    "df_aisles = pd.read_csv('aisles.csv', delimiter=';')\n",
    "# Conjunto 'departments'\n",
    "df_departments = pd.read_csv('departments.csv', delimiter=';')\n",
    "# Conjunto 'order_products'\n",
    "df_order_products = pd.read_csv('order_products.csv', delimiter=';')"
   ]
  },
  {
   "cell_type": "code",
   "execution_count": 37,
   "id": "ad6a1efa",
   "metadata": {
    "id": "ad6a1efa"
   },
   "outputs": [
    {
     "name": "stdout",
     "output_type": "stream",
     "text": [
      "<class 'pandas.core.frame.DataFrame'>\n",
      "RangeIndex: 478967 entries, 0 to 478966\n",
      "Data columns (total 6 columns):\n",
      " #   Column                  Non-Null Count   Dtype  \n",
      "---  ------                  --------------   -----  \n",
      " 0   order_id                478967 non-null  int64  \n",
      " 1   user_id                 478967 non-null  int64  \n",
      " 2   order_number            478967 non-null  int64  \n",
      " 3   order_dow               478967 non-null  int64  \n",
      " 4   order_hour_of_day       478967 non-null  int64  \n",
      " 5   days_since_prior_order  450148 non-null  float64\n",
      "dtypes: float64(1), int64(5)\n",
      "memory usage: 21.9 MB\n"
     ]
    }
   ],
   "source": [
    "# mostrar información del DataFrame\n",
    "df_orders.info()"
   ]
  },
  {
   "cell_type": "code",
   "execution_count": 38,
   "id": "5130e05e",
   "metadata": {
    "id": "5130e05e"
   },
   "outputs": [
    {
     "name": "stdout",
     "output_type": "stream",
     "text": [
      "<class 'pandas.core.frame.DataFrame'>\n",
      "RangeIndex: 49694 entries, 0 to 49693\n",
      "Data columns (total 4 columns):\n",
      " #   Column         Non-Null Count  Dtype \n",
      "---  ------         --------------  ----- \n",
      " 0   product_id     49694 non-null  int64 \n",
      " 1   product_name   48436 non-null  object\n",
      " 2   aisle_id       49694 non-null  int64 \n",
      " 3   department_id  49694 non-null  int64 \n",
      "dtypes: int64(3), object(1)\n",
      "memory usage: 1.5+ MB\n"
     ]
    }
   ],
   "source": [
    "# mostrar información del DataFrame\n",
    "df_products.info()"
   ]
  },
  {
   "cell_type": "code",
   "execution_count": 39,
   "id": "d8370c05",
   "metadata": {
    "id": "d8370c05"
   },
   "outputs": [
    {
     "name": "stdout",
     "output_type": "stream",
     "text": [
      "<class 'pandas.core.frame.DataFrame'>\n",
      "RangeIndex: 134 entries, 0 to 133\n",
      "Data columns (total 2 columns):\n",
      " #   Column    Non-Null Count  Dtype \n",
      "---  ------    --------------  ----- \n",
      " 0   aisle_id  134 non-null    int64 \n",
      " 1   aisle     134 non-null    object\n",
      "dtypes: int64(1), object(1)\n",
      "memory usage: 2.2+ KB\n"
     ]
    }
   ],
   "source": [
    "# mostrar información del DataFrame\n",
    "df_aisles.info()"
   ]
  },
  {
   "cell_type": "code",
   "execution_count": 40,
   "id": "59e2090f",
   "metadata": {
    "id": "59e2090f"
   },
   "outputs": [
    {
     "name": "stdout",
     "output_type": "stream",
     "text": [
      "<class 'pandas.core.frame.DataFrame'>\n",
      "RangeIndex: 21 entries, 0 to 20\n",
      "Data columns (total 2 columns):\n",
      " #   Column         Non-Null Count  Dtype \n",
      "---  ------         --------------  ----- \n",
      " 0   department_id  21 non-null     int64 \n",
      " 1   department     21 non-null     object\n",
      "dtypes: int64(1), object(1)\n",
      "memory usage: 468.0+ bytes\n"
     ]
    }
   ],
   "source": [
    "# mostrar información del DataFrame\n",
    "df_departments.info()"
   ]
  },
  {
   "cell_type": "code",
   "execution_count": 41,
   "id": "6fc81694",
   "metadata": {
    "id": "6fc81694"
   },
   "outputs": [
    {
     "name": "stdout",
     "output_type": "stream",
     "text": [
      "<class 'pandas.core.frame.DataFrame'>\n",
      "RangeIndex: 4545007 entries, 0 to 4545006\n",
      "Data columns (total 4 columns):\n",
      " #   Column             Dtype  \n",
      "---  ------             -----  \n",
      " 0   order_id           int64  \n",
      " 1   product_id         int64  \n",
      " 2   add_to_cart_order  float64\n",
      " 3   reordered          int64  \n",
      "dtypes: float64(1), int64(3)\n",
      "memory usage: 138.7 MB\n"
     ]
    }
   ],
   "source": [
    "# mostrar información del DataFrame\n",
    "df_order_products.info()"
   ]
  },
  {
   "cell_type": "markdown",
   "id": "t75BD19oaR5f",
   "metadata": {
    "id": "t75BD19oaR5f"
   },
   "source": [
    "## Conclusiones\n",
    "\n",
    "Primeras conclusiones:\n",
    "\n",
    "1. Los dataframes \"df_orders\" y \"df_products\" contienen datos nulos.\n",
    "2. Se tienen tipos de datos \"int64\", \"float64\" y \"object\"\n",
    "3. El dataframe que más usa memoria es \"df_order_products\"\n",
    "4. El dataframe que menos usa memoria es \"df_departments\"\n",
    "5. Se debe hacer un análisis más profundo de los datos para saber si los datos tienen sentido o se deben modificar"
   ]
  },
  {
   "cell_type": "markdown",
   "id": "8RJHqxVmaVsF",
   "metadata": {
    "id": "8RJHqxVmaVsF"
   },
   "source": [
    "# Paso 2. Preprocesamiento de los datos\n",
    "\n",
    "Preprocesa los datos de la siguiente manera:\n",
    "\n",
    "- Verifica y corrige los tipos de datos (por ejemplo, asegúrate de que las columnas de ID sean números enteros).\n",
    "- Identifica y completa los valores ausentes.\n",
    "- Identifica y elimina los valores duplicados.\n",
    "\n",
    "Asegúrate de explicar qué tipos de valores ausentes y duplicados encontraste, cómo los completaste o eliminaste y por qué usaste esos métodos. ¿Por qué crees que estos valores ausentes y duplicados pueden haber estado presentes en el conjunto de datos?"
   ]
  },
  {
   "cell_type": "markdown",
   "id": "p6poABZQaZYb",
   "metadata": {
    "id": "p6poABZQaZYb"
   },
   "source": [
    "## Plan de solución\n",
    "\n",
    "Posible plan de solución para el paso 2:\n",
    "\n",
    "1. Verificar que las columnas de los dataframes pertenezcan al tipo de datos correcto para su análisis y si no cambiarlos mediante \"astype()\" u otro métido.\n",
    "2. A partir de la información antes obtenida, se encontrarán y eliminarán los valores nulos que afecten el análisis posterior de los datos, primero mediante el comando \"isna()\" se encontraran y con \"value_counts\" o \"sum()\" se contarán\n",
    "3. Se encontrarán y eliminarán los valores duplicados que afecten el análisis posterior de los datos, mediante \"duplicated()\" se encontrarán estos valores y se aplicaran las restricciones lógicas para entender porqué están ahí esos valores duplicados y tomar una desición de que hacer con ellos, ya se eliminarlos, sumarlos, o ignorarlos.\n",
    " "
   ]
  },
  {
   "cell_type": "markdown",
   "id": "07357848-dc64-4156-9cc3-01ff4365226d",
   "metadata": {
    "id": "07357848-dc64-4156-9cc3-01ff4365226d"
   },
   "source": [
    "## Encuentra y elimina los valores duplicados (y describe cómo tomaste tus decisiones)."
   ]
  },
  {
   "cell_type": "markdown",
   "id": "f179f0a9",
   "metadata": {
    "id": "f179f0a9"
   },
   "source": [
    "### `orders` data frame"
   ]
  },
  {
   "cell_type": "code",
   "execution_count": 53,
   "id": "9dab7990",
   "metadata": {},
   "outputs": [
    {
     "name": "stdout",
     "output_type": "stream",
     "text": [
      "order_id                      0\n",
      "user_id                       0\n",
      "order_number                  0\n",
      "order_dow                     0\n",
      "order_hour_of_day             0\n",
      "days_since_prior_order    28819\n",
      "dtype: int64\n"
     ]
    }
   ],
   "source": [
    "# Se revisa primero los valores nulos de df_orders\n",
    "print(df_orders.isna().sum())"
   ]
  },
  {
   "cell_type": "code",
   "execution_count": 55,
   "id": "b99297a5-405a-463d-8535-9adc3da4ad74",
   "metadata": {
    "id": "b99297a5-405a-463d-8535-9adc3da4ad74"
   },
   "outputs": [
    {
     "name": "stdout",
     "output_type": "stream",
     "text": [
      "        order_id  user_id  order_number  order_dow  order_hour_of_day  \\\n",
      "145574    794638    50898            24          3                  2   \n",
      "223105   2160484   107525            16          3                  2   \n",
      "230807   1918001   188546            14          3                  2   \n",
      "266232   1782114   106752             1          3                  2   \n",
      "273805   1112182   202304            84          3                  2   \n",
      "284038   2845099    31189            11          3                  2   \n",
      "311713   1021560    53767             3          3                  2   \n",
      "321100    408114    68324             4          3                  2   \n",
      "323900   1919531   191501            32          3                  2   \n",
      "345917   2232988    82565             1          3                  2   \n",
      "371905    391768    57671            19          3                  2   \n",
      "394347    467134    63189            21          3                  2   \n",
      "411408   1286742   183220            48          3                  2   \n",
      "415163   2282673    86751            49          3                  2   \n",
      "441599   2125197    14050            48          3                  2   \n",
      "\n",
      "        days_since_prior_order  \n",
      "145574                     2.0  \n",
      "223105                    30.0  \n",
      "230807                    16.0  \n",
      "266232                     NaN  \n",
      "273805                     6.0  \n",
      "284038                     7.0  \n",
      "311713                     9.0  \n",
      "321100                    18.0  \n",
      "323900                     7.0  \n",
      "345917                     NaN  \n",
      "371905                    10.0  \n",
      "394347                     2.0  \n",
      "411408                     4.0  \n",
      "415163                     2.0  \n",
      "441599                     3.0  \n",
      "15\n"
     ]
    }
   ],
   "source": [
    "# Revisa si hay pedidos duplicados\n",
    "# Se imprimen los valores duplicados\n",
    "print(df_orders[df_orders.duplicated()])\n",
    "# Se impreme el numero de valores duplicados para corroborar\n",
    "print(df_orders.duplicated().sum())"
   ]
  },
  {
   "cell_type": "markdown",
   "id": "PEkwUX_gvt5A",
   "metadata": {
    "id": "PEkwUX_gvt5A"
   },
   "source": [
    "**Observaciones:**\n",
    "\n",
    "Se tienen 15 líneas duplicadas, todas hechas el día miércoles y a las 2am, algunos valores en la columna 'days_since_prior_order' están vacíos lo que se presupone como 0 dias transcurridos desde el pedido"
   ]
  },
  {
   "cell_type": "code",
   "execution_count": 58,
   "id": "0d44de5d",
   "metadata": {
    "id": "0d44de5d"
   },
   "outputs": [
    {
     "name": "stdout",
     "output_type": "stream",
     "text": [
      "        order_id  user_id  order_number  order_dow  order_hour_of_day  \\\n",
      "4838     2766110   162084            41          3                  2   \n",
      "5156     2190225   138285            18          3                  2   \n",
      "15506     553049    58599            13          3                  2   \n",
      "18420     382357   120200            19          3                  2   \n",
      "24691     690242    77357             2          3                  2   \n",
      "25376    1378085    75705            21          3                  2   \n",
      "26301    2846262   176827             2          3                  2   \n",
      "29129     353088    46038             4          3                  2   \n",
      "30371    1918001   188546            14          3                  2   \n",
      "31404    1725788   147843            10          3                  2   \n",
      "48024    1453300    69262            27          3                  2   \n",
      "52245    2851380   118608            33          3                  2   \n",
      "62357    1399416    93151            34          3                  2   \n",
      "68987    1761462   140562            36          3                  2   \n",
      "70443    2027608    15574             8          3                  2   \n",
      "74991     592699   175625             2          3                  2   \n",
      "77051    2800415   196070             3          3                  2   \n",
      "82460    1554296    39743            10          3                  2   \n",
      "94257    2429224   132282            29          3                  2   \n",
      "96232    1542137   136709            43          3                  2   \n",
      "97378    3226444   149996             3          3                  2   \n",
      "99462     794638    50898            24          3                  2   \n",
      "107581   2061573   113852            11          3                  2   \n",
      "108281   2218116    35918             9          3                  2   \n",
      "109466    851025   168387            54          3                  2   \n",
      "\n",
      "        days_since_prior_order  \n",
      "4838                      16.0  \n",
      "5156                      11.0  \n",
      "15506                      7.0  \n",
      "18420                     11.0  \n",
      "24691                      9.0  \n",
      "25376                      5.0  \n",
      "26301                     30.0  \n",
      "29129                     11.0  \n",
      "30371                     16.0  \n",
      "31404                     30.0  \n",
      "48024                      7.0  \n",
      "52245                     30.0  \n",
      "62357                      2.0  \n",
      "68987                      7.0  \n",
      "70443                     17.0  \n",
      "74991                     30.0  \n",
      "77051                     12.0  \n",
      "82460                      6.0  \n",
      "94257                     25.0  \n",
      "96232                      4.0  \n",
      "97378                     23.0  \n",
      "99462                      2.0  \n",
      "107581                    23.0  \n",
      "108281                     8.0  \n",
      "109466                    15.0  \n",
      "121\n"
     ]
    }
   ],
   "source": [
    "# de los hallazgos,\n",
    "# Verifica todos los pedidos que se hicieron el miércoles a las 2:00 a.m.\n",
    "wednesday_orders = df_orders[(df_orders['order_dow'] == 3) & (df_orders['order_hour_of_day'] == 2)]\n",
    "\n",
    "# Mostrar los resultados\n",
    "print(wednesday_orders.head(25))\n",
    "print(len(wednesday_orders))"
   ]
  },
  {
   "cell_type": "markdown",
   "id": "vu2OWyoqwOx5",
   "metadata": {
    "id": "vu2OWyoqwOx5"
   },
   "source": [
    "**Interpretación:**\n",
    "\n",
    "Puede sugerir que los pedidos hechos el miércoles a las 2 am tienden a duplicarse por algún motivo y tienen que ser revisados. "
   ]
  },
  {
   "cell_type": "code",
   "execution_count": 61,
   "id": "480563c7",
   "metadata": {
    "id": "480563c7"
   },
   "outputs": [
    {
     "name": "stdout",
     "output_type": "stream",
     "text": [
      "        order_id  user_id  order_number  order_dow  order_hour_of_day  \\\n",
      "0        1515936   183418            11          6                 13   \n",
      "1        1690866   163593             5          5                 12   \n",
      "2        1454967    39980             4          5                 19   \n",
      "3        1768857    82516            56          0                 20   \n",
      "4        3007858   196724             2          4                 12   \n",
      "...          ...      ...           ...        ...                ...   \n",
      "478962   3210681     5617             5          1                 14   \n",
      "478963   3270802   112087             2          3                 13   \n",
      "478964    885349    82944            16          2                 11   \n",
      "478965    216274     4391             3          3                  8   \n",
      "478966   2071924     1730            18          1                 14   \n",
      "\n",
      "        days_since_prior_order  \n",
      "0                         30.0  \n",
      "1                          9.0  \n",
      "2                          2.0  \n",
      "3                         10.0  \n",
      "4                         17.0  \n",
      "...                        ...  \n",
      "478962                     7.0  \n",
      "478963                     6.0  \n",
      "478964                     6.0  \n",
      "478965                     8.0  \n",
      "478966                    15.0  \n",
      "\n",
      "[478952 rows x 6 columns]\n"
     ]
    }
   ],
   "source": [
    "# Elimina los pedidos duplicados\n",
    "drop_duplicate_orders = df_orders.drop_duplicates()\n",
    "\n",
    "# Mostrar resultados\n",
    "print(drop_duplicate_orders)"
   ]
  },
  {
   "cell_type": "code",
   "execution_count": 154,
   "id": "0b2396a2",
   "metadata": {
    "id": "0b2396a2"
   },
   "outputs": [
    {
     "name": "stdout",
     "output_type": "stream",
     "text": [
      "Empty DataFrame\n",
      "Columns: [order_id, user_id, order_number, order_dow, order_hour_of_day, days_since_prior_order]\n",
      "Index: []\n"
     ]
    }
   ],
   "source": [
    "# Vuelve a verificar si hay filas duplicadas\n",
    "print(drop_duplicate_orders[drop_duplicate_orders.duplicated()])"
   ]
  },
  {
   "cell_type": "code",
   "execution_count": 155,
   "id": "f6113ef1",
   "metadata": {
    "id": "f6113ef1"
   },
   "outputs": [
    {
     "name": "stdout",
     "output_type": "stream",
     "text": [
      "Empty DataFrame\n",
      "Columns: [order_id, user_id, order_number, order_dow, order_hour_of_day, days_since_prior_order]\n",
      "Index: []\n"
     ]
    }
   ],
   "source": [
    "# Vuelve a verificar únicamente si hay IDs duplicados de pedidos\n",
    "print(drop_duplicate_orders[drop_duplicate_orders['order_id'].duplicated()])"
   ]
  },
  {
   "cell_type": "markdown",
   "id": "5e8905ae",
   "metadata": {
    "id": "5e8905ae"
   },
   "source": [
    "**Obervaciones:**\n",
    "\n",
    "Se encontraron 15 filas duplicadas para el día miércoles a las 2 am lo que puede implicar problemas al registrar los pedidos en estas fechas puede ser por actualizaciónes en los servidores,e etc... por lo que conviene revisar estas órdenes. Posteriormente se eliminaron para tener un dataframe más limpio."
   ]
  },
  {
   "cell_type": "markdown",
   "id": "45e6bc46",
   "metadata": {
    "id": "45e6bc46"
   },
   "source": [
    "### `products` data frame"
   ]
  },
  {
   "cell_type": "code",
   "execution_count": 156,
   "id": "49608519",
   "metadata": {},
   "outputs": [
    {
     "name": "stdout",
     "output_type": "stream",
     "text": [
      "product_id          0\n",
      "product_name     1258\n",
      "aisle_id            0\n",
      "department_id       0\n",
      "dtype: int64\n"
     ]
    }
   ],
   "source": [
    "# Se revisa primero los valores nulos de df_orders\n",
    "print(df_products.isna().sum())"
   ]
  },
  {
   "cell_type": "code",
   "execution_count": 157,
   "id": "5f526b5b-8175-46fa-a0fd-441767d50e64",
   "metadata": {
    "id": "5f526b5b-8175-46fa-a0fd-441767d50e64"
   },
   "outputs": [
    {
     "name": "stdout",
     "output_type": "stream",
     "text": [
      "Empty DataFrame\n",
      "Columns: [product_id, product_name, aisle_id, department_id]\n",
      "Index: []\n"
     ]
    }
   ],
   "source": [
    "# Verifica si hay filas totalmente duplicadas\n",
    "print(df_products[df_products.duplicated()])"
   ]
  },
  {
   "cell_type": "code",
   "execution_count": 158,
   "id": "88daa4f4",
   "metadata": {
    "id": "88daa4f4"
   },
   "outputs": [
    {
     "name": "stdout",
     "output_type": "stream",
     "text": [
      "       product_id                                     product_name  aisle_id  \\\n",
      "4               5                        Green Chile Anytime Sauce         5   \n",
      "6               7                   Pure Coconut Water With Orange        98   \n",
      "7               8                Cut Russet Potatoes Steam N' Mash       116   \n",
      "9              10   Sparkling Orange Juice & Prickly Pear Beverage       115   \n",
      "10             11                                Peach Mango Juice        31   \n",
      "...           ...                                              ...       ...   \n",
      "49689       49690                    HIGH PERFORMANCE ENERGY DRINK        64   \n",
      "49690       49691                    ORIGINAL PANCAKE & WAFFLE MIX       130   \n",
      "49691       49692  ORGANIC INSTANT OATMEAL LIGHT MAPLE BROWN SUGAR       130   \n",
      "49692       49693                           SPRING WATER BODY WASH       127   \n",
      "49693       49694                          BURRITO- STEAK & CHEESE        38   \n",
      "\n",
      "       department_id  \n",
      "4                 13  \n",
      "6                  7  \n",
      "7                  1  \n",
      "9                  7  \n",
      "10                 7  \n",
      "...              ...  \n",
      "49689              7  \n",
      "49690             14  \n",
      "49691             14  \n",
      "49692             11  \n",
      "49693              1  \n",
      "\n",
      "[49673 rows x 4 columns]\n"
     ]
    }
   ],
   "source": [
    "# Revisa únicamente si hay ID de departamentos duplicados\n",
    "print(df_products[df_products['department_id'].duplicated()])"
   ]
  },
  {
   "cell_type": "code",
   "execution_count": 159,
   "id": "c773f0bf",
   "metadata": {
    "id": "c773f0bf"
   },
   "outputs": [
    {
     "name": "stdout",
     "output_type": "stream",
     "text": [
      "       product_id                                     product_name  aisle_id  \\\n",
      "71             72                                              NaN       100   \n",
      "109           110                                              NaN       100   \n",
      "296           297                                              NaN       100   \n",
      "416           417                                              NaN       100   \n",
      "436           437                                              NaN       100   \n",
      "...           ...                                              ...       ...   \n",
      "49689       49690                    HIGH PERFORMANCE ENERGY DRINK        64   \n",
      "49690       49691                    ORIGINAL PANCAKE & WAFFLE MIX       130   \n",
      "49691       49692  ORGANIC INSTANT OATMEAL LIGHT MAPLE BROWN SUGAR       130   \n",
      "49692       49693                           SPRING WATER BODY WASH       127   \n",
      "49693       49694                          BURRITO- STEAK & CHEESE        38   \n",
      "\n",
      "       department_id  \n",
      "71                21  \n",
      "109               21  \n",
      "296               21  \n",
      "416               21  \n",
      "436               21  \n",
      "...              ...  \n",
      "49689              7  \n",
      "49690             14  \n",
      "49691             14  \n",
      "49692             11  \n",
      "49693              1  \n",
      "\n",
      "[1361 rows x 4 columns]\n"
     ]
    }
   ],
   "source": [
    "# Revisa únicamente si hay nombres duplicados de productos (convierte los nombres a letras mayúsculas para compararlos mejor)\n",
    "print(df_products[df_products['product_name'].str.upper().duplicated()])"
   ]
  },
  {
   "cell_type": "code",
   "execution_count": 160,
   "id": "01efd02e",
   "metadata": {
    "id": "01efd02e"
   },
   "outputs": [
    {
     "name": "stdout",
     "output_type": "stream",
     "text": [
      "       product_id                                     product_name  aisle_id  \\\n",
      "2058         2059                                  Biotin 1000 Mcg        47   \n",
      "5455         5456                 Green Tea With Ginseng and Honey        96   \n",
      "5558         5559                           Cream Of Mushroom Soup        69   \n",
      "7558         7559                        Cinnamon Rolls with Icing       105   \n",
      "9037         9038                           American Cheese slices        21   \n",
      "...           ...                                              ...       ...   \n",
      "49689       49690                    HIGH PERFORMANCE ENERGY DRINK        64   \n",
      "49690       49691                    ORIGINAL PANCAKE & WAFFLE MIX       130   \n",
      "49691       49692  ORGANIC INSTANT OATMEAL LIGHT MAPLE BROWN SUGAR       130   \n",
      "49692       49693                           SPRING WATER BODY WASH       127   \n",
      "49693       49694                          BURRITO- STEAK & CHEESE        38   \n",
      "\n",
      "       department_id  \n",
      "2058              11  \n",
      "5455              20  \n",
      "5558              15  \n",
      "7558              13  \n",
      "9037              16  \n",
      "...              ...  \n",
      "49689              7  \n",
      "49690             14  \n",
      "49691             14  \n",
      "49692             11  \n",
      "49693              1  \n",
      "\n",
      "[104 rows x 4 columns]\n"
     ]
    }
   ],
   "source": [
    "# Revisa si hay nombres duplicados de productos no faltantes\n",
    "nonmissing_products=df_products[~df_products['product_name'].isna()]\n",
    "print(nonmissing_products[nonmissing_products['product_name'].str.upper().duplicated()])"
   ]
  },
  {
   "cell_type": "markdown",
   "id": "9da8d293",
   "metadata": {
    "id": "9da8d293"
   },
   "source": [
    "**Observaciones:**\n",
    "1. No hay filas duplicadas pero hay dos columnas con datos duplicados que había que analizar.\n",
    "2. \"department_id\" tiene 49673 datos duplicados, lo que no afecta el análisis.\n",
    "3. \"product_name\" tiene 1361 datos duplicados, estos nombres se pusieron en mayúsculas para una mejor compración.\n",
    "4. Después se filtraron los nombres de productos duplicados no faltantes lo cuales son 104, pocos a comparación con los de datos faltantes. Podríamos decir que estos productos se encuentran en varios departamentos o tal vez hasta pasillos"
   ]
  },
  {
   "cell_type": "markdown",
   "id": "60f30db1",
   "metadata": {
    "id": "60f30db1"
   },
   "source": [
    "### `departments` data frame"
   ]
  },
  {
   "cell_type": "code",
   "execution_count": 161,
   "id": "e967385a",
   "metadata": {},
   "outputs": [
    {
     "name": "stdout",
     "output_type": "stream",
     "text": [
      "department_id    0\n",
      "department       0\n",
      "dtype: int64\n"
     ]
    }
   ],
   "source": [
    "# Se revisa primero los valores nulos de df_orders\n",
    "print(df_departments.isna().sum())"
   ]
  },
  {
   "cell_type": "code",
   "execution_count": 162,
   "id": "fb410ad4-0fbf-4b80-bb09-23fdea79afe3",
   "metadata": {
    "id": "fb410ad4-0fbf-4b80-bb09-23fdea79afe3"
   },
   "outputs": [
    {
     "name": "stdout",
     "output_type": "stream",
     "text": [
      "Empty DataFrame\n",
      "Columns: [department_id, department]\n",
      "Index: []\n",
      "0\n"
     ]
    }
   ],
   "source": [
    "# Revisa si hay filas totalmente duplicadas\n",
    "print(df_departments[df_departments.duplicated()])\n",
    "print(df_departments.duplicated().sum())"
   ]
  },
  {
   "cell_type": "code",
   "execution_count": 163,
   "id": "332b12bb",
   "metadata": {
    "id": "332b12bb"
   },
   "outputs": [
    {
     "name": "stdout",
     "output_type": "stream",
     "text": [
      "Empty DataFrame\n",
      "Columns: [department_id, department]\n",
      "Index: []\n",
      "Empty DataFrame\n",
      "Columns: [department_id, department]\n",
      "Index: []\n"
     ]
    }
   ],
   "source": [
    "# Revisa únicamente si hay IDs duplicadas de productos\n",
    "print(df_departments[df_departments['department_id'].duplicated()])\n",
    "print(df_departments[df_departments['department'].duplicated()])"
   ]
  },
  {
   "cell_type": "markdown",
   "id": "bd30d78e",
   "metadata": {
    "id": "bd30d78e"
   },
   "source": [
    "**Observaciones:**\n",
    "\n",
    "Este dataframe se analizó y no cuenta con datos duplicados ni en sus filas ni en sus columnas, tampoco cuenta con valores nulos"
   ]
  },
  {
   "cell_type": "markdown",
   "id": "889349c1",
   "metadata": {
    "id": "889349c1"
   },
   "source": [
    "### `aisles` data frame"
   ]
  },
  {
   "cell_type": "code",
   "execution_count": 164,
   "id": "6789e250",
   "metadata": {},
   "outputs": [
    {
     "name": "stdout",
     "output_type": "stream",
     "text": [
      "aisle_id    0\n",
      "aisle       0\n",
      "dtype: int64\n"
     ]
    }
   ],
   "source": [
    "# Se revisa primero los valores nulos de df_orders\n",
    "print(df_aisles.isna().sum())"
   ]
  },
  {
   "cell_type": "code",
   "execution_count": 165,
   "id": "9da89fb9-4679-40f5-ad0d-c34df753a3f8",
   "metadata": {
    "id": "9da89fb9-4679-40f5-ad0d-c34df753a3f8"
   },
   "outputs": [
    {
     "name": "stdout",
     "output_type": "stream",
     "text": [
      "Empty DataFrame\n",
      "Columns: [aisle_id, aisle]\n",
      "Index: []\n",
      "0\n"
     ]
    }
   ],
   "source": [
    "# Revisa si hay filas totalmente duplicadas\n",
    "print(df_aisles[df_aisles.duplicated()])\n",
    "print(df_aisles.duplicated().sum())"
   ]
  },
  {
   "cell_type": "code",
   "execution_count": 166,
   "id": "da7c2822",
   "metadata": {
    "id": "da7c2822"
   },
   "outputs": [
    {
     "name": "stdout",
     "output_type": "stream",
     "text": [
      "Empty DataFrame\n",
      "Columns: [aisle_id, aisle]\n",
      "Index: []\n"
     ]
    }
   ],
   "source": [
    "# Revisa únicamente si hay IDs duplicadas de productos\n",
    "print(df_aisles[df_aisles['aisle_id'].duplicated()])"
   ]
  },
  {
   "cell_type": "markdown",
   "id": "ac63826f",
   "metadata": {
    "id": "ac63826f"
   },
   "source": [
    "**Observaciones:**\n",
    "\n",
    "Este dataframe se analizó y no cuenta con datos duplicados ni en sus filas ni en sus columnas, tampoco cuenta con valores nulos"
   ]
  },
  {
   "cell_type": "markdown",
   "id": "274cd06a",
   "metadata": {
    "id": "274cd06a"
   },
   "source": [
    "### `order_products` data frame"
   ]
  },
  {
   "cell_type": "code",
   "execution_count": 167,
   "id": "f5d2d044",
   "metadata": {},
   "outputs": [
    {
     "name": "stdout",
     "output_type": "stream",
     "text": [
      "order_id               0\n",
      "product_id             0\n",
      "add_to_cart_order    836\n",
      "reordered              0\n",
      "dtype: int64\n"
     ]
    }
   ],
   "source": [
    "# Se revisa primero los valores nulos de df_orders\n",
    "print(df_order_products.isna().sum())"
   ]
  },
  {
   "cell_type": "code",
   "execution_count": 168,
   "id": "52326689-84a8-4b8f-a881-7c68780f62c9",
   "metadata": {
    "id": "52326689-84a8-4b8f-a881-7c68780f62c9"
   },
   "outputs": [
    {
     "name": "stdout",
     "output_type": "stream",
     "text": [
      "Empty DataFrame\n",
      "Columns: [order_id, product_id, add_to_cart_order, reordered]\n",
      "Index: []\n",
      "0\n"
     ]
    }
   ],
   "source": [
    "# Revisa si hay filas totalmente duplicadas\n",
    "print(df_order_products[df_order_products.duplicated()])\n",
    "print(df_order_products.duplicated().sum())"
   ]
  },
  {
   "cell_type": "code",
   "execution_count": 169,
   "id": "7b861391",
   "metadata": {
    "id": "7b861391"
   },
   "outputs": [
    {
     "name": "stdout",
     "output_type": "stream",
     "text": [
      "450046\n",
      "45573\n",
      "65\n",
      "2\n",
      "Número de filas duplicadas exactas: 0\n",
      "Número de duplicados en la combinación de 'order_id' y 'product_id': 0\n"
     ]
    }
   ],
   "source": [
    "# Vuelve a verificar si hay cualquier otro duplicado engañoso\n",
    "\n",
    "# Buscamos los valores unicos por columna\n",
    "for column in df_order_products:\n",
    "    print(len(df_order_products[column].unique()))\n",
    "    \n",
    "# Verificar duplicados exactos\n",
    "exact_duplicates = df_order_products[df_order_products.duplicated()]\n",
    "\n",
    "# Verificar duplicados basados en la combinación de 'order_id' y 'product_id'\n",
    "combination_duplicates = df_order_products[df_order_products.duplicated(subset=['order_id', 'product_id'])]\n",
    "\n",
    "# Mostrar resultados\n",
    "print(f\"Número de filas duplicadas exactas: {exact_duplicates.shape[0]}\")\n",
    "print(f\"Número de duplicados en la combinación de 'order_id' y 'product_id': {combination_duplicates.shape[0]}\")"
   ]
  },
  {
   "cell_type": "markdown",
   "id": "0b890492",
   "metadata": {
    "id": "0b890492"
   },
   "source": [
    "**Observaciones:**\n",
    "\n",
    "Al analizar la naturaleza de los datos en este dataframe, es importante observar duplicados en las columnas 'order_id', 'product_id' ni una combinación entre ellas, también me pareció curioso de primera instancia observar el número de valores unicos por columna y los resultados fueron negativos para duplicados, lo que nos indica que no hay más que hacer en el preprocesamiento para este dataframe."
   ]
  },
  {
   "cell_type": "markdown",
   "id": "1e46de76",
   "metadata": {
    "id": "1e46de76"
   },
   "source": [
    "## Encuentra y elimina los valores ausentes\n",
    "\n",
    "Al trabajar con valores duplicados, pudimos observar que también nos falta investigar valores ausentes:\n",
    "\n",
    "* La columna `'product_name'` de la tabla products.\n",
    "* La columna `'days_since_prior_order'` de la tabla orders.\n",
    "* La columna `'add_to_cart_order'` de la tabla order_productos."
   ]
  },
  {
   "cell_type": "markdown",
   "id": "c0aebd78",
   "metadata": {
    "id": "c0aebd78"
   },
   "source": [
    "### `products` data frame"
   ]
  },
  {
   "cell_type": "code",
   "execution_count": 170,
   "id": "fe4a8b0f",
   "metadata": {
    "id": "fe4a8b0f"
   },
   "outputs": [
    {
     "name": "stdout",
     "output_type": "stream",
     "text": [
      "       product_id product_name  aisle_id  department_id\n",
      "37             38          NaN       100             21\n",
      "71             72          NaN       100             21\n",
      "109           110          NaN       100             21\n",
      "296           297          NaN       100             21\n",
      "416           417          NaN       100             21\n",
      "...           ...          ...       ...            ...\n",
      "49552       49553          NaN       100             21\n",
      "49574       49575          NaN       100             21\n",
      "49640       49641          NaN       100             21\n",
      "49663       49664          NaN       100             21\n",
      "49668       49669          NaN       100             21\n",
      "\n",
      "[1258 rows x 4 columns]\n"
     ]
    }
   ],
   "source": [
    "# Encuentra los valores ausentes en la columna 'product_name'\n",
    "#print(df_products[(df_products['product_name'].isna()) & (df_products['aisle_id']==100) & (df_products['department_id']==21)])\n",
    "print(df_products[df_products['product_name'].isna()])"
   ]
  },
  {
   "cell_type": "markdown",
   "id": "-A6x1AbJhjkp",
   "metadata": {
    "id": "-A6x1AbJhjkp"
   },
   "source": [
    "**Observaciones:**\n",
    "\n",
    "El dataframe impresó nos dice que a primera vista, al parecer los 1258 valores nulos de 'product_name' estan en valores de 'aisle_id'=100 y 'department_id'=21, se debe corroborar esta hipótesis"
   ]
  },
  {
   "cell_type": "code",
   "execution_count": 171,
   "id": "e96167bc",
   "metadata": {
    "id": "e96167bc"
   },
   "outputs": [
    {
     "name": "stdout",
     "output_type": "stream",
     "text": [
      "       product_id product_name  aisle_id  department_id\n",
      "37             38          NaN       100             21\n",
      "71             72          NaN       100             21\n",
      "109           110          NaN       100             21\n",
      "296           297          NaN       100             21\n",
      "416           417          NaN       100             21\n",
      "...           ...          ...       ...            ...\n",
      "49552       49553          NaN       100             21\n",
      "49574       49575          NaN       100             21\n",
      "49640       49641          NaN       100             21\n",
      "49663       49664          NaN       100             21\n",
      "49668       49669          NaN       100             21\n",
      "\n",
      "[1258 rows x 4 columns]\n"
     ]
    }
   ],
   "source": [
    "#  ¿Todos los nombres de productos ausentes están relacionados con el pasillo con ID 100?\n",
    "print(df_products[(df_products['product_name'].isna()) & (df_products['aisle_id']==100)])"
   ]
  },
  {
   "cell_type": "markdown",
   "id": "1c325bca",
   "metadata": {},
   "source": [
    "Después del resultado anterior que es el mismo al encontrar valores ausentes podemos responder que sí, todos los nombres de productos ausentes están relocionados con el pasillo con ID 100"
   ]
  },
  {
   "cell_type": "markdown",
   "id": "WRpIfXRphpSL",
   "metadata": {
    "id": "WRpIfXRphpSL"
   },
   "source": [
    "**Observaciones:**\n",
    "\n",
    "La primera hipótesis se confirma los 1258 valores nulos de 'product_name' estan en valores de 'aisle_id'=100"
   ]
  },
  {
   "cell_type": "code",
   "execution_count": 172,
   "id": "8fd0a541",
   "metadata": {
    "id": "8fd0a541"
   },
   "outputs": [
    {
     "name": "stdout",
     "output_type": "stream",
     "text": [
      "       product_id product_name  aisle_id  department_id\n",
      "37             38          NaN       100             21\n",
      "71             72          NaN       100             21\n",
      "109           110          NaN       100             21\n",
      "296           297          NaN       100             21\n",
      "416           417          NaN       100             21\n",
      "...           ...          ...       ...            ...\n",
      "49552       49553          NaN       100             21\n",
      "49574       49575          NaN       100             21\n",
      "49640       49641          NaN       100             21\n",
      "49663       49664          NaN       100             21\n",
      "49668       49669          NaN       100             21\n",
      "\n",
      "[1258 rows x 4 columns]\n"
     ]
    }
   ],
   "source": [
    "# ¿Todos los nombres de productos ausentes están relacionados con el departamento con ID 21?\n",
    "print(df_products[(df_products['product_name'].isna()) & (df_products['department_id']==21)])"
   ]
  },
  {
   "cell_type": "markdown",
   "id": "qDpdYn1Fht_I",
   "metadata": {
    "id": "qDpdYn1Fht_I"
   },
   "source": [
    "**Observaciones:**\n",
    "\n",
    "Después del resultado anterior que es el mismo al encontrar valores ausentes podemos responder que sí, todos los nombres de productos ausentes están relocionados con el departamente de ID 21 ya que también tienen las mismas dimensiones que el primero"
   ]
  },
  {
   "cell_type": "code",
   "execution_count": 173,
   "id": "325c3464",
   "metadata": {
    "id": "325c3464"
   },
   "outputs": [
    {
     "name": "stdout",
     "output_type": "stream",
     "text": [
      "       product_id product_name  aisle_id  department_id\n",
      "37             38          NaN       100             21\n",
      "71             72          NaN       100             21\n",
      "109           110          NaN       100             21\n",
      "296           297          NaN       100             21\n",
      "416           417          NaN       100             21\n",
      "...           ...          ...       ...            ...\n",
      "49552       49553          NaN       100             21\n",
      "49574       49575          NaN       100             21\n",
      "49640       49641          NaN       100             21\n",
      "49663       49664          NaN       100             21\n",
      "49668       49669          NaN       100             21\n",
      "\n",
      "[1258 rows x 4 columns]\n"
     ]
    }
   ],
   "source": [
    "# Usa las tablas department y aisle para revisar los datos del pasillo con ID 100 y el departamento con ID 21.\n",
    "print(df_products[(df_products['aisle_id']==100) & (df_products['department_id']==21)])"
   ]
  },
  {
   "cell_type": "markdown",
   "id": "nqhSTUPhhvEJ",
   "metadata": {
    "id": "nqhSTUPhhvEJ"
   },
   "source": [
    "Describe brevemente cuáles son tus hallazgos. Se cumplen las dos hipótesis con el último dataframe mostrado"
   ]
  },
  {
   "cell_type": "code",
   "execution_count": 174,
   "id": "6b295120",
   "metadata": {
    "id": "6b295120"
   },
   "outputs": [
    {
     "name": "stdout",
     "output_type": "stream",
     "text": [
      "0\n"
     ]
    }
   ],
   "source": [
    "# Completa los nombres de productos ausentes con 'Unknown'\n",
    "df_products['product_name'].fillna(\"Unknown\",inplace=True)\n",
    "# Mostramos los valores nulos en el dataframe corregido\n",
    "print(df_products['product_name'].isna().sum())"
   ]
  },
  {
   "cell_type": "markdown",
   "id": "fc70e5ad",
   "metadata": {
    "id": "fc70e5ad"
   },
   "source": [
    "**Observaciones:**\n",
    "\n",
    "Se calcularon los datos nulos de la columna 'product_name' y se reemplezaron con 'Unknown' y se comprobó reimprimiendo el número de valores nulos"
   ]
  },
  {
   "cell_type": "markdown",
   "id": "7eb45c86",
   "metadata": {
    "id": "7eb45c86"
   },
   "source": [
    "### `orders` data frame"
   ]
  },
  {
   "cell_type": "code",
   "execution_count": 175,
   "id": "93e41d96",
   "metadata": {
    "id": "93e41d96"
   },
   "outputs": [
    {
     "name": "stdout",
     "output_type": "stream",
     "text": [
      "order_id                      0\n",
      "user_id                       0\n",
      "order_number                  0\n",
      "order_dow                     0\n",
      "order_hour_of_day             0\n",
      "days_since_prior_order    28819\n",
      "dtype: int64\n"
     ]
    }
   ],
   "source": [
    "# Encuentra los valores ausentes\n",
    "print(df_orders.isna().sum())"
   ]
  },
  {
   "cell_type": "code",
   "execution_count": 176,
   "id": "166e5a86",
   "metadata": {
    "id": "166e5a86"
   },
   "outputs": [
    {
     "name": "stdout",
     "output_type": "stream",
     "text": [
      "        order_id  user_id  order_number  order_dow  order_hour_of_day  \\\n",
      "28        133707   182261             1          3                 10   \n",
      "96        787445    25685             1          6                 18   \n",
      "100       294410   111449             1          0                 19   \n",
      "103      2869915   123958             1          4                 16   \n",
      "104      2521921    42286             1          3                 18   \n",
      "...          ...      ...           ...        ...                ...   \n",
      "478895   2589657   205028             1          0                 16   \n",
      "478896   2222353   141211             1          2                 13   \n",
      "478922   2272807   204154             1          1                 15   \n",
      "478926   2499542    68810             1          4                 19   \n",
      "478945   1387033    22496             1          5                 14   \n",
      "\n",
      "        days_since_prior_order  \n",
      "28                         NaN  \n",
      "96                         NaN  \n",
      "100                        NaN  \n",
      "103                        NaN  \n",
      "104                        NaN  \n",
      "...                        ...  \n",
      "478895                     NaN  \n",
      "478896                     NaN  \n",
      "478922                     NaN  \n",
      "478926                     NaN  \n",
      "478945                     NaN  \n",
      "\n",
      "[28819 rows x 6 columns]\n"
     ]
    }
   ],
   "source": [
    "# ¿Hay algún valor ausente que no sea el primer pedido del cliente?\n",
    "print(df_orders[(df_orders['days_since_prior_order'].isna()) & (df_orders['order_number']==1)])\n"
   ]
  },
  {
   "cell_type": "markdown",
   "id": "4e23d089",
   "metadata": {
    "id": "4e23d089"
   },
   "source": [
    "**Observaciones:**\n",
    "\n",
    "Se imprimieron los valores nulos que coinciden con el primer pedido y tiene el mismo tamaño que el número de valores nulos, por lo que se confirma que todos los valores nulos estan en la primera orden."
   ]
  },
  {
   "cell_type": "markdown",
   "id": "69dc9ca4",
   "metadata": {
    "id": "69dc9ca4"
   },
   "source": [
    "### `order_products` data frame"
   ]
  },
  {
   "cell_type": "code",
   "execution_count": 177,
   "id": "b8240253",
   "metadata": {
    "id": "b8240253"
   },
   "outputs": [
    {
     "name": "stdout",
     "output_type": "stream",
     "text": [
      "order_id               0\n",
      "product_id             0\n",
      "add_to_cart_order    836\n",
      "reordered              0\n",
      "dtype: int64\n"
     ]
    }
   ],
   "source": [
    "# Encuentra los valores ausentes\n",
    "print(df_order_products.isna().sum())"
   ]
  },
  {
   "cell_type": "code",
   "execution_count": 178,
   "id": "9a78e5ee",
   "metadata": {
    "id": "9a78e5ee"
   },
   "outputs": [
    {
     "name": "stdout",
     "output_type": "stream",
     "text": [
      "El valor máximo en add_to_cart_order es: 64.0\n",
      "El valor mínimo en add_to_cart_order es: 1.0\n"
     ]
    }
   ],
   "source": [
    "# ¿Cuáles son los valores mínimos y máximos en esta columna?\n",
    "print('El valor máximo en add_to_cart_order es:', df_order_products['add_to_cart_order'].max(axis=0))\n",
    "print('El valor mínimo en add_to_cart_order es:', df_order_products['add_to_cart_order'].min(axis=0))"
   ]
  },
  {
   "cell_type": "markdown",
   "id": "-Z2Ja215jW78",
   "metadata": {
    "id": "-Z2Ja215jW78"
   },
   "source": [
    "**Observaciones:**\n",
    "\n",
    "Hay 836 valores nulos en la columna 'add_to_cart_order' y el valor máximo es de 64 y el mínimo de 1, puede ser que los valores nulos sean porque las órdenes no pasaron por el carrito o que fueron tantas órdenes que se registraron como valor nulo."
   ]
  },
  {
   "cell_type": "code",
   "execution_count": 179,
   "id": "ab9d0c2b",
   "metadata": {
    "id": "ab9d0c2b"
   },
   "outputs": [
    {
     "name": "stdout",
     "output_type": "stream",
     "text": [
      "737        2449164\n",
      "9926       1968313\n",
      "14394      2926893\n",
      "16418      1717990\n",
      "30114      1959075\n",
      "            ...   \n",
      "4505662    1800005\n",
      "4511400    1633337\n",
      "4517562     404157\n",
      "4534112    1673227\n",
      "4535739    1832957\n",
      "Name: order_id, Length: 836, dtype: int64\n",
      "[2449164, 1968313, 2926893, 1717990, 1959075, 844733, 61355, 936852, 264710, 1717990, 1564093, 129627, 264710, 293169, 2849370, 1386261, 3308010, 903110, 2136777, 3347453, 1888628, 165801, 2449164, 2094761, 3347453, 1038146, 2136777, 2997021, 844733, 844733, 2136777, 813364, 165801, 2256933, 171934, 264710, 2449164, 2409109, 3347453, 813364, 2926893, 936852, 1730767, 1169835, 733526, 844733, 293169, 61355, 903110, 1968313, 733526, 2136777, 2926893, 404157, 1386261, 171934, 3125735, 747668, 3308010, 1169835, 1800005, 1961723, 936852, 2849370, 3308010, 61355, 871281, 1717990, 813364, 388234, 61355, 3125735, 1959075, 61355, 3125735, 1648217, 171934, 3125735, 61355, 1477139, 1959075, 1717990, 1717990, 61355, 1717990, 171934, 1038146, 3308010, 3347453, 102236, 936852, 171934, 1730767, 2926893, 1021563, 1832957, 1959075, 2256933, 1968313, 2721963, 293169, 102236, 3125735, 1959075, 264710, 678116, 1220886, 1386261, 171934, 1959075, 61355, 3308010, 61355, 102236, 388234, 171934, 3308010, 1961723, 2721963, 3308010, 1564093, 264710, 404157, 1673227, 813364, 2094761, 844733, 1386261, 1959075, 3125735, 61355, 102236, 3308010, 1386261, 936852, 2999801, 1038146, 1888628, 813364, 1800005, 1968313, 3308010, 2449164, 388234, 3125735, 102236, 903110, 1832957, 102236, 3308010, 2926893, 388234, 1800005, 2094761, 2721963, 844733, 2136777, 2926893, 813364, 2136777, 1673227, 1633337, 1021563, 102236, 1800005, 1477139, 2470674, 1220886, 2470674, 1648217, 264710, 1832957, 2721963, 2849370, 2625444, 871281, 1717990, 1220886, 1677118, 1730767, 1730767, 678116, 102236, 2136777, 61355, 2136777, 903110, 844733, 2849370, 1832957, 1730767, 2479011, 3383594, 61355, 1832957, 1021563, 1021563, 1959075, 1832957, 813364, 61355, 61355, 2926893, 1959075, 1648217, 2136777, 264710, 1800005, 2094761, 2926893, 1959075, 264710, 61355, 3308010, 2256933, 936852, 3308010, 1038146, 1183255, 2256933, 1832957, 1386261, 1713430, 1730767, 2136777, 3308010, 1717990, 171934, 1968313, 1717990, 2136777, 1648217, 1968313, 2652650, 733526, 1673227, 2849370, 61355, 3308010, 1169835, 3308010, 171934, 2999801, 1717990, 1386261, 936852, 1968313, 1713430, 1800005, 2136777, 264710, 264710, 2926893, 165801, 1598369, 2997021, 1730767, 61355, 1916118, 1730767, 3308010, 2479011, 2449164, 61355, 3125735, 2094761, 1888628, 3125735, 264710, 171934, 1800005, 1038146, 1959075, 102236, 3308010, 1386261, 1800005, 2470674, 2926893, 2470674, 102236, 3308010, 1717990, 903110, 2997021, 129627, 3383594, 3308010, 1386261, 854647, 102236, 1038146, 3308010, 936852, 264710, 264710, 1800005, 61355, 1220886, 2136777, 293169, 1800005, 1888628, 813364, 2136777, 61355, 1730767, 1021563, 2721963, 1730767, 1564093, 3308010, 2849370, 3308010, 1302315, 1888628, 61355, 1959075, 61355, 2136777, 733526, 3308010, 1730767, 1183255, 264710, 1730767, 678116, 2721963, 2136777, 3308010, 2721963, 2409109, 871281, 171934, 678116, 2849370, 813364, 3125735, 1730767, 61355, 2999801, 1648217, 936852, 3125735, 61355, 2849370, 1220886, 1959075, 2256933, 171934, 2926893, 2926893, 404157, 2136777, 3308010, 1021563, 404157, 171934, 61355, 2094761, 1832957, 293169, 813364, 293169, 3125735, 1021563, 1800005, 3308010, 936852, 264710, 171934, 888470, 1673227, 871281, 1800005, 3308010, 1730767, 180546, 2621907, 1730767, 936852, 1959075, 1169835, 1730767, 2926893, 854647, 2449164, 3308010, 2470674, 1183255, 61355, 1386261, 903110, 2094761, 903110, 264710, 1648217, 293169, 2479011, 1730767, 1730767, 2926893, 61355, 3125735, 1959075, 2409109, 2926893, 1021563, 1386261, 3308010, 2926893, 1800005, 61355, 2449164, 102236, 3308010, 1308785, 1800005, 2926893, 61355, 2136777, 1717990, 3308010, 1730767, 871281, 1673227, 102236, 2136777, 1717990, 813364, 1800005, 1959075, 813364, 165801, 2136777, 2729254, 1673227, 1961723, 61355, 1183255, 2136777, 1302315, 1386261, 2849370, 171934, 2136777, 3308010, 733526, 1959075, 9310, 813364, 2170451, 1800005, 404157, 871281, 3125735, 2721963, 404157, 129627, 678116, 2926893, 264710, 2256933, 102236, 102236, 1021563, 264710, 2926893, 936852, 102236, 1968313, 936852, 293169, 2136777, 2136777, 61355, 1183255, 1730767, 1800005, 2479011, 1386261, 1800005, 1673227, 3308010, 2926893, 2926893, 61355, 1832957, 1717990, 813364, 2999801, 264710, 3308010, 3347453, 3308010, 936852, 813364, 404157, 171934, 903110, 871281, 102236, 61355, 813364, 102236, 3308010, 1800005, 1832957, 2479011, 171934, 171934, 844733, 3308010, 171934, 1800005, 404157, 1673227, 3383594, 3308010, 2136777, 102236, 1717990, 2094761, 102236, 1959075, 171934, 2136777, 1386261, 2136777, 2449164, 171934, 3308010, 1220886, 2136777, 1959075, 2136777, 171934, 936852, 3308010, 2470674, 871281, 2721963, 102236, 61355, 3125735, 3308010, 1386261, 1717990, 293169, 61355, 1386261, 2721963, 2136777, 1888628, 264710, 1564093, 2136777, 1730767, 2849370, 2721963, 293169, 264710, 2721963, 3125735, 1959075, 404157, 171934, 61355, 1959075, 871281, 61355, 1183255, 1673227, 2849370, 1477139, 1730767, 903110, 844733, 3308010, 1673227, 61355, 171934, 2926893, 2926893, 1959075, 2479011, 3347453, 2721963, 2625444, 171934, 813364, 102236, 61355, 844733, 2721963, 1302315, 813364, 61355, 2926893, 1968313, 1968313, 264710, 1717990, 1730767, 2136777, 2721963, 2136777, 2721963, 171934, 171934, 2979697, 1730767, 1888628, 1625713, 2136777, 1800005, 2094761, 1961723, 1564093, 1959075, 1916118, 61355, 2997021, 293169, 3308010, 1529171, 61355, 2256933, 1959075, 2449164, 1673227, 2479011, 1888628, 1800005, 2470674, 1386261, 3125735, 2721963, 2926893, 1800005, 1386261, 2136777, 61355, 171934, 3308010, 61355, 936852, 61355, 936852, 293169, 1386261, 171934, 1800005, 871281, 3125735, 61355, 1959075, 1968313, 1717990, 3308010, 844733, 129627, 844733, 264710, 165801, 1386261, 2136777, 2721963, 1730767, 3125735, 2136777, 1183255, 171934, 936852, 854647, 1386261, 2926893, 1961723, 61355, 1730767, 1633337, 61355, 1959075, 102236, 404157, 1968313, 1386261, 2136777, 2999801, 1529171, 2721963, 61355, 3383594, 1730767, 936852, 2926893, 102236, 1959075, 102236, 1713430, 3383594, 102236, 1959075, 678116, 2449164, 844733, 61355, 3308010, 61355, 2136777, 264710, 171934, 813364, 3308010, 1730767, 61355, 102236, 61355, 1717990, 3308010, 1968313, 129627, 936852, 61355, 61355, 165801, 2409109, 2926893, 61355, 1961723, 1832957, 1961723, 1183255, 61355, 2999801, 1220886, 3125735, 171934, 388234, 102236, 102236, 61355, 2721963, 1800005, 1968313, 2136777, 61355, 1220886, 61355, 936852, 1673227, 936852, 1673227, 1625713, 171934, 2136777, 1800005, 1730767, 264710, 102236, 61355, 903110, 2136777, 1959075, 3125735, 171934, 1169835, 3308010, 61355, 1959075, 2721963, 813364, 1477139, 1888628, 1730767, 1959075, 2479011, 3308010, 2721963, 1717990, 2409109, 171934, 171934, 1183255, 1800005, 171934, 2136777, 388234, 264710, 61355, 1730767, 1717990, 1916118, 264710, 3125735, 1959075, 813364, 3347453, 293169, 171934, 1386261, 1183255, 1717990, 1308785, 2625444, 171934, 102236, 1386261, 1968313, 1386261, 404157, 1959075, 1832957, 1961723, 936852, 1386261, 2449164, 171934, 1959075, 2449164, 180546, 1183255, 1386261, 1968313, 2136777, 3308010, 2479011, 2979697, 1888628, 1832957, 1961723, 1800005, 1633337, 404157, 1673227, 1832957]\n"
     ]
    }
   ],
   "source": [
    "# Guarda todas las IDs de pedidos que tengan un valor ausente en 'add_to_cart_order'\n",
    "ids_nan=df_order_products['order_id'][df_order_products['add_to_cart_order'].isna()]\n",
    "print(ids_nan)\n",
    "\n",
    "# O también\n",
    "\n",
    "missing_add_to_cart_order = df_order_products[df_order_products['add_to_cart_order'].isna()]\n",
    "\n",
    "# Guardar las IDs de pedidos que tienen valores ausentes en 'add_to_cart_order'\n",
    "order_ids_with_missing_add_to_cart_order = missing_add_to_cart_order['order_id'].tolist()\n",
    "print(order_ids_with_missing_add_to_cart_order)"
   ]
  },
  {
   "cell_type": "code",
   "execution_count": 180,
   "id": "0c82aec6",
   "metadata": {},
   "outputs": [
    {
     "name": "stdout",
     "output_type": "stream",
     "text": [
      "65\n"
     ]
    }
   ],
   "source": [
    "# Este código sólo sirve para comprobar las veces que se repite el numero de 'order_id' en toda la columna\n",
    "count=0\n",
    "for n in df_order_products['order_id']:\n",
    "    if n==9310:\n",
    "        count=count+1\n",
    "print(count)"
   ]
  },
  {
   "cell_type": "code",
   "execution_count": 181,
   "id": "54c31695",
   "metadata": {
    "id": "54c31695"
   },
   "outputs": [
    {
     "name": "stdout",
     "output_type": "stream",
     "text": [
      "[2449164 1968313 2926893 1717990 1959075  844733   61355  936852  264710\n",
      " 1564093  129627  293169 2849370 1386261 3308010  903110 2136777 3347453\n",
      " 1888628  165801 2094761 1038146 2997021  813364 2256933  171934 2409109\n",
      " 1730767 1169835  733526  404157 3125735  747668 1800005 1961723  871281\n",
      "  388234 1648217 1477139  102236 1021563 1832957 2721963  678116 1220886\n",
      " 1673227 2999801 1633337 2470674 2625444 1677118 2479011 3383594 1183255\n",
      " 1713430 2652650 1598369 1916118  854647 1302315  888470  180546 2621907\n",
      " 1308785 2729254    9310 2170451 2979697 1625713 1529171]\n",
      "order_id\n",
      "4          13\n",
      "9          15\n",
      "11          5\n",
      "19          3\n",
      "20          8\n",
      "           ..\n",
      "3421034    17\n",
      "3421053     9\n",
      "3421071     5\n",
      "3421077     4\n",
      "3421079     1\n",
      "Length: 450046, dtype: int64\n",
      "70\n",
      "Order ID: 9310\n",
      "         order_id  product_id  add_to_cart_order  reordered\n",
      "2437093      9310       25753                NaN          0\n",
      "\n",
      "\n",
      "Order ID: 61355\n",
      "         order_id  product_id  add_to_cart_order  reordered\n",
      "57981       61355        5322                NaN          0\n",
      "247893      61355        8594                NaN          0\n",
      "381535      61355       12315                NaN          0\n",
      "399791      61355       10199                NaN          0\n",
      "427017      61355        5552                NaN          0\n",
      "...           ...         ...                ...        ...\n",
      "4026844     61355       48104                NaN          0\n",
      "4063159     61355        1087                NaN          0\n",
      "4126014     61355       12440                NaN          0\n",
      "4164200     61355        9484                NaN          0\n",
      "4268097     61355       40709                NaN          0\n",
      "\n",
      "[63 rows x 4 columns]\n",
      "\n",
      "\n",
      "Order ID: 102236\n",
      "         order_id  product_id  add_to_cart_order  reordered\n",
      "481664     102236       26629                NaN          0\n",
      "540855     102236       22227                NaN          0\n",
      "600064     102236       43295                NaN          0\n",
      "663110     102236        2635                NaN          0\n",
      "723022     102236        5250                NaN          0\n",
      "752827     102236       23645                NaN          0\n",
      "837322     102236       42300                NaN          0\n",
      "938494     102236       22559                NaN          0\n",
      "1478807    102236       43037                NaN          0\n",
      "1517209    102236        7361                NaN          0\n",
      "1547289    102236        5699                NaN          0\n",
      "2272326    102236       26604                NaN          0\n",
      "2326653    102236       23579                NaN          0\n",
      "2514208    102236       46820                NaN          0\n",
      "2518284    102236       25513                NaN          0\n",
      "2540660    102236        4428                NaN          0\n",
      "2694049    102236       33716                NaN          0\n",
      "2704130    102236       27555                NaN          0\n",
      "2825661    102236       21914                NaN          0\n",
      "2856057    102236       46106                NaN          0\n",
      "2968062    102236       47717                NaN          0\n",
      "3174053    102236       44293                NaN          0\n",
      "3703410    102236        4472                NaN          0\n",
      "3769220    102236       12023                NaN          0\n",
      "3776826    102236       16757                NaN          0\n",
      "3786462    102236       27966                NaN          0\n",
      "3876530    102236       37766                NaN          0\n",
      "3993634    102236       12846                NaN          0\n",
      "4006913    102236       21137                NaN          0\n",
      "4123625    102236       35065                NaN          0\n",
      "4371117    102236       24852                NaN          0\n",
      "\n",
      "\n",
      "Order ID: 129627\n",
      "         order_id  product_id  add_to_cart_order  reordered\n",
      "69773      129627       31372                NaN          0\n",
      "1526358    129627       48697                NaN          0\n",
      "2481755    129627       20280                NaN          0\n",
      "3558313    129627       22627                NaN          0\n",
      "3890724    129627       13852                NaN          0\n",
      "\n",
      "\n",
      "Order ID: 165801\n",
      "         order_id  product_id  add_to_cart_order  reordered\n",
      "120841     165801        4137                NaN          0\n",
      "178477     165801        6187                NaN          0\n",
      "1358517    165801       30737                NaN          0\n",
      "2356270    165801       32734                NaN          0\n",
      "3580912    165801       40278                NaN          0\n",
      "3914327    165801        8707                NaN          0\n",
      "\n",
      "\n",
      "Order ID: 171934\n",
      "         order_id  product_id  add_to_cart_order  reordered\n",
      "193230     171934       18441                NaN          0\n",
      "334369     171934        5358                NaN          0\n",
      "432206     171934        8021                NaN          0\n",
      "464703     171934        5652                NaN          0\n",
      "489124     171934       41972                NaN          0\n",
      "572431     171934        7916                NaN          0\n",
      "613154     171934       44422                NaN          0\n",
      "1210894    171934        5991                NaN          0\n",
      "1291077    171934       23649                NaN          0\n",
      "1448961    171934        3339                NaN          0\n",
      "1823440    171934       26940                NaN          0\n",
      "1917435    171934       18479                NaN          1\n",
      "1957066    171934       28436                NaN          0\n",
      "2037996    171934       43908                NaN          0\n",
      "2427081    171934       18095                NaN          1\n",
      "2689674    171934       40173                NaN          0\n",
      "2729013    171934       25886                NaN          0\n",
      "2729727    171934        4350                NaN          0\n",
      "2743329    171934       26032                NaN          1\n",
      "2872753    171934       13457                NaN          0\n",
      "2893698    171934       11481                NaN          0\n",
      "2920754    171934       24010                NaN          0\n",
      "3051666    171934       18689                NaN          0\n",
      "3137842    171934       24382                NaN          0\n",
      "3170001    171934       41588                NaN          0\n",
      "3269699    171934       27437                NaN          0\n",
      "3275363    171934        1096                NaN          0\n",
      "3462154    171934       47232                NaN          0\n",
      "3526110    171934        7515                NaN          0\n",
      "3635803    171934       33443                NaN          0\n",
      "3863361    171934        8088                NaN          0\n",
      "3984069    171934       29487                NaN          0\n",
      "4098125    171934        7647                NaN          0\n",
      "4143741    171934        1216                NaN          0\n",
      "4216318    171934       16174                NaN          0\n",
      "4217570    171934       26376                NaN          0\n",
      "4226429    171934       18625                NaN          0\n",
      "4330243    171934       23898                NaN          0\n",
      "4370100    171934       46642                NaN          0\n",
      "4407628    171934       12442                NaN          0\n",
      "\n",
      "\n",
      "Order ID: 180546\n",
      "         order_id  product_id  add_to_cart_order  reordered\n",
      "2087994    180546       26165                NaN          0\n",
      "4431614    180546        1194                NaN          0\n",
      "\n",
      "\n",
      "Order ID: 264710\n",
      "         order_id  product_id  add_to_cart_order  reordered\n",
      "62655      264710       40281                NaN          0\n",
      "70057      264710       41602                NaN          0\n",
      "193574     264710       37912                NaN          0\n",
      "554314     264710       45685                NaN          0\n",
      "639301     264710       32063                NaN          1\n",
      "858741     264710       17634                NaN          0\n",
      "1117729    264710       22736                NaN          0\n",
      "1135124    264710       31987                NaN          1\n",
      "1340955    264710       20865                NaN          1\n",
      "1340981    264710        8920                NaN          0\n",
      "1448561    264710       11798                NaN          0\n",
      "1598976    264710       39485                NaN          0\n",
      "1601821    264710        1143                NaN          1\n",
      "1738659    264710       14947                NaN          1\n",
      "2028054    264710       47532                NaN          0\n",
      "2185124    264710        9076                NaN          0\n",
      "2509715    264710       49098                NaN          0\n",
      "2531893    264710       45190                NaN          1\n",
      "2644740    264710        1469                NaN          0\n",
      "3012391    264710       28465                NaN          0\n",
      "3028521    264710       49474                NaN          0\n",
      "3222789    264710       38236                NaN          0\n",
      "3578033    264710         403                NaN          0\n",
      "3841877    264710       36170                NaN          1\n",
      "4120077    264710       37286                NaN          0\n",
      "4256824    264710       36173                NaN          1\n",
      "4275840    264710       45965                NaN          0\n",
      "\n",
      "\n",
      "Order ID: 293169\n",
      "         order_id  product_id  add_to_cart_order  reordered\n",
      "79239      293169       44628                NaN          0\n",
      "240071     293169       18598                NaN          0\n",
      "539603     293169       11452                NaN          0\n",
      "1631202    293169       18567                NaN          0\n",
      "1970661    293169       32857                NaN          0\n",
      "1984612    293169       40310                NaN          0\n",
      "2191874    293169       40709                NaN          0\n",
      "2554756    293169        2838                NaN          0\n",
      "2989638    293169       23233                NaN          1\n",
      "3027887    293169       18362                NaN          0\n",
      "3351043    293169       49683                NaN          0\n",
      "3508398    293169       27012                NaN          0\n",
      "4297389    293169       23744                NaN          0\n",
      "\n",
      "\n",
      "Order ID: 388234\n",
      "         order_id  product_id  add_to_cart_order  reordered\n",
      "398151     388234        7751                NaN          0\n",
      "608124     388234       13343                NaN          0\n",
      "719863     388234       26606                NaN          0\n",
      "766812     388234       14183                NaN          0\n",
      "3987289    388234       30756                NaN          0\n",
      "4248945    388234       27787                NaN          0\n",
      "\n",
      "\n",
      "Order ID: 404157\n",
      "         order_id  product_id  add_to_cart_order  reordered\n",
      "281168     404157       40146                NaN          0\n",
      "641294     404157       17803                NaN          0\n",
      "1939559    404157       46415                NaN          0\n",
      "1954118    404157        4592                NaN          0\n",
      "2457603    404157       28601                NaN          1\n",
      "2478283    404157       28535                NaN          1\n",
      "2684605    404157       11046                NaN          0\n",
      "2764610    404157       11941                NaN          1\n",
      "3050292    404157       43908                NaN          1\n",
      "3710627    404157       38772                NaN          0\n",
      "4384606    404157       20785                NaN          0\n",
      "4517562    404157        9517                NaN          0\n",
      "\n",
      "\n",
      "Order ID: 678116\n",
      "         order_id  product_id  add_to_cart_order  reordered\n",
      "556487     678116       23929                NaN          0\n",
      "932587     678116       35515                NaN          0\n",
      "1740444    678116       16965                NaN          1\n",
      "1823846    678116       29508                NaN          1\n",
      "2489959    678116       40865                NaN          1\n",
      "3795085    678116        4235                NaN          0\n",
      "\n",
      "\n",
      "Order ID: 733526\n",
      "         order_id  product_id  add_to_cart_order  reordered\n",
      "238630     733526       24097                NaN          1\n",
      "254403     733526       11230                NaN          1\n",
      "1247598    733526       45582                NaN          1\n",
      "1710975    733526       29252                NaN          1\n",
      "2431964    733526       38531                NaN          0\n",
      "\n",
      "\n",
      "Order ID: 747668\n",
      "        order_id  product_id  add_to_cart_order  reordered\n",
      "349651    747668       14494                NaN          0\n",
      "\n",
      "\n",
      "Order ID: 813364\n",
      "         order_id  product_id  add_to_cart_order  reordered\n",
      "177291     813364       13798                NaN          0\n",
      "227858     813364       31215                NaN          0\n",
      "392812     813364       44987                NaN          1\n",
      "643692     813364       46906                NaN          1\n",
      "710019     813364       16797                NaN          1\n",
      "824157     813364        4656                NaN          0\n",
      "1075443    813364       29363                NaN          0\n",
      "1637293    813364       11512                NaN          1\n",
      "1833945    813364       42710                NaN          0\n",
      "1978836    813364       35871                NaN          0\n",
      "2334863    813364       39877                NaN          0\n",
      "2344724    813364       33279                NaN          0\n",
      "2437823    813364       48726                NaN          0\n",
      "2638941    813364       30442                NaN          0\n",
      "2676804    813364         691                NaN          1\n",
      "2699009    813364        9339                NaN          0\n",
      "3170784    813364        2716                NaN          0\n",
      "3195109    813364       26604                NaN          0\n",
      "3868342    813364       35851                NaN          0\n",
      "4174377    813364        9076                NaN          0\n",
      "4286620    813364       25630                NaN          0\n",
      "\n",
      "\n",
      "Order ID: 844733\n",
      "         order_id  product_id  add_to_cart_order  reordered\n",
      "34183      844733       32717                NaN          0\n",
      "147722     844733       22151                NaN          0\n",
      "153946     844733       35221                NaN          0\n",
      "238768     844733        4421                NaN          0\n",
      "649876     844733       24852                NaN          1\n",
      "807748     844733        3855                NaN          0\n",
      "978954     844733       48795                NaN          0\n",
      "2736332    844733       18502                NaN          0\n",
      "3120415    844733        3957                NaN          0\n",
      "3178238    844733       17758                NaN          0\n",
      "3556708    844733       17183                NaN          0\n",
      "3564756    844733       21543                NaN          0\n",
      "3804493    844733       15912                NaN          0\n",
      "\n",
      "\n",
      "Order ID: 854647\n",
      "         order_id  product_id  add_to_cart_order  reordered\n",
      "1546886    854647       37664                NaN          0\n",
      "2131333    854647       18370                NaN          0\n",
      "3640522    854647       11984                NaN          0\n",
      "\n",
      "\n",
      "Order ID: 871281\n",
      "         order_id  product_id  add_to_cart_order  reordered\n",
      "388292     871281        1935                NaN          1\n",
      "882397     871281        4756                NaN          1\n",
      "1814194    871281       45747                NaN          0\n",
      "2052455    871281       18150                NaN          1\n",
      "2305969    871281       16757                NaN          1\n",
      "2459684    871281       12576                NaN          0\n",
      "2693183    871281       33787                NaN          1\n",
      "2964070    871281       39947                NaN          0\n",
      "3070436    871281       20119                NaN          0\n",
      "3536441    871281       47087                NaN          1\n",
      "\n",
      "\n",
      "Order ID: 888470\n",
      "         order_id  product_id  add_to_cart_order  reordered\n",
      "2046296    888470       33780                NaN          0\n",
      "\n",
      "\n",
      "Order ID: 903110\n",
      "         order_id  product_id  add_to_cart_order  reordered\n",
      "102527     903110       41960                NaN          1\n",
      "250788     903110        2180                NaN          1\n",
      "723852     903110       48679                NaN          1\n",
      "954728     903110       10305                NaN          1\n",
      "1521451    903110       22328                NaN          1\n",
      "2171407    903110       23038                NaN          1\n",
      "2179870    903110       32689                NaN          0\n",
      "2691256    903110       30552                NaN          1\n",
      "3116928    903110        2964                NaN          1\n",
      "4129248    903110        4461                NaN          1\n",
      "\n",
      "\n",
      "Order ID: 936852\n",
      "         order_id  product_id  add_to_cart_order  reordered\n",
      "58228      936852       31373                NaN          1\n",
      "236073     936852       29926                NaN          1\n",
      "374842     936852       42768                NaN          1\n",
      "484635     936852       39560                NaN          1\n",
      "688247     936852        4410                NaN          1\n",
      "1154875    936852       31640                NaN          1\n",
      "1307864    936852       11193                NaN          1\n",
      "1572775    936852       43310                NaN          1\n",
      "1887836    936852        9550                NaN          1\n",
      "2023694    936852       32689                NaN          1\n",
      "2109800    936852       24737                NaN          1\n",
      "2534602    936852       39928                NaN          1\n",
      "2552658    936852       15438                NaN          1\n",
      "2672542    936852        6860                NaN          1\n",
      "2936908    936852       24810                NaN          1\n",
      "3487117    936852       39411                NaN          1\n",
      "3495525    936852          34                NaN          1\n",
      "3638983    936852       27521                NaN          1\n",
      "3764616    936852       47740                NaN          1\n",
      "3899160    936852       34310                NaN          1\n",
      "4079591    936852        7401                NaN          1\n",
      "4084466    936852       18362                NaN          1\n",
      "4399086    936852       14833                NaN          1\n",
      "\n",
      "\n",
      "Order ID: 1021563\n",
      "         order_id  product_id  add_to_cart_order  reordered\n",
      "502368    1021563       25461                NaN          0\n",
      "832206    1021563        9124                NaN          1\n",
      "1058994   1021563       24852                NaN          0\n",
      "1067487   1021563       33548                NaN          0\n",
      "1653762   1021563       26571                NaN          1\n",
      "1952319   1021563       27243                NaN          0\n",
      "2005436   1021563       49273                NaN          1\n",
      "2245653   1021563       46817                NaN          0\n",
      "2523151   1021563        5013                NaN          1\n",
      "\n",
      "\n",
      "Order ID: 1038146\n",
      "         order_id  product_id  add_to_cart_order  reordered\n",
      "137628    1038146       42110                NaN          1\n",
      "465478    1038146        1158                NaN          0\n",
      "693395    1038146       37158                NaN          0\n",
      "1167281   1038146         162                NaN          0\n",
      "1463117   1038146       46505                NaN          0\n",
      "1551832   1038146       29898                NaN          0\n",
      "\n",
      "\n",
      "Order ID: 1169835\n",
      "         order_id  product_id  add_to_cart_order  reordered\n",
      "238286    1169835       16656                NaN          0\n",
      "370608    1169835       29268                NaN          0\n",
      "1276324   1169835        7206                NaN          0\n",
      "2125970   1169835       10193                NaN          0\n",
      "4145154   1169835        1851                NaN          0\n",
      "\n",
      "\n",
      "Order ID: 1183255\n",
      "         order_id  product_id  add_to_cart_order  reordered\n",
      "1169121   1183255       34050                NaN          1\n",
      "1733912   1183255       32130                NaN          0\n",
      "2158716   1183255        1452                NaN          0\n",
      "2404304   1183255       14133                NaN          1\n",
      "2556849   1183255       16793                NaN          1\n",
      "3084209   1183255        1935                NaN          1\n",
      "3633046   1183255       36724                NaN          1\n",
      "3952357   1183255       30746                NaN          1\n",
      "4218477   1183255       23047                NaN          1\n",
      "4335860   1183255       46257                NaN          1\n",
      "4432852   1183255       33325                NaN          0\n",
      "\n",
      "\n",
      "Order ID: 1220886\n",
      "         order_id  product_id  add_to_cart_order  reordered\n",
      "560095    1220886        9390                NaN          0\n",
      "848316    1220886       49621                NaN          0\n",
      "915820    1220886        2228                NaN          0\n",
      "1625547   1220886       27966                NaN          0\n",
      "1892753   1220886       17948                NaN          0\n",
      "2898263   1220886       24489                NaN          0\n",
      "3979611   1220886       44449                NaN          0\n",
      "4027888   1220886       48974                NaN          0\n",
      "\n",
      "\n",
      "Order ID: 1302315\n",
      "         order_id  product_id  add_to_cart_order  reordered\n",
      "1692509   1302315       46257                NaN          0\n",
      "2413281   1302315       41771                NaN          1\n",
      "3190387   1302315       37951                NaN          0\n",
      "\n",
      "\n",
      "Order ID: 1308785\n",
      "         order_id  product_id  add_to_cart_order  reordered\n",
      "2281462   1308785       26836                NaN          1\n",
      "4362962   1308785       35724                NaN          0\n",
      "\n",
      "\n",
      "Order ID: 1386261\n",
      "         order_id  product_id  add_to_cart_order  reordered\n",
      "94722     1386261       41007                NaN          0\n",
      "285571    1386261       42846                NaN          0\n",
      "572254    1386261        8324                NaN          0\n",
      "651500    1386261       34635                NaN          1\n",
      "678125    1386261       12807                NaN          0\n",
      "1171299   1386261       42342                NaN          1\n",
      "1302400   1386261       45317                NaN          0\n",
      "1496587   1386261        2996                NaN          0\n",
      "1544360   1386261        1035                NaN          1\n",
      "2165935   1386261        8133                NaN          0\n",
      "2256279   1386261         365                NaN          0\n",
      "2414660   1386261       15598                NaN          0\n",
      "2586668   1386261       11421                NaN          0\n",
      "2875042   1386261       34942                NaN          0\n",
      "2980034   1386261       21288                NaN          0\n",
      "2994248   1386261       29454                NaN          0\n",
      "3412675   1386261       12312                NaN          0\n",
      "3433068   1386261       25069                NaN          0\n",
      "3512834   1386261       27772                NaN          0\n",
      "3590777   1386261          10                NaN          1\n",
      "3644543   1386261        2238                NaN          1\n",
      "3719634   1386261       48946                NaN          1\n",
      "4330748   1386261       10312                NaN          0\n",
      "4376706   1386261        8594                NaN          0\n",
      "4381473   1386261       30610                NaN          0\n",
      "4405705   1386261       32463                NaN          0\n",
      "4432922   1386261        8847                NaN          1\n",
      "\n",
      "\n",
      "Order ID: 1477139\n",
      "         order_id  product_id  add_to_cart_order  reordered\n",
      "443084    1477139        5818                NaN          1\n",
      "846464    1477139       24294                NaN          1\n",
      "3098497   1477139       24852                NaN          1\n",
      "4178106   1477139        7992                NaN          0\n",
      "\n",
      "\n",
      "Order ID: 1529171\n",
      "         order_id  product_id  add_to_cart_order  reordered\n",
      "3357079   1529171       23719                NaN          0\n",
      "3737090   1529171       44116                NaN          0\n",
      "\n",
      "\n",
      "Order ID: 1564093\n",
      "         order_id  product_id  add_to_cart_order  reordered\n",
      "67655     1564093        6139                NaN          0\n",
      "634335    1564093        7930                NaN          1\n",
      "1682903   1564093       47366                NaN          0\n",
      "3016467   1564093       26359                NaN          0\n",
      "3310417   1564093       40574                NaN          0\n",
      "\n",
      "\n",
      "Order ID: 1598369\n",
      "         order_id  product_id  add_to_cart_order  reordered\n",
      "1359666   1598369       19453                NaN          0\n",
      "\n",
      "\n",
      "Order ID: 1625713\n",
      "         order_id  product_id  add_to_cart_order  reordered\n",
      "3282194   1625713       20119                NaN          1\n",
      "4088121   1625713       14947                NaN          1\n",
      "\n",
      "\n",
      "Order ID: 1633337\n",
      "         order_id  product_id  add_to_cart_order  reordered\n",
      "831457    1633337       25630                NaN          0\n",
      "3678539   1633337       10017                NaN          0\n",
      "4511400   1633337         260                NaN          0\n",
      "\n",
      "\n",
      "Order ID: 1648217\n",
      "         order_id  product_id  add_to_cart_order  reordered\n",
      "430918    1648217       48946                NaN          1\n",
      "850099    1648217       40731                NaN          1\n",
      "1112225   1648217        7521                NaN          1\n",
      "1242285   1648217       38264                NaN          0\n",
      "1886932   1648217       11777                NaN          1\n",
      "2187176   1648217       49111                NaN          1\n",
      "\n",
      "\n",
      "Order ID: 1673227\n",
      "         order_id  product_id  add_to_cart_order  reordered\n",
      "642353    1673227       21230                NaN          0\n",
      "829277    1673227       11193                NaN          0\n",
      "1249443   1673227       14378                NaN          0\n",
      "2047375   1673227       10724                NaN          0\n",
      "2320227   1673227       19182                NaN          0\n",
      "2368328   1673227       16730                NaN          0\n",
      "2605464   1673227       29926                NaN          0\n",
      "2772216   1673227       33320                NaN          0\n",
      "3086719   1673227       15399                NaN          0\n",
      "3129846   1673227       29370                NaN          1\n",
      "3377031   1673227       48010                NaN          0\n",
      "4081508   1673227       25513                NaN          0\n",
      "4084518   1673227       18281                NaN          0\n",
      "4534112   1673227       17835                NaN          0\n",
      "\n",
      "\n",
      "Order ID: 1677118\n",
      "        order_id  product_id  add_to_cart_order  reordered\n",
      "921753   1677118       13516                NaN          1\n",
      "\n",
      "\n",
      "Order ID: 1713430\n",
      "         order_id  product_id  add_to_cart_order  reordered\n",
      "1181413   1713430        4634                NaN          0\n",
      "1318059   1713430       46720                NaN          0\n",
      "3782487   1713430        4855                NaN          1\n",
      "\n",
      "\n",
      "Order ID: 1717990\n",
      "         order_id  product_id  add_to_cart_order  reordered\n",
      "16418     1717990        4142                NaN          0\n",
      "64336     1717990       39408                NaN          0\n",
      "392794    1717990       27555                NaN          1\n",
      "453812    1717990        5450                NaN          0\n",
      "454403    1717990        9604                NaN          0\n",
      "455854    1717990       20073                NaN          1\n",
      "895008    1717990       39928                NaN          1\n",
      "1203171   1717990       45603                NaN          0\n",
      "1224638   1717990       33055                NaN          1\n",
      "1300855   1717990       37646                NaN          0\n",
      "1520396   1717990       30776                NaN          1\n",
      "2301158   1717990       43352                NaN          0\n",
      "2332300   1717990        1710                NaN          1\n",
      "2637429   1717990       48559                NaN          0\n",
      "2828236   1717990       39448                NaN          1\n",
      "2982614   1717990       37766                NaN          1\n",
      "3227168   1717990        4920                NaN          1\n",
      "3543181   1717990       41774                NaN          0\n",
      "3883178   1717990       26209                NaN          1\n",
      "4194693   1717990        5876                NaN          1\n",
      "4270574   1717990       13712                NaN          1\n",
      "4346034   1717990        3198                NaN          0\n",
      "\n",
      "\n",
      "Order ID: 1730767\n",
      "         order_id  product_id  add_to_cart_order  reordered\n",
      "237301    1730767       36316                NaN          1\n",
      "490395    1730767        4656                NaN          0\n",
      "926830    1730767       20396                NaN          0\n",
      "930310    1730767       35004                NaN          0\n",
      "1011167   1730767        9531                NaN          0\n",
      "1187967   1730767        8555                NaN          0\n",
      "1376325   1730767       20114                NaN          1\n",
      "1388246   1730767       39561                NaN          1\n",
      "1648549   1730767        2091                NaN          1\n",
      "1661800   1730767       30391                NaN          0\n",
      "1726184   1730767       43735                NaN          0\n",
      "1739943   1730767        4431                NaN          1\n",
      "1845117   1730767       21376                NaN          1\n",
      "2061093   1730767       13554                NaN          1\n",
      "2104742   1730767       41065                NaN          0\n",
      "2126292   1730767       24265                NaN          1\n",
      "2201066   1730767       28380                NaN          0\n",
      "2203976   1730767       39877                NaN          1\n",
      "2305028   1730767       24184                NaN          1\n",
      "2558012   1730767         663                NaN          0\n",
      "3024253   1730767       27555                NaN          0\n",
      "3108075   1730767       13535                NaN          1\n",
      "3231867   1730767       31282                NaN          0\n",
      "3280063   1730767       18941                NaN          1\n",
      "3613589   1730767       46990                NaN          1\n",
      "3674884   1730767        4461                NaN          1\n",
      "3763402   1730767       38456                NaN          1\n",
      "3872090   1730767       35696                NaN          1\n",
      "4108164   1730767       28199                NaN          0\n",
      "4184594   1730767       31553                NaN          1\n",
      "4269955   1730767       24964                NaN          1\n",
      "\n",
      "\n",
      "Order ID: 1800005\n",
      "         order_id  product_id  add_to_cart_order  reordered\n",
      "372958    1800005        2309                NaN          0\n",
      "712189    1800005       32035                NaN          0\n",
      "773685    1800005       33320                NaN          0\n",
      "844289    1800005       39623                NaN          0\n",
      "1120168   1800005         682                NaN          0\n",
      "1319572   1800005        9955                NaN          0\n",
      "1458986   1800005       46346                NaN          0\n",
      "1498998   1800005       32850                NaN          0\n",
      "1601892   1800005        7622                NaN          0\n",
      "1633323   1800005       34584                NaN          0\n",
      "2014358   1800005        9531                NaN          0\n",
      "2054132   1800005       22671                NaN          0\n",
      "2264625   1800005       33216                NaN          0\n",
      "2282078   1800005       37203                NaN          0\n",
      "2336425   1800005        8952                NaN          0\n",
      "2453985   1800005       12385                NaN          0\n",
      "2561730   1800005       48778                NaN          0\n",
      "2594393   1800005       43263                NaN          0\n",
      "2712384   1800005       10082                NaN          0\n",
      "2744369   1800005          79                NaN          0\n",
      "3294285   1800005         160                NaN          0\n",
      "3399633   1800005       21614                NaN          0\n",
      "3424318   1800005       46900                NaN          0\n",
      "3535079   1800005       25691                NaN          0\n",
      "4013870   1800005        1757                NaN          0\n",
      "4103809   1800005        3233                NaN          0\n",
      "4222813   1800005       45116                NaN          0\n",
      "4505662   1800005        7411                NaN          0\n",
      "\n",
      "\n",
      "Order ID: 1832957\n",
      "         order_id  product_id  add_to_cart_order  reordered\n",
      "503789    1832957       42710                NaN          1\n",
      "747083    1832957       33754                NaN          1\n",
      "863020    1832957        5322                NaN          1\n",
      "1000255   1832957       11777                NaN          1\n",
      "1047840   1832957       13176                NaN          1\n",
      "1075379   1832957       27966                NaN          1\n",
      "1170413   1832957       22035                NaN          1\n",
      "1970439   1832957       33370                NaN          1\n",
      "2617464   1832957       10424                NaN          0\n",
      "2721847   1832957       21137                NaN          1\n",
      "3945473   1832957        8277                NaN          1\n",
      "4390206   1832957       19348                NaN          1\n",
      "4497511   1832957        5438                NaN          1\n",
      "4535739   1832957       17949                NaN          1\n",
      "\n",
      "\n",
      "Order ID: 1888628\n",
      "         order_id  product_id  add_to_cart_order  reordered\n",
      "120294    1888628        5621                NaN          0\n",
      "701953    1888628       18382                NaN          0\n",
      "1435813   1888628       14401                NaN          1\n",
      "1634517   1888628       19628                NaN          0\n",
      "1693885   1888628       37788                NaN          1\n",
      "3008374   1888628       46175                NaN          1\n",
      "3280243   1888628       21653                NaN          0\n",
      "3393290   1888628        8021                NaN          0\n",
      "4184517   1888628       31801                NaN          1\n",
      "4482501   1888628       41665                NaN          0\n",
      "\n",
      "\n",
      "Order ID: 1916118\n",
      "         order_id  product_id  add_to_cart_order  reordered\n",
      "1387181   1916118       11755                NaN          0\n",
      "3327607   1916118       21125                NaN          0\n",
      "4273367   1916118        9324                NaN          1\n",
      "\n",
      "\n",
      "Order ID: 1959075\n",
      "         order_id  product_id  add_to_cart_order  reordered\n",
      "30114     1959075       42828                NaN          1\n",
      "410035    1959075       43182                NaN          1\n",
      "452071    1959075        8736                NaN          1\n",
      "505426    1959075       47740                NaN          1\n",
      "551504    1959075       15693                NaN          1\n",
      "583941    1959075       11422                NaN          1\n",
      "654572    1959075       40571                NaN          1\n",
      "1071614   1959075       18362                NaN          1\n",
      "1106546   1959075       22993                NaN          1\n",
      "1133770   1959075        4957                NaN          1\n",
      "1470461   1959075       34310                NaN          1\n",
      "1697587   1959075       11193                NaN          1\n",
      "1896630   1959075       16241                NaN          1\n",
      "2112642   1959075       33401                NaN          1\n",
      "2230822   1959075       13176                NaN          1\n",
      "2336744   1959075       33754                NaN          1\n",
      "2432733   1959075       15438                NaN          1\n",
      "2865123   1959075        7485                NaN          1\n",
      "2918875   1959075       28071                NaN          1\n",
      "3047341   1959075        9550                NaN          1\n",
      "3066664   1959075       30726                NaN          1\n",
      "3141023   1959075       44632                NaN          1\n",
      "3314274   1959075       26620                NaN          1\n",
      "3368363   1959075       39411                NaN          1\n",
      "3542252   1959075       10753                NaN          1\n",
      "3692008   1959075       45842                NaN          1\n",
      "3773349   1959075       37188                NaN          1\n",
      "3787831   1959075        4410                NaN          1\n",
      "4141071   1959075       18606                NaN          1\n",
      "4167410   1959075       34128                NaN          1\n",
      "4184654   1959075        6860                NaN          1\n",
      "4278310   1959075       30489                NaN          1\n",
      "4389640   1959075       24838                NaN          1\n",
      "4411093   1959075        5785                NaN          1\n",
      "\n",
      "\n",
      "Order ID: 1961723\n",
      "         order_id  product_id  add_to_cart_order  reordered\n",
      "373006    1961723       31575                NaN          0\n",
      "616873    1961723       15405                NaN          0\n",
      "2376645   1961723       41541                NaN          0\n",
      "3306682   1961723        3849                NaN          0\n",
      "3655316   1961723       44734                NaN          0\n",
      "3942065   1961723       21143                NaN          0\n",
      "3950033   1961723       46724                NaN          0\n",
      "4393921   1961723        7926                NaN          0\n",
      "4501669   1961723       18873                NaN          0\n",
      "\n",
      "\n",
      "Order ID: 1968313\n",
      "         order_id  product_id  add_to_cart_order  reordered\n",
      "9926      1968313       43867                NaN          0\n",
      "251111    1968313       23995                NaN          1\n",
      "523251    1968313       25824                NaN          0\n",
      "712578    1968313       42625                NaN          0\n",
      "1214262   1968313        9327                NaN          0\n",
      "1244299   1968313       11577                NaN          0\n",
      "1309886   1968313        2541                NaN          0\n",
      "2550341   1968313       28232                NaN          0\n",
      "3217453   1968313       49644                NaN          0\n",
      "3219261   1968313       41302                NaN          0\n",
      "3542553   1968313       48443                NaN          0\n",
      "3719154   1968313       41593                NaN          0\n",
      "3888634   1968313       29382                NaN          0\n",
      "4020321   1968313       23180                NaN          0\n",
      "4376957   1968313        5605                NaN          0\n",
      "4443007   1968313       22497                NaN          0\n",
      "\n",
      "\n",
      "Order ID: 2094761\n",
      "         order_id  product_id  add_to_cart_order  reordered\n",
      "130034    2094761        5194                NaN          1\n",
      "644239    2094761       47888                NaN          1\n",
      "782948    2094761       17545                NaN          1\n",
      "1120877   2094761         812                NaN          1\n",
      "1420876   2094761       47862                NaN          0\n",
      "1967051   2094761        1099                NaN          0\n",
      "2175085   2094761       49227                NaN          0\n",
      "2846497   2094761        5112                NaN          1\n",
      "3300473   2094761       41259                NaN          0\n",
      "\n",
      "\n",
      "Order ID: 2136777\n",
      "         order_id  product_id  add_to_cart_order  reordered\n",
      "103410    2136777       46886                NaN          1\n",
      "137958    2136777       45106                NaN          0\n",
      "170487    2136777        2635                NaN          1\n",
      "260575    2136777        6651                NaN          0\n",
      "813922    2136777       31404                NaN          1\n",
      "825826    2136777       42342                NaN          0\n",
      "944029    2136777        3717                NaN          0\n",
      "951079    2136777       46321                NaN          0\n",
      "1113858   2136777       10849                NaN          0\n",
      "1195908   2136777       17183                NaN          1\n",
      "1231729   2136777       37658                NaN          0\n",
      "1329507   2136777       29871                NaN          0\n",
      "1627119   2136777       12950                NaN          0\n",
      "1641832   2136777        5194                NaN          0\n",
      "1705076   2136777        1700                NaN          0\n",
      "1755402   2136777       45537                NaN          0\n",
      "1943851   2136777       40199                NaN          0\n",
      "2300379   2136777       23645                NaN          1\n",
      "2329561   2136777       28458                NaN          0\n",
      "2362559   2136777       10991                NaN          0\n",
      "2412419   2136777       15740                NaN          1\n",
      "2428773   2136777       29651                NaN          1\n",
      "2554960   2136777       35227                NaN          0\n",
      "2555334   2136777        1804                NaN          1\n",
      "2781179   2136777       34993                NaN          1\n",
      "2873944   2136777       46820                NaN          1\n",
      "2880708   2136777       18370                NaN          0\n",
      "2907101   2136777       16757                NaN          1\n",
      "2920440   2136777       42265                NaN          0\n",
      "3005100   2136777        3988                NaN          1\n",
      "3023524   2136777       36724                NaN          1\n",
      "3235336   2136777       37788                NaN          1\n",
      "3261639   2136777       26431                NaN          0\n",
      "3286269   2136777        4981                NaN          0\n",
      "3433886   2136777        2913                NaN          0\n",
      "3601140   2136777        4472                NaN          1\n",
      "3626645   2136777        9407                NaN          0\n",
      "3721041   2136777       34050                NaN          0\n",
      "3837965   2136777       11193                NaN          1\n",
      "4026278   2136777       41198                NaN          0\n",
      "4099225   2136777       17038                NaN          1\n",
      "4131493   2136777       11794                NaN          0\n",
      "4248342   2136777        5883                NaN          0\n",
      "4446877   2136777       42193                NaN          0\n",
      "\n",
      "\n",
      "Order ID: 2170451\n",
      "         order_id  product_id  add_to_cart_order  reordered\n",
      "2438301   2170451       16965                NaN          1\n",
      "\n",
      "\n",
      "Order ID: 2256933\n",
      "         order_id  product_id  add_to_cart_order  reordered\n",
      "182090    2256933       13457                NaN          1\n",
      "515010    2256933       10863                NaN          1\n",
      "1151056   2256933       40724                NaN          0\n",
      "1169644   2256933       36922                NaN          0\n",
      "1897363   2256933       31448                NaN          1\n",
      "2512081   2256933       17619                NaN          0\n",
      "3362063   2256933        6765                NaN          0\n",
      "\n",
      "\n",
      "Order ID: 2409109\n",
      "         order_id  product_id  add_to_cart_order  reordered\n",
      "210094    2409109       26587                NaN          0\n",
      "1790648   2409109         516                NaN          0\n",
      "2234898   2409109       27676                NaN          0\n",
      "3928984   2409109       36180                NaN          0\n",
      "4210154   2409109       21795                NaN          0\n",
      "\n",
      "\n",
      "Order ID: 2449164\n",
      "         order_id  product_id  add_to_cart_order  reordered\n",
      "737       2449164        5068                NaN          0\n",
      "128360    2449164       14386                NaN          0\n",
      "193859    2449164        8518                NaN          0\n",
      "715695    2449164       29311                NaN          0\n",
      "1412828   2449164       42356                NaN          0\n",
      "2131765   2449164       24009                NaN          0\n",
      "2271407   2449164       40584                NaN          0\n",
      "2887452   2449164       46969                NaN          1\n",
      "3373025   2449164       49323                NaN          0\n",
      "3799063   2449164       31562                NaN          0\n",
      "4407623   2449164        4920                NaN          1\n",
      "4423417   2449164       35912                NaN          0\n",
      "\n",
      "\n",
      "Order ID: 2470674\n",
      "         order_id  product_id  add_to_cart_order  reordered\n",
      "846954    2470674       46845                NaN          0\n",
      "848750    2470674       20564                NaN          0\n",
      "1502876   2470674       49188                NaN          0\n",
      "1514664   2470674       35004                NaN          0\n",
      "2151691   2470674       40469                NaN          0\n",
      "2955999   2470674       25824                NaN          1\n",
      "3411797   2470674        8509                NaN          0\n",
      "\n",
      "\n",
      "Order ID: 2479011\n",
      "         order_id  product_id  add_to_cart_order  reordered\n",
      "1028261   2479011       23888                NaN          1\n",
      "1409938   2479011       46513                NaN          1\n",
      "2195983   2479011       31764                NaN          1\n",
      "2566866   2479011        7388                NaN          1\n",
      "2724564   2479011       26830                NaN          1\n",
      "3146462   2479011       17617                NaN          1\n",
      "3380579   2479011       42183                NaN          1\n",
      "4185903   2479011       30764                NaN          1\n",
      "4471085   2479011       40501                NaN          1\n",
      "\n",
      "\n",
      "Order ID: 2621907\n",
      "         order_id  product_id  add_to_cart_order  reordered\n",
      "2093506   2621907         810                NaN          0\n",
      "\n",
      "\n",
      "Order ID: 2625444\n",
      "         order_id  product_id  add_to_cart_order  reordered\n",
      "875978    2625444       34516                NaN          0\n",
      "3158088   2625444       31043                NaN          0\n",
      "4365834   2625444        3096                NaN          0\n",
      "\n",
      "\n",
      "Order ID: 2652650\n",
      "         order_id  product_id  add_to_cart_order  reordered\n",
      "1245116   2652650       25124                NaN          0\n",
      "\n",
      "\n",
      "Order ID: 2721963\n",
      "         order_id  product_id  add_to_cart_order  reordered\n",
      "530720    2721963       44596                NaN          1\n",
      "618153    2721963       27900                NaN          0\n",
      "803970    2721963       34126                NaN          1\n",
      "865908    2721963       14150                NaN          0\n",
      "1661040   2721963       16616                NaN          0\n",
      "1740780   2721963       40406                NaN          0\n",
      "1784785   2721963       47209                NaN          1\n",
      "2471124   2721963        1646                NaN          0\n",
      "2967216   2721963       33043                NaN          1\n",
      "3002808   2721963        5322                NaN          0\n",
      "3025497   2721963        2344                NaN          0\n",
      "3038045   2721963       48925                NaN          0\n",
      "3152506   2721963       33156                NaN          0\n",
      "3188954   2721963       16848                NaN          0\n",
      "3246520   2721963       17224                NaN          0\n",
      "3265654   2721963       21227                NaN          0\n",
      "3418953   2721963       47222                NaN          0\n",
      "3613118   2721963       22935                NaN          1\n",
      "3737315   2721963       23236                NaN          1\n",
      "4011424   2721963        9178                NaN          0\n",
      "4172298   2721963        8518                NaN          1\n",
      "4188637   2721963       38383                NaN          1\n",
      "\n",
      "\n",
      "Order ID: 2729254\n",
      "         order_id  product_id  add_to_cart_order  reordered\n",
      "2363696   2729254       41888                NaN          0\n",
      "\n",
      "\n",
      "Order ID: 2849370\n",
      "         order_id  product_id  add_to_cart_order  reordered\n",
      "86905     2849370       37131                NaN          0\n",
      "379443    2849370       34126                NaN          0\n",
      "866856    2849370       21174                NaN          1\n",
      "982439    2849370       46667                NaN          1\n",
      "1253326   2849370       24964                NaN          1\n",
      "1686341   2849370       21903                NaN          1\n",
      "1824939   2849370       41950                NaN          1\n",
      "1891160   2849370        4605                NaN          1\n",
      "2414819   2849370        8518                NaN          0\n",
      "3025432   2849370       20114                NaN          1\n",
      "3092099   2849370       15649                NaN          1\n",
      "\n",
      "\n",
      "Order ID: 2926893\n",
      "         order_id  product_id  add_to_cart_order  reordered\n",
      "14394     2926893       11688                NaN          0\n",
      "235998    2926893        4792                NaN          0\n",
      "261824    2926893       26629                NaN          0\n",
      "491585    2926893       21405                NaN          1\n",
      "757127    2926893          34                NaN          0\n",
      "814253    2926893        1208                NaN          0\n",
      "1091784   2926893       35749                NaN          0\n",
      "1133456   2926893       25587                NaN          0\n",
      "1356591   2926893       27663                NaN          0\n",
      "1513850   2926893       29627                NaN          0\n",
      "1930438   2926893        6187                NaN          0\n",
      "1938823   2926893         691                NaN          0\n",
      "2127506   2926893       34220                NaN          0\n",
      "2219826   2926893       19894                NaN          1\n",
      "2237273   2926893        2078                NaN          0\n",
      "2262201   2926893        8033                NaN          0\n",
      "2288299   2926893       45603                NaN          1\n",
      "2498644   2926893        5250                NaN          0\n",
      "2532565   2926893       21953                NaN          0\n",
      "2611006   2926893        8736                NaN          0\n",
      "2612611   2926893       42611                NaN          0\n",
      "3139038   2926893       20794                NaN          1\n",
      "3140858   2926893       34221                NaN          0\n",
      "3197335   2926893       22227                NaN          0\n",
      "3423291   2926893       44740                NaN          0\n",
      "3647758   2926893       33716                NaN          0\n",
      "3768802   2926893       33000                NaN          0\n",
      "3931006   2926893        6287                NaN          1\n",
      "\n",
      "\n",
      "Order ID: 2979697\n",
      "         order_id  product_id  add_to_cart_order  reordered\n",
      "3275635   2979697       34262                NaN          0\n",
      "4475851   2979697       15700                NaN          0\n",
      "\n",
      "\n",
      "Order ID: 2997021\n",
      "         order_id  product_id  add_to_cart_order  reordered\n",
      "144645    2997021       29418                NaN          0\n",
      "1366404   2997021        4896                NaN          0\n",
      "1524433   2997021       38766                NaN          0\n",
      "3346495   2997021        2476                NaN          0\n",
      "\n",
      "\n",
      "Order ID: 2999801\n",
      "         order_id  product_id  add_to_cart_order  reordered\n",
      "690794    2999801       29627                NaN          1\n",
      "1295883   2999801       47366                NaN          1\n",
      "1878498   2999801       19849                NaN          1\n",
      "2639769   2999801       22220                NaN          1\n",
      "3733118   2999801        9604                NaN          0\n",
      "3965473   2999801        1710                NaN          0\n",
      "\n",
      "\n",
      "Order ID: 3125735\n",
      "         order_id  product_id  add_to_cart_order  reordered\n",
      "344501    3125735       39322                NaN          1\n",
      "403569    3125735        5161                NaN          1\n",
      "429636    3125735       39781                NaN          1\n",
      "432736    3125735       29864                NaN          0\n",
      "548799    3125735       12192                NaN          0\n",
      "658399    3125735       30901                NaN          0\n",
      "721401    3125735       17224                NaN          1\n",
      "1420474   3125735       34942                NaN          1\n",
      "1440596   3125735        5547                NaN          1\n",
      "1842014   3125735       18150                NaN          1\n",
      "1889291   3125735       32701                NaN          1\n",
      "1991103   3125735       45866                NaN          1\n",
      "2229178   3125735       26634                NaN          1\n",
      "2463017   3125735        3988                NaN          1\n",
      "2972261   3125735        4756                NaN          1\n",
      "3040020   3125735       26856                NaN          1\n",
      "3418468   3125735        1935                NaN          1\n",
      "3538348   3125735       17974                NaN          1\n",
      "3617101   3125735       40709                NaN          1\n",
      "3981012   3125735       47658                NaN          0\n",
      "4142872   3125735        6489                NaN          1\n",
      "4276974   3125735       46229                NaN          1\n",
      "\n",
      "\n",
      "Order ID: 3308010\n",
      "         order_id  product_id  add_to_cart_order  reordered\n",
      "98839     3308010        5438                NaN          1\n",
      "367467    3308010       37029                NaN          1\n",
      "380315    3308010       34590                NaN          1\n",
      "474327    3308010       30776                NaN          1\n",
      "594894    3308010       41222                NaN          1\n",
      "613414    3308010       29238                NaN          1\n",
      "630756    3308010       39450                NaN          1\n",
      "676422    3308010       43234                NaN          1\n",
      "712924    3308010       14766                NaN          1\n",
      "755629    3308010       40199                NaN          1\n",
      "1145622   3308010       31801                NaN          1\n",
      "1162827   3308010       12741                NaN          1\n",
      "1197216   3308010       33198                NaN          1\n",
      "1260501   3308010       33929                NaN          1\n",
      "1283609   3308010       40709                NaN          1\n",
      "1402310   3308010       11576                NaN          1\n",
      "1492532   3308010        4297                NaN          1\n",
      "1517269   3308010       13870                NaN          1\n",
      "1539650   3308010       39168                NaN          1\n",
      "1556527   3308010       48109                NaN          1\n",
      "1683810   3308010       12686                NaN          1\n",
      "1688162   3308010       46321                NaN          1\n",
      "1715641   3308010       22035                NaN          1\n",
      "1770557   3308010       13702                NaN          1\n",
      "1950839   3308010        5708                NaN          0\n",
      "2022179   3308010       39322                NaN          1\n",
      "2059460   3308010       33325                NaN          1\n",
      "2136150   3308010       29270                NaN          1\n",
      "2261370   3308010       21019                NaN          1\n",
      "2278861   3308010       16290                NaN          1\n",
      "2303924   3308010       20103                NaN          1\n",
      "2429133   3308010        4920                NaN          1\n",
      "2610617   3308010       18564                NaN          1\n",
      "2665940   3308010       45279                NaN          1\n",
      "2670765   3308010       28398                NaN          1\n",
      "2706554   3308010       36192                NaN          1\n",
      "2742623   3308010       23645                NaN          1\n",
      "2780430   3308010       21137                NaN          1\n",
      "2893831   3308010       43772                NaN          1\n",
      "2948601   3308010       17706                NaN          1\n",
      "2974067   3308010       42265                NaN          1\n",
      "3125922   3308010        7539                NaN          1\n",
      "3355181   3308010       22317                NaN          1\n",
      "3473063   3308010       29871                NaN          1\n",
      "3546955   3308010       25013                NaN          1\n",
      "3828198   3308010       22220                NaN          1\n",
      "3871271   3308010       10840                NaN          1\n",
      "3886173   3308010       46853                NaN          1\n",
      "4161503   3308010       14242                NaN          1\n",
      "4186580   3308010       34281                NaN          1\n",
      "4453066   3308010       41844                NaN          1\n",
      "\n",
      "\n",
      "Order ID: 3347453\n",
      "         order_id  product_id  add_to_cart_order  reordered\n",
      "110274    3347453       47175                NaN          0\n",
      "137029    3347453       30727                NaN          0\n",
      "219403    3347453       18782                NaN          0\n",
      "477116    3347453       19443                NaN          0\n",
      "2666635   3347453       14183                NaN          0\n",
      "3151820   3347453       19309                NaN          0\n",
      "4294367   3347453       20876                NaN          0\n",
      "\n",
      "\n",
      "Order ID: 3383594\n",
      "         order_id  product_id  add_to_cart_order  reordered\n",
      "1038616   3383594       15424                NaN          1\n",
      "1537276   3383594       15076                NaN          0\n",
      "2772397   3383594       46710                NaN          0\n",
      "3760909   3383594          63                NaN          0\n",
      "3784932   3383594       49144                NaN          1\n",
      "\n",
      "\n",
      "El valor mínimo del conteo de 'product_id' en pedidos con valores ausentes en 'add_to_cart_order' es: 1\n"
     ]
    }
   ],
   "source": [
    "# ¿Todos los pedidos con valores ausentes tienen más de 64 productos?\n",
    "df_order_products_nan=df_order_products[df_order_products['add_to_cart_order'].isna()]\n",
    "\n",
    "df_order_products_nan = df_order_products_nan['order_id'].unique()\n",
    "\n",
    "print(df_order_products_nan)\n",
    "\n",
    "products_by_order=df_order_products.groupby('order_id').size()\n",
    "print(products_by_order)\n",
    "\n",
    "missing_order_product_counts=products_by_order[df_order_products_nan]\n",
    "\n",
    "print(len(missing_order_product_counts.loc[missing_order_product_counts>64]))\n",
    "\n",
    "# Agrupa todos los pedidos con datos ausentes por su ID de pedido.\n",
    "group_ids_nan=df_order_products[df_order_products['add_to_cart_order'].isna()]\n",
    "group_ids_nan=group_ids_nan.groupby('order_id')\n",
    "for order_id, group in group_ids_nan:\n",
    "    print(f\"Order ID: {order_id}\")\n",
    "    print(group)\n",
    "    print(\"\\n\")\n",
    "    \n",
    "# Cuenta el número de 'product_id' en cada pedido y revisa el valor mínimo del conteo.\n",
    "# Agrupar los datos ausentes por 'order_id' y contar el número de 'product_id' en cada grupo\n",
    "product_count_per_order = missing_add_to_cart_order.groupby('order_id')['product_id'].count()\n",
    "\n",
    "# Encontrar el valor mínimo del conteo\n",
    "min_product_count = product_count_per_order.min()\n",
    "\n",
    "# Mostrar el resultado\n",
    "print(\"El valor mínimo del conteo de 'product_id' en pedidos con valores ausentes en 'add_to_cart_order' es:\", min_product_count)"
   ]
  },
  {
   "cell_type": "markdown",
   "id": "p9V6pddtjglj",
   "metadata": {
    "id": "p9V6pddtjglj"
   },
   "source": [
    "**Observaciones:**\n",
    "\n",
    "Al agrupar por order_id, se oberva que el id más repetido es 61355 con 63 repeticiones y hay más de 1 que estan repetidos una sola vez. Hay 70 diferentes datos repetidos "
   ]
  },
  {
   "cell_type": "code",
   "execution_count": 182,
   "id": "7a987d08",
   "metadata": {
    "id": "7a987d08"
   },
   "outputs": [
    {
     "name": "stdout",
     "output_type": "stream",
     "text": [
      "0          17\n",
      "1           1\n",
      "2           1\n",
      "3          35\n",
      "4           5\n",
      "           ..\n",
      "4545002    12\n",
      "4545003     9\n",
      "4545004     4\n",
      "4545005     8\n",
      "4545006     9\n",
      "Name: add_to_cart_order, Length: 4545007, dtype: int64\n"
     ]
    }
   ],
   "source": [
    "# Remplaza los valores ausentes en la columna 'add_to_cart? con 999 y convierte la columna al tipo entero.\n",
    "df_order_products['add_to_cart_order']=df_order_products['add_to_cart_order'].fillna(999)\n",
    "df_order_products['add_to_cart_order']=df_order_products['add_to_cart_order'].astype(int)\n",
    "print(df_order_products['add_to_cart_order'])"
   ]
  },
  {
   "cell_type": "code",
   "execution_count": 183,
   "id": "1fb62c3d",
   "metadata": {},
   "outputs": [
    {
     "name": "stdout",
     "output_type": "stream",
     "text": [
      "Empty DataFrame\n",
      "Columns: [order_id, product_id, add_to_cart_order, reordered]\n",
      "Index: []\n"
     ]
    }
   ],
   "source": [
    "missing_add_to_cart_order = df_order_products[df_order_products['add_to_cart_order'].isna()]\n",
    "print(missing_add_to_cart_order)"
   ]
  },
  {
   "cell_type": "markdown",
   "id": "fea4bcc7",
   "metadata": {
    "id": "fea4bcc7"
   },
   "source": [
    "**Observaciones:**\n",
    "\n",
    "Ya identificados los valores nulos, se procedió a cambiarlos por el número 999 y se cambio a un tipo de dato de float64 a int64, por último se verificó que no hubiera más datos vacíos"
   ]
  },
  {
   "cell_type": "markdown",
   "id": "RnplPFY1gSrb",
   "metadata": {
    "id": "RnplPFY1gSrb"
   },
   "source": [
    "## Conclusiones\n",
    "\n",
    "1. El preprocesamiento puede parecer un poco largo y tedioso pero también empieza a ser interesante cuando empezamos a encontrar patrones y relaciones entre los datos.\n",
    "2. Se pueden tener muchas conclusiones e hipótesis al realizar el preprocesamiento.\n",
    "3. Al final se reemplazaron los valores nulos necesarios para seguir con el procesamiento y graficado de los datos.\n",
    "4. Al final se analizaron y eliminaron los valores duplicados necesarios para seguir con el procesamiento y graficado de los datos."
   ]
  },
  {
   "cell_type": "markdown",
   "id": "UjrOIwTcz3ri",
   "metadata": {
    "id": "UjrOIwTcz3ri"
   },
   "source": [
    "# Paso 3. Análisis de los datos\n"
   ]
  },
  {
   "cell_type": "markdown",
   "id": "turkish-kidney",
   "metadata": {
    "id": "turkish-kidney"
   },
   "source": [
    "# [A]\n",
    "\n",
    "1. Verifica que los valores en las columnas `'order_hour_of_day'` y `'order_dow'` en la tabla orders sean razonables (es decir, `'order_hour_of_day'` oscile entre 0 y 23 y `'order_dow'` oscile entre 0 y 6).\n",
    "2. Crea un gráfico que muestre el número de personas que hacen pedidos dependiendo de la hora del día.\n",
    "3. Crea un gráfico que muestre qué día de la semana la gente hace sus compras.\n",
    "4. Crea un gráfico que muestre el tiempo que la gente espera hasta hacer su siguiente pedido, y comenta sobre los valores mínimos y máximos."
   ]
  },
  {
   "cell_type": "markdown",
   "id": "short-capability",
   "metadata": {
    "id": "short-capability"
   },
   "source": [
    "### [A1] Verifica que los valores sean sensibles"
   ]
  },
  {
   "cell_type": "code",
   "execution_count": 184,
   "id": "growing-fruit",
   "metadata": {
    "id": "growing-fruit"
   },
   "outputs": [
    {
     "name": "stdout",
     "output_type": "stream",
     "text": [
      "El valor máximo en order_hour_of_day es: 23\n",
      "El valor mínimo en order_hour_of_day es: 0\n"
     ]
    }
   ],
   "source": [
    "print('El valor máximo en order_hour_of_day es:', df_orders['order_hour_of_day'].max())\n",
    "print('El valor mínimo en order_hour_of_day es:', df_orders['order_hour_of_day'].min())"
   ]
  },
  {
   "cell_type": "code",
   "execution_count": 185,
   "id": "accessory-malaysia",
   "metadata": {
    "id": "accessory-malaysia"
   },
   "outputs": [
    {
     "name": "stdout",
     "output_type": "stream",
     "text": [
      "El valor máximo en order_dow es: 6\n",
      "El valor máximo en order_dow es: 0\n"
     ]
    }
   ],
   "source": [
    "print('El valor máximo en order_dow es:', df_orders['order_dow'].max())\n",
    "print('El valor máximo en order_dow es:', df_orders['order_dow'].min())"
   ]
  },
  {
   "cell_type": "markdown",
   "id": "hmR2GNQ6lCsX",
   "metadata": {
    "id": "hmR2GNQ6lCsX"
   },
   "source": [
    "**Observaciones:**\n",
    "\n",
    "Parece que los datos cumplen con ser razonables, son valores enteros cuyo máximo y minimos coinciden con valores razonables para la hora del día y el día de la semana, se puede continuar con el siguiente paso"
   ]
  },
  {
   "cell_type": "markdown",
   "id": "a6743a70",
   "metadata": {
    "id": "a6743a70"
   },
   "source": [
    "### [A2] Para cada hora del día, ¿cuántas personas hacen órdenes?"
   ]
  },
  {
   "cell_type": "code",
   "execution_count": 186,
   "id": "a36cca27",
   "metadata": {
    "id": "a36cca27"
   },
   "outputs": [
    {
     "data": {
      "image/png": "[encoded data removed]",
      "text/plain": [
       "<Figure size 1200x600 with 1 Axes>"
      ]
     },
     "metadata": {},
     "output_type": "display_data"
    }
   ],
   "source": [
    "order_counts_by_hour = df_orders['order_hour_of_day'].value_counts().sort_index()\n",
    "plt.figure(figsize=(12, 6))\n",
    "order_counts_by_hour.plot(kind='bar')\n",
    "plt.xlabel('Hour of Day')\n",
    "plt.ylabel('Number of Orders')\n",
    "plt.title('Number of Orders by Hour of Day')\n",
    "plt.xticks(rotation=0)\n",
    "plt.grid(True)"
   ]
  },
  {
   "cell_type": "markdown",
   "id": "11270eed",
   "metadata": {
    "id": "11270eed"
   },
   "source": [
    "**Observaciones:**\n",
    "\n",
    "Se observa que los datos cumplen con una distrubución parecida a una distribución normal con el pico de órdenes más alto para las 10am y un mínimo a las 3am, entre las 9am y las 4pm se localizan las órdenes por encima de 35000 y menos de 5000 en la madrugada de las 24hrs hasta las 6am."
   ]
  },
  {
   "cell_type": "markdown",
   "id": "documented-command",
   "metadata": {
    "id": "documented-command"
   },
   "source": [
    "### [A3] ¿Qué día de la semana compran víveres las personas?"
   ]
  },
  {
   "cell_type": "code",
   "execution_count": 187,
   "id": "chief-digit",
   "metadata": {
    "id": "chief-digit"
   },
   "outputs": [
    {
     "data": {
      "image/png": "[encoded data removed]",
      "text/plain": [
       "<Figure size 1200x600 with 1 Axes>"
      ]
     },
     "metadata": {},
     "output_type": "display_data"
    }
   ],
   "source": [
    "order_counts_by_hour = df_orders['order_dow'].value_counts().sort_index()\n",
    "plt.figure(figsize=(12, 6))\n",
    "order_counts_by_hour.plot(kind='bar')\n",
    "plt.xlabel('Day of Week')\n",
    "plt.ylabel('Number of Orders')\n",
    "plt.title('Number of Orders by Day')\n",
    "plt.xticks(rotation=0)\n",
    "plt.grid(True)"
   ]
  },
  {
   "cell_type": "markdown",
   "id": "dominant-lightning",
   "metadata": {
    "id": "dominant-lightning"
   },
   "source": [
    "**Observaciones:**\n",
    "\n",
    "Se observa que el mayor número de ordenes se da el día domingo más de 80000 órdenes registradas y el menor número de órdenes el día jueves con aproximadamente 60000 órdenes"
   ]
  },
  {
   "cell_type": "markdown",
   "id": "cutting-concert",
   "metadata": {
    "id": "cutting-concert"
   },
   "source": [
    "### [A4] ¿Cuánto tiempo esperan las personas hasta hacer otro pedido? Comenta sobre los valores mínimos y máximos."
   ]
  },
  {
   "cell_type": "code",
   "execution_count": 188,
   "id": "c231f523",
   "metadata": {
    "id": "c231f523"
   },
   "outputs": [
    {
     "data": {
      "image/png": "[encoded data removed]",
      "text/plain": [
       "<Figure size 1200x600 with 1 Axes>"
      ]
     },
     "metadata": {},
     "output_type": "display_data"
    }
   ],
   "source": [
    "plt.figure(figsize=(12, 6))\n",
    "df_orders['days_since_prior_order'].plot(kind='hist', bins=30, edgecolor='black')\n",
    "plt.xlabel('Days Since Prior Order')\n",
    "plt.ylabel('Number of Orders')\n",
    "plt.title('Time Until Next Order')\n",
    "plt.grid(True)\n",
    "# Mostrar el gráfico\n",
    "plt.show()"
   ]
  },
  {
   "cell_type": "code",
   "execution_count": 189,
   "id": "11b81ad1",
   "metadata": {},
   "outputs": [
    {
     "name": "stdout",
     "output_type": "stream",
     "text": [
      "El valor mínimo de días hasta el siguiente pedido es: 0.0\n",
      "El valor máximo de días hasta el siguiente pedido es: 30.0\n"
     ]
    }
   ],
   "source": [
    "# Comentar sobre los valores mínimos y máximos\n",
    "min_days = df_orders['days_since_prior_order'].min()\n",
    "max_days = df_orders['days_since_prior_order'].max()\n",
    "\n",
    "print(f\"El valor mínimo de días hasta el siguiente pedido es: {min_days}\")\n",
    "print(f\"El valor máximo de días hasta el siguiente pedido es: {max_days}\")"
   ]
  },
  {
   "cell_type": "markdown",
   "id": "discrete-vertex",
   "metadata": {
    "id": "discrete-vertex"
   },
   "source": [
    "**Observaciones:**\n",
    "\n",
    "Se observa que los picos de días de espera son el día 8 y el día 30 y que la mayoría de las personas esperan menos de 15 días para realizar otro pedido y si esperan más de eso, la mayoría espera hasta los 30 días. Los mínimos se observan en los días 26 y 27"
   ]
  },
  {
   "cell_type": "markdown",
   "id": "tight-staff",
   "metadata": {
    "id": "tight-staff"
   },
   "source": [
    "# [B] \n",
    "1. ¿Existe alguna diferencia entre las distribuciones `'order_hour_of_day'` de los miércoles y los sábados? Traza gráficos de barra de `'order_hour_of_day'` para ambos días en la misma figura y describe las diferencias que observes.\n",
    "2. Grafica la distribución para el número de órdenes que hacen los clientes (es decir, cuántos clientes hicieron solo 1 pedido, cuántos hicieron 2, cuántos 3, y así sucesivamente...).\n",
    "3. ¿Cuáles son los 20 principales productos que se piden con más frecuencia (muestra su identificación y nombre)?"
   ]
  },
  {
   "cell_type": "markdown",
   "id": "packed-classic",
   "metadata": {
    "id": "packed-classic"
   },
   "source": [
    "### [B1] Diferencia entre miércoles y sábados para  `'order_hour_of_day'`. Traza gráficos de barra para los dos días y describe las diferencias que veas."
   ]
  },
  {
   "cell_type": "code",
   "execution_count": 190,
   "id": "d89b8403",
   "metadata": {
    "id": "d89b8403"
   },
   "outputs": [],
   "source": [
    "# Extraemos los datos del miércoles y sábado\n",
    "wednesday_orders=df_orders[df_orders['order_dow']==3]\n",
    "saturday_orders=df_orders[df_orders['order_dow']==6]"
   ]
  },
  {
   "cell_type": "code",
   "execution_count": 191,
   "id": "94e54e8a",
   "metadata": {
    "id": "94e54e8a"
   },
   "outputs": [],
   "source": [
    "# Extraemos los datos del miércoles y sábado por hora y los listamos de forma ascendente\n",
    "order_counts_wednesday = wednesday_orders['order_hour_of_day'].value_counts().sort_index()\n",
    "order_counts_saturday = saturday_orders['order_hour_of_day'].value_counts().sort_index()"
   ]
  },
  {
   "cell_type": "code",
   "execution_count": 192,
   "id": "797c90a8",
   "metadata": {
    "id": "797c90a8"
   },
   "outputs": [
    {
     "data": {
      "image/png": "[encoded data removed]",
      "text/plain": [
       "<Figure size 1400x700 with 1 Axes>"
      ]
     },
     "metadata": {},
     "output_type": "display_data"
    }
   ],
   "source": [
    "# Mostramos resultados\n",
    "plt.figure(figsize=(14, 7))\n",
    "\n",
    "plt.bar(order_counts_wednesday.index - 0.2, order_counts_wednesday.values, width=0.4, label='Wednesday', align='center')\n",
    "plt.bar(order_counts_saturday.index + 0.2, order_counts_saturday.values, width=0.4, label='Saturday', align='center')\n",
    "\n",
    "plt.xlabel('Hour of Day')\n",
    "plt.ylabel('Number of Orders')\n",
    "plt.title('Number of Orders by Hour of Day (Wednesday vs Saturday)')\n",
    "plt.legend()\n",
    "plt.grid(True)\n",
    "\n",
    "# Mostrar el gráfico\n",
    "plt.show()"
   ]
  },
  {
   "cell_type": "code",
   "execution_count": 193,
   "id": "35bcea30",
   "metadata": {
    "id": "35bcea30"
   },
   "outputs": [
    {
     "name": "stdout",
     "output_type": "stream",
     "text": [
      "Análisis de las distribuciones de 'order_hour_of_day' para los miércoles y los sábados:\n",
      "Pedidos los miércoles: count      24.00000\n",
      "mean     2538.00000\n",
      "std      1993.55878\n",
      "min       101.00000\n",
      "25%       575.50000\n",
      "50%      2284.50000\n",
      "75%      4677.50000\n",
      "max      5163.00000\n",
      "Name: order_hour_of_day, dtype: float64\n",
      "Pedidos los sábados: count      24.000000\n",
      "mean     2610.375000\n",
      "std      2075.716614\n",
      "min       118.000000\n",
      "25%       460.750000\n",
      "50%      2228.500000\n",
      "75%      4946.500000\n",
      "max      5375.000000\n",
      "Name: order_hour_of_day, dtype: float64\n"
     ]
    }
   ],
   "source": [
    "# Describir las diferencias observadas\n",
    "print(\"Análisis de las distribuciones de 'order_hour_of_day' para los miércoles y los sábados:\")\n",
    "print(f\"Pedidos los miércoles: {order_counts_wednesday.describe()}\")\n",
    "print(f\"Pedidos los sábados: {order_counts_saturday.describe()}\")"
   ]
  },
  {
   "cell_type": "markdown",
   "id": "charitable-congo",
   "metadata": {
    "id": "charitable-congo"
   },
   "source": [
    "**Observaciones:**\n",
    "\n",
    "Los dos días siguen una distribución cualitativamente parecida, en ambos hay el mismo número de pedidos aunque hay un promedio más grande los sábados y por lo tanto una desviación estandar mayor. El mínimo y el máximo más grandes se encuentran también el sábado."
   ]
  },
  {
   "cell_type": "markdown",
   "id": "e3891143",
   "metadata": {
    "id": "e3891143"
   },
   "source": [
    "### [B2] ¿Cuál es la distribución para el número de pedidos por cliente?"
   ]
  },
  {
   "cell_type": "code",
   "execution_count": 194,
   "id": "d8c26c23",
   "metadata": {
    "id": "d8c26c23"
   },
   "outputs": [
    {
     "data": {
      "image/png": "[encoded data removed]",
      "text/plain": [
       "<Figure size 1400x700 with 1 Axes>"
      ]
     },
     "metadata": {},
     "output_type": "display_data"
    }
   ],
   "source": [
    "# Agrupar por 'user_id' y contar el número de pedidos por cliente\n",
    "order_counts = df_orders.groupby('user_id')['order_id'].count()\n",
    "\n",
    "# Contar la frecuencia de cada número de pedidos\n",
    "order_counts_distribution = order_counts.value_counts().sort_index()\n",
    "\n",
    "# Crear un histograma para mostrar la distribución del número de órdenes por cliente\n",
    "plt.figure(figsize=(14, 7))\n",
    "\n",
    "# Graficar el histograma\n",
    "plt.hist(order_counts, bins=range(1, order_counts.max() + 1), edgecolor='black', color='skyblue')\n",
    "\n",
    "# Etiquetas y título del gráfico\n",
    "plt.xlabel('Number of Orders')\n",
    "plt.ylabel('Number of Customers')\n",
    "plt.title('Distribution of Number of Orders per Customer')\n",
    "plt.xticks(range(1, order_counts.max() + 1))\n",
    "\n",
    "# Mostrar el gráfico\n",
    "plt.show()"
   ]
  },
  {
   "cell_type": "markdown",
   "id": "d2eff7d5",
   "metadata": {
    "id": "d2eff7d5"
   },
   "source": [
    "**Observaciones:**\n",
    "\n",
    "La mayoría de los clientes haces menos de pedidos y el el pico de clientes hace un pedido solamente. practicamente no hay clientes que hagan más de 18 órdenes. "
   ]
  },
  {
   "cell_type": "markdown",
   "id": "54a0319c",
   "metadata": {
    "id": "54a0319c"
   },
   "source": [
    "### [B3] ¿Cuáles son los 20 productos más populares (muestra su ID y nombre)?"
   ]
  },
  {
   "cell_type": "code",
   "execution_count": 195,
   "id": "exterior-arizona",
   "metadata": {
    "id": "exterior-arizona",
    "scrolled": true
   },
   "outputs": [
    {
     "name": "stdout",
     "output_type": "stream",
     "text": [
      "    product_id              product_name  order_count\n",
      "0        24852                    Banana        66050\n",
      "1        13176    Bag of Organic Bananas        53297\n",
      "2        21137      Organic Strawberries        37039\n",
      "3        21903      Organic Baby Spinach        33971\n",
      "4        47209      Organic Hass Avocado        29773\n",
      "5        47766           Organic Avocado        24689\n",
      "6        47626               Large Lemon        21495\n",
      "7        16797              Strawberries        20018\n",
      "8        26209                     Limes        19690\n",
      "9        27845        Organic Whole Milk        19600\n",
      "10       27966       Organic Raspberries        19197\n",
      "11       22935      Organic Yellow Onion        15898\n",
      "12       24964            Organic Garlic        15292\n",
      "13       45007          Organic Zucchini        14584\n",
      "14       39275       Organic Blueberries        13879\n",
      "15       49683            Cucumber Kirby        13675\n",
      "16       28204        Organic Fuji Apple        12544\n",
      "17        5876             Organic Lemon        12232\n",
      "18        8277  Apple Honeycrisp Organic        11993\n",
      "19       40706    Organic Grape Tomatoes        11781\n"
     ]
    }
   ],
   "source": [
    "product_counts = df_order_products['product_id'].value_counts().head(20)\n",
    "\n",
    "# Unir con el DataFrame products para obtener los nombres de los productos\n",
    "top_products = pd.merge(product_counts.reset_index(), df_products, left_on='index', right_on='product_id', how='left')\n",
    "\n",
    "# Seleccionar solo las columnas de interés y renombrarlas\n",
    "top_products = top_products[['product_id_y', 'product_name', 'product_id_x']]\n",
    "top_products.columns = ['product_id', 'product_name', 'order_count']\n",
    "\n",
    "# Mostrar los 20 principales productos\n",
    "print(top_products)"
   ]
  },
  {
   "cell_type": "markdown",
   "id": "7df00f47",
   "metadata": {
    "id": "7df00f47"
   },
   "source": [
    "**Observaciones:**\n",
    "\n",
    "La mayoría de los productos en la primera posición son frutas. Parece ser que los productos más populares son los dicen orgánico."
   ]
  },
  {
   "cell_type": "markdown",
   "id": "gross-theme",
   "metadata": {
    "id": "gross-theme"
   },
   "source": [
    "# [C]\n",
    "\n",
    "1. ¿Cuántos artículos suelen comprar las personas en un pedido? ¿Cómo es la distribución?\n",
    "2. ¿Cuáles son los 20 principales artículos que vuelven a pedirse con mayor frecuencia (muestra sus nombres e IDs de los productos)?\n",
    "3. Para cada producto, ¿cuál es la tasa de repetición del pedido (número de repeticiones de pedido/total de pedidos?\n",
    "4. Para cada cliente, ¿qué proporción de los productos que pidió ya los había pedido? Calcula la tasa de repetición de pedido para cada usuario en lugar de para cada producto.\n",
    "5. ¿Cuáles son los 20 principales artículos que la gente pone primero en sus carritos (muestra las IDs de los productos, sus nombres, y el número de veces en que fueron el primer artículo en añadirse al carrito)?"
   ]
  },
  {
   "cell_type": "markdown",
   "id": "romantic-deposit",
   "metadata": {
    "id": "romantic-deposit"
   },
   "source": [
    "### [C1] ¿Cuántos artículos compran normalmente las personas en un pedido? ¿Cómo es la distribución?"
   ]
  },
  {
   "cell_type": "code",
   "execution_count": 196,
   "id": "virtual-punch",
   "metadata": {
    "id": "virtual-punch"
   },
   "outputs": [
    {
     "name": "stdout",
     "output_type": "stream",
     "text": [
      "count    450046.000000\n",
      "mean         10.098983\n",
      "std           7.540206\n",
      "min           1.000000\n",
      "25%           5.000000\n",
      "50%           8.000000\n",
      "75%          14.000000\n",
      "max         127.000000\n",
      "dtype: float64\n"
     ]
    }
   ],
   "source": [
    "order_item_counts = df_order_products.groupby('order_id').size()\n",
    "\n",
    "# Calcular estadísticas descriptivas\n",
    "print(order_item_counts.describe())"
   ]
  },
  {
   "cell_type": "code",
   "execution_count": 197,
   "id": "sensitive-breathing",
   "metadata": {
    "id": "sensitive-breathing"
   },
   "outputs": [
    {
     "data": {
      "image/png": "[encoded data removed]",
      "text/plain": [
       "<Figure size 1000x600 with 1 Axes>"
      ]
     },
     "metadata": {},
     "output_type": "display_data"
    }
   ],
   "source": [
    "# Visualizar la distribución con un histograma\n",
    "plt.figure(figsize=(10, 6))\n",
    "plt.hist(order_item_counts, bins=range(1, order_item_counts.max() + 1), edgecolor='k', alpha=0.7)\n",
    "plt.title('Distribution of Number of Items per Order')\n",
    "plt.xlabel('Number of Items per Order')\n",
    "plt.ylabel('Frequency')\n",
    "plt.grid(axis='y')\n",
    "plt.show()"
   ]
  },
  {
   "cell_type": "markdown",
   "id": "designed-mortality",
   "metadata": {
    "id": "designed-mortality"
   },
   "source": [
    "**Observaciones:**\n",
    "\n",
    "La mayoría de las personas pide entre 1 y 23 productos por órden con más frecuencia, el pico se encuentra en 9 productos por orden, casi nadie compra a partir de 40 productos o más"
   ]
  },
  {
   "cell_type": "markdown",
   "id": "5e6b5537",
   "metadata": {
    "id": "5e6b5537"
   },
   "source": [
    "### [C2] ¿Cuáles son los 20 principales artículos que vuelven a pedirse con mayor frecuencia (muestra sus nombres e IDs de los productos)?"
   ]
  },
  {
   "cell_type": "code",
   "execution_count": 198,
   "id": "9374e55a",
   "metadata": {
    "id": "9374e55a"
   },
   "outputs": [
    {
     "name": "stdout",
     "output_type": "stream",
     "text": [
      "    product_id  reorder_count              product_name\n",
      "0        24852          55763                    Banana\n",
      "1        13176          44450    Bag of Organic Bananas\n",
      "2        21137          28639      Organic Strawberries\n",
      "3        21903          26233      Organic Baby Spinach\n",
      "4        47209          23629      Organic Hass Avocado\n",
      "5        47766          18743           Organic Avocado\n",
      "6        27845          16251        Organic Whole Milk\n",
      "7        47626          15044               Large Lemon\n",
      "8        27966          14748       Organic Raspberries\n",
      "9        16797          13945              Strawberries\n",
      "10       26209          13327                     Limes\n",
      "11       22935          11145      Organic Yellow Onion\n",
      "12       24964          10411            Organic Garlic\n",
      "13       45007          10076          Organic Zucchini\n",
      "14       49683           9538            Cucumber Kirby\n",
      "15       28204           8989        Organic Fuji Apple\n",
      "16        8277           8836  Apple Honeycrisp Organic\n",
      "17       39275           8799       Organic Blueberries\n",
      "18        5876           8412             Organic Lemon\n",
      "19       49235           8389       Organic Half & Half\n"
     ]
    }
   ],
   "source": [
    "# Filtrar los productos que han sido reordenados\n",
    "reordered_products = df_order_products[df_order_products['reordered'] == 1]\n",
    "\n",
    "# Contar la frecuencia de cada producto reordenado\n",
    "reordered_counts = reordered_products['product_id'].value_counts().head(20)\n",
    "\n",
    "# Obtener los nombres e IDs de los productos reordenados con mayor frecuencia\n",
    "top_reordered_products = reordered_counts.reset_index()\n",
    "top_reordered_products.columns = ['product_id', 'reorder_count']\n",
    "top_reordered_products = top_reordered_products.merge(df_products[['product_id', 'product_name']], on='product_id')\n",
    "\n",
    "# Mostrar los 20 principales productos reordenados con mayor frecuencia\n",
    "print(top_reordered_products)"
   ]
  },
  {
   "cell_type": "code",
   "execution_count": 199,
   "id": "possible-change",
   "metadata": {
    "id": "possible-change",
    "scrolled": true
   },
   "outputs": [
    {
     "data": {
      "image/png": "[encoded data removed]",
      "text/plain": [
       "<Figure size 1200x800 with 1 Axes>"
      ]
     },
     "metadata": {},
     "output_type": "display_data"
    }
   ],
   "source": [
    "# Graficar los resultados\n",
    "plt.figure(figsize=(12, 8))\n",
    "plt.barh(top_reordered_products['product_name'], top_reordered_products['reorder_count'], color='skyblue')\n",
    "plt.xlabel('Reorder Count')\n",
    "plt.ylabel('Product Name')\n",
    "plt.title('Top 20 Most Reordered Products')\n",
    "plt.gca().invert_yaxis()  # Invertir el eje y para mostrar el producto con más reordenes en la parte superior\n",
    "plt.show()"
   ]
  },
  {
   "cell_type": "markdown",
   "id": "80e70c74",
   "metadata": {
    "id": "80e70c74"
   },
   "source": [
    "**Observaciones:**\n",
    "\n",
    "El producto más se vuelve a pedir son las bananas, cos los dos primeros lugares, seguido de las fresas, las espicas, el aguacate hass y el aguacate orgánico. El menos pedido de estos primeros 20 es el half & half organico"
   ]
  },
  {
   "cell_type": "markdown",
   "id": "9d312b14",
   "metadata": {
    "id": "9d312b14"
   },
   "source": [
    "### [C3] Para cada producto, ¿cuál es la proporción de las veces que se pide y que se vuelve a pedir?"
   ]
  },
  {
   "cell_type": "code",
   "execution_count": 200,
   "id": "8ae9f4b1",
   "metadata": {
    "id": "8ae9f4b1"
   },
   "outputs": [
    {
     "name": "stdout",
     "output_type": "stream",
     "text": [
      "       product_id  reorder_proportion  \\\n",
      "0               1            0.564286   \n",
      "1               2                 NaN   \n",
      "2               3            0.738095   \n",
      "3               4            0.510204   \n",
      "4               7            0.500000   \n",
      "...           ...                 ...   \n",
      "45568       49690            0.800000   \n",
      "45569       49691            0.430556   \n",
      "45570       49692            0.416667   \n",
      "45571       49693            0.440000   \n",
      "45572       49694            0.333333   \n",
      "\n",
      "                                            product_name  \n",
      "0                             Chocolate Sandwich Cookies  \n",
      "1                                       All-Seasons Salt  \n",
      "2                   Robust Golden Unsweetened Oolong Tea  \n",
      "3      Smart Ones Classic Favorites Mini Rigatoni Wit...  \n",
      "4                         Pure Coconut Water With Orange  \n",
      "...                                                  ...  \n",
      "45568                      HIGH PERFORMANCE ENERGY DRINK  \n",
      "45569                      ORIGINAL PANCAKE & WAFFLE MIX  \n",
      "45570    ORGANIC INSTANT OATMEAL LIGHT MAPLE BROWN SUGAR  \n",
      "45571                             SPRING WATER BODY WASH  \n",
      "45572                            BURRITO- STEAK & CHEESE  \n",
      "\n",
      "[45573 rows x 3 columns]\n",
      "       product_id  reorder_proportion\n",
      "0               1            0.564286\n",
      "1               2                 NaN\n",
      "2               3            0.738095\n",
      "3               4            0.510204\n",
      "4               7            0.500000\n",
      "...           ...                 ...\n",
      "45568       49690            0.800000\n",
      "45569       49691            0.430556\n",
      "45570       49692            0.416667\n",
      "45571       49693            0.440000\n",
      "45572       49694            0.333333\n",
      "\n",
      "[45573 rows x 2 columns]\n",
      "El valor máximo en reorder_proportion es: 1.0\n",
      "El valor mínimo en reorder_proportion es: 0.01098901098901099\n",
      "       product_id  reorder_proportion\n",
      "1               2                 NaN\n",
      "11             14                 NaN\n",
      "12             17                 NaN\n",
      "14             19                 NaN\n",
      "15             21                 NaN\n",
      "...           ...                 ...\n",
      "45543       49663                 NaN\n",
      "45550       49672                 NaN\n",
      "45562       49684                 NaN\n",
      "45565       49687                 NaN\n",
      "45567       49689                 NaN\n",
      "\n",
      "[9345 rows x 2 columns]\n"
     ]
    }
   ],
   "source": [
    "# Calcular el número total de veces que cada producto se ha pedido\n",
    "total_orders = df_order_products['product_id'].value_counts()\n",
    "\n",
    "# Calcular el número total de veces que cada producto se ha reordenado\n",
    "reordered_counts = reordered_products['product_id'].value_counts()\n",
    "\n",
    "# Calcular la proporción de reordenes respecto al total de pedidos\n",
    "proportion_reordered = reordered_counts / total_orders\n",
    "\n",
    "# Convertir los resultados a un DataFrame\n",
    "proportion_reordered_df = proportion_reordered.reset_index()\n",
    "proportion_reordered_df.columns = ['product_id', 'reorder_proportion']\n",
    "\n",
    "# Fusionar con el DataFrame de productos para obtener los nombres de los productos\n",
    "proportion_reordered_df = proportion_reordered_df.merge(df_products[['product_id', 'product_name']], on='product_id')\n",
    "\n",
    "# Mostrar los resultados\n",
    "print(proportion_reordered_df)\n",
    "\n",
    "\n",
    "# Contar el número total de veces que se ha pedido cada producto\n",
    "total_orders_per_product = df_order_products['product_id'].value_counts()\n",
    "\n",
    "# Contar el número de veces que se ha vuelto a pedir cada producto\n",
    "reordered_orders_per_product = df_order_products[df_order_products['reordered'] == 1]['product_id'].value_counts()\n",
    "\n",
    "# Calcular la proporción de veces que un producto se vuelve a pedir respecto al total de veces que se ha pedido ese producto\n",
    "reorder_proportion_per_product = reordered_orders_per_product / total_orders_per_product\n",
    "\n",
    "# Convertir los resultados a un DataFrame\n",
    "reorder_proportion_per_product_df = reorder_proportion_per_product.reset_index()\n",
    "reorder_proportion_per_product_df.columns = ['product_id', 'reorder_proportion']\n",
    "\n",
    "# Mostrar los resultados\n",
    "print(reorder_proportion_per_product_df)\n",
    "print('El valor máximo en reorder_proportion es:', reorder_proportion_per_product_df['reorder_proportion'].max())\n",
    "print('El valor mínimo en reorder_proportion es:', reorder_proportion_per_product_df['reorder_proportion'].min())\n",
    "print(reorder_proportion_per_product_df[reorder_proportion_per_product_df['reorder_proportion'].isna()])"
   ]
  },
  {
   "cell_type": "markdown",
   "id": "I10dEIAyldcO",
   "metadata": {
    "id": "I10dEIAyldcO"
   },
   "source": [
    "**Observaciones:**\n",
    "\n",
    "El valor máximo de reorder_proportion es 1 y el mínimo es 0.01098901098901099, se evaluaron 9345 valores nulos, lo cual indica que el total de órdenes es 0 para estos productos"
   ]
  },
  {
   "cell_type": "markdown",
   "id": "subject-boxing",
   "metadata": {
    "id": "subject-boxing"
   },
   "source": [
    "### [C4] Para cada cliente, ¿qué proporción de sus productos ya los había pedido?"
   ]
  },
  {
   "cell_type": "code",
   "execution_count": 201,
   "id": "medical-couple",
   "metadata": {
    "id": "medical-couple",
    "scrolled": true
   },
   "outputs": [
    {
     "name": "stdout",
     "output_type": "stream",
     "text": [
      "        user_id  reorder_proportion\n",
      "0             2            0.038462\n",
      "1             4                 NaN\n",
      "2             5            0.666667\n",
      "3             6                 NaN\n",
      "4             7            0.928571\n",
      "...         ...                 ...\n",
      "149621   206203            0.222222\n",
      "149622   206206            0.714286\n",
      "149623   206207            0.891304\n",
      "149624   206208            0.696000\n",
      "149625   206209            0.320000\n",
      "\n",
      "[149626 rows x 2 columns]\n",
      "El valor máximo en reorder_proportion es: 1.0\n",
      "El valor mínimo en reorder_proportion es: 0.014925373134328358\n",
      "        user_id  reorder_proportion\n",
      "1             4                 NaN\n",
      "3             6                 NaN\n",
      "13           20                 NaN\n",
      "21           30                 NaN\n",
      "24           34                 NaN\n",
      "...         ...                 ...\n",
      "149582   206156                 NaN\n",
      "149592   206167                 NaN\n",
      "149597   206175                 NaN\n",
      "149605   206184                 NaN\n",
      "149610   206190                 NaN\n",
      "\n",
      "[16635 rows x 2 columns]\n"
     ]
    }
   ],
   "source": [
    "# Fusionar las tablas de pedidos y productos pedidos en una sola tabla\n",
    "df_merged = df_orders.merge(df_order_products, on='order_id')\n",
    "\n",
    "# Agrupar por user_id para calcular el número total de productos pedidos por cada cliente\n",
    "total_products_per_user = df_merged.groupby('user_id')['product_id'].count()\n",
    "\n",
    "# Agrupar por user_id y filtrar para calcular el número total de productos reordenados por cada cliente\n",
    "reordered_products_per_user = df_merged[df_merged['reordered'] == 1].groupby('user_id')['product_id'].count()\n",
    "\n",
    "# Calcular la proporción de productos reordenados respecto al total de productos pedidos por cada cliente\n",
    "proportion_reordered_per_user = reordered_products_per_user / total_products_per_user\n",
    "\n",
    "# Convertir los resultados a un DataFrame\n",
    "proportion_reordered_per_user_df = proportion_reordered_per_user.reset_index()\n",
    "proportion_reordered_per_user_df.columns = ['user_id', 'reorder_proportion']\n",
    "\n",
    "# Mostrar los resultados\n",
    "print(proportion_reordered_per_user_df)\n",
    "print('El valor máximo en reorder_proportion es:', proportion_reordered_per_user_df['reorder_proportion'].max())\n",
    "print('El valor mínimo en reorder_proportion es:', proportion_reordered_per_user_df['reorder_proportion'].min())\n",
    "print(proportion_reordered_per_user_df[proportion_reordered_per_user_df['reorder_proportion'].isna()])"
   ]
  },
  {
   "cell_type": "markdown",
   "id": "BgJSvXDsleXz",
   "metadata": {
    "id": "BgJSvXDsleXz"
   },
   "source": [
    "**Observaciones:**\n",
    "\n",
    "El valor máximo de reorder_proportion es 1 y el mínimo es 0.014925373134328358, se evaluaron 16635 valores nulos lo cual indica que el total de productos por usuario es 0 para estos productos"
   ]
  },
  {
   "cell_type": "markdown",
   "id": "92d35137",
   "metadata": {
    "id": "92d35137"
   },
   "source": [
    "### [C5] ¿Cuáles son los 20 principales artículos que las personas ponen primero en sus carritos?"
   ]
  },
  {
   "cell_type": "code",
   "execution_count": 210,
   "id": "0ae57274",
   "metadata": {
    "id": "0ae57274",
    "scrolled": true
   },
   "outputs": [
    {
     "name": "stdout",
     "output_type": "stream",
     "text": [
      "    product_id  count\n",
      "0        24852  15562\n",
      "1        13176  11026\n",
      "2        27845   4363\n",
      "3        21137   3946\n",
      "4        47209   3390\n",
      "5        21903   3336\n",
      "6        47766   3044\n",
      "7        19660   2336\n",
      "8        16797   2308\n",
      "9        27966   2024\n",
      "10       44632   1914\n",
      "11       49235   1797\n",
      "12       47626   1737\n",
      "13         196   1733\n",
      "14       38689   1397\n",
      "15       26209   1370\n",
      "16       12341   1340\n",
      "17        5785   1310\n",
      "18       27086   1309\n",
      "19       22935   1246\n",
      "El valor máximo en top_first_in_cart es: 15562\n",
      "El valor mínimo en top_first_in_cart es: 1\n"
     ]
    }
   ],
   "source": [
    "# Filtrar los datos para obtener solo los artículos que se agregan primero al carrito\n",
    "first_in_cart = df_order_products[df_order_products['add_to_cart_order'] == 1]\n",
    "\n",
    "# Contar la frecuencia de cada artículo\n",
    "top_first_in_cart = first_in_cart['product_id'].value_counts().reset_index()\n",
    "\n",
    "# Renombrar las columnas\n",
    "top_first_in_cart.columns = ['product_id', 'count']\n",
    "\n",
    "# Mostrar los 20 principales artículos que se ponen primero en el carrito\n",
    "print(top_first_in_cart.head(20))\n",
    "print('El valor máximo en top_first_in_cart es:', top_first_in_cart['count'].max())\n",
    "print('El valor mínimo en top_first_in_cart es:', top_first_in_cart['count'].min())"
   ]
  },
  {
   "cell_type": "markdown",
   "id": "28ce9872",
   "metadata": {
    "id": "28ce9872"
   },
   "source": [
    "**Observaciones:**\n",
    "\n",
    "El producto con id 24852 es el que más se pone en el carrito por primera vez con 15562, seguido del producto con id 13176 con 11026 veces y el mínimo con el id 22935 con 1246 veces"
   ]
  },
  {
   "cell_type": "markdown",
   "id": "uITbFCEoDosC",
   "metadata": {
    "id": "uITbFCEoDosC"
   },
   "source": [
    "### Conclusion general del proyecto:"
   ]
  },
  {
   "cell_type": "markdown",
   "id": "82659678",
   "metadata": {
    "id": "Nk-4GS7mDwqY"
   },
   "source": [
    "1. Este proyecto me pareció largo pero necesario para entender y familiarizarme con el tipo de datos que hay, la forma de preprocesar los datos, las maneras de graficar y visualizar la información.\n",
    "2. Creo que al final de este proyecto se tiene una idea concreta de las tendencias y los patrones que siguen los clientes al ordenar y pedir productos en esta plataforma.\n",
    "3. El preprocesamiento es la parte más tediodsa pero la más importante para tener buenos y confiables resultados.\n",
    "4. Pandas es una libreria que ayuda mucho a manipular más rapido y simple una gran cantidad de datos.\n",
    "5. Todos los métodos aprendidos fueron de utilidad al procesar la información.\n",
    "6. A veces fué un difícil entender las instrucciones que se pedían.\n",
    "7. Para estos datos la tendencia es que el mayor número de compras se realiza los domingos entre 10am y 4pm.\n",
    "8. Los productos más vendidos y que se vuelven a pedir son los orgánicos y frutas en especial las bananas.\n",
    "9. La gente tiende a comprar cinco o menos productos por pedido."
   ]
  }
 ],
 "metadata": {
  "ExecuteTimeLog": [
   {
    "duration": 4156,
    "start_time": "2024-05-28T02:34:00.148Z"
   },
   {
    "duration": 8,
    "start_time": "2024-05-28T02:34:04.307Z"
   },
   {
    "duration": 0,
    "start_time": "2024-05-28T02:34:04.318Z"
   },
   {
    "duration": 561,
    "start_time": "2024-05-28T02:35:09.863Z"
   },
   {
    "duration": 33,
    "start_time": "2024-05-28T02:35:13.434Z"
   },
   {
    "duration": 3,
    "start_time": "2024-05-28T02:39:40.821Z"
   },
   {
    "duration": 3741,
    "start_time": "2024-05-28T02:39:41.351Z"
   },
   {
    "duration": 33,
    "start_time": "2024-05-28T02:39:45.880Z"
   },
   {
    "duration": 15,
    "start_time": "2024-05-28T02:39:47.002Z"
   },
   {
    "duration": 12,
    "start_time": "2024-05-28T02:39:47.668Z"
   },
   {
    "duration": 12,
    "start_time": "2024-05-28T02:39:48.263Z"
   },
   {
    "duration": 12,
    "start_time": "2024-05-28T02:39:48.973Z"
   },
   {
    "duration": 151,
    "start_time": "2024-05-28T05:04:51.283Z"
   },
   {
    "duration": 4,
    "start_time": "2024-05-28T05:05:13.533Z"
   },
   {
    "duration": 3743,
    "start_time": "2024-05-28T05:05:14.105Z"
   },
   {
    "duration": 32,
    "start_time": "2024-05-28T05:05:17.852Z"
   },
   {
    "duration": 15,
    "start_time": "2024-05-28T05:05:17.887Z"
   },
   {
    "duration": 12,
    "start_time": "2024-05-28T05:05:18.937Z"
   },
   {
    "duration": 13,
    "start_time": "2024-05-28T05:05:19.627Z"
   },
   {
    "duration": 11,
    "start_time": "2024-05-28T05:05:20.378Z"
   },
   {
    "duration": 18,
    "start_time": "2024-05-28T05:05:24.307Z"
   },
   {
    "duration": 252,
    "start_time": "2024-05-28T05:05:40.494Z"
   },
   {
    "duration": 589,
    "start_time": "2024-05-28T05:07:31.845Z"
   },
   {
    "duration": 520,
    "start_time": "2024-05-28T05:08:18.163Z"
   },
   {
    "duration": 31,
    "start_time": "2024-05-28T05:23:12.657Z"
   },
   {
    "duration": 14,
    "start_time": "2024-05-28T05:23:30.022Z"
   },
   {
    "duration": 12,
    "start_time": "2024-05-28T05:23:43.306Z"
   },
   {
    "duration": 12,
    "start_time": "2024-05-28T05:24:26.200Z"
   },
   {
    "duration": 9,
    "start_time": "2024-05-28T05:24:56.657Z"
   },
   {
    "duration": 780,
    "start_time": "2024-05-28T05:27:53.805Z"
   },
   {
    "duration": 783,
    "start_time": "2024-05-28T05:28:10.663Z"
   },
   {
    "duration": 7,
    "start_time": "2024-05-28T05:33:28.264Z"
   },
   {
    "duration": 24,
    "start_time": "2024-05-28T05:39:39.226Z"
   },
   {
    "duration": 535,
    "start_time": "2024-05-28T05:44:26.825Z"
   },
   {
    "duration": 1048,
    "start_time": "2024-05-28T05:58:24.896Z"
   },
   {
    "duration": 74,
    "start_time": "2024-05-28T05:59:47.346Z"
   },
   {
    "duration": 862,
    "start_time": "2024-05-28T06:02:49.498Z"
   },
   {
    "duration": 77,
    "start_time": "2024-05-28T06:02:55.713Z"
   },
   {
    "duration": 42,
    "start_time": "2024-05-28T06:03:08.191Z"
   },
   {
    "duration": 80,
    "start_time": "2024-05-28T06:06:26.064Z"
   },
   {
    "duration": 75,
    "start_time": "2024-05-28T06:11:31.167Z"
   },
   {
    "duration": 71,
    "start_time": "2024-05-28T06:11:32.308Z"
   },
   {
    "duration": 71,
    "start_time": "2024-05-28T06:11:33.438Z"
   },
   {
    "duration": 74,
    "start_time": "2024-05-28T06:11:45.434Z"
   },
   {
    "duration": 72,
    "start_time": "2024-05-28T06:11:50.210Z"
   },
   {
    "duration": 72,
    "start_time": "2024-05-28T06:13:09.775Z"
   },
   {
    "duration": 73,
    "start_time": "2024-05-28T06:13:27.692Z"
   },
   {
    "duration": 74,
    "start_time": "2024-05-28T06:14:03.092Z"
   },
   {
    "duration": 136,
    "start_time": "2024-05-28T06:15:30.350Z"
   },
   {
    "duration": 76,
    "start_time": "2024-05-28T06:20:21.313Z"
   },
   {
    "duration": 25,
    "start_time": "2024-05-28T06:22:00.648Z"
   },
   {
    "duration": 75,
    "start_time": "2024-05-28T06:23:10.107Z"
   },
   {
    "duration": 4082,
    "start_time": "2024-05-28T06:25:09.394Z"
   },
   {
    "duration": 73,
    "start_time": "2024-05-28T06:25:37.890Z"
   },
   {
    "duration": 75,
    "start_time": "2024-05-28T06:26:13.490Z"
   },
   {
    "duration": 73,
    "start_time": "2024-05-28T06:26:42.051Z"
   },
   {
    "duration": 6,
    "start_time": "2024-05-28T06:27:13.155Z"
   },
   {
    "duration": 5,
    "start_time": "2024-05-28T06:29:16.691Z"
   },
   {
    "duration": 68,
    "start_time": "2024-05-28T06:29:33.346Z"
   },
   {
    "duration": 22,
    "start_time": "2024-05-28T06:30:16.005Z"
   },
   {
    "duration": 20,
    "start_time": "2024-05-28T06:30:17.493Z"
   },
   {
    "duration": 23,
    "start_time": "2024-05-28T06:30:28.434Z"
   },
   {
    "duration": 22,
    "start_time": "2024-05-28T06:30:34.232Z"
   },
   {
    "duration": 33,
    "start_time": "2024-05-28T06:30:39.979Z"
   },
   {
    "duration": 22,
    "start_time": "2024-05-28T06:30:50.377Z"
   },
   {
    "duration": 4,
    "start_time": "2024-05-28T06:30:59.858Z"
   },
   {
    "duration": 3436,
    "start_time": "2024-05-28T06:36:25.255Z"
   },
   {
    "duration": 3,
    "start_time": "2024-05-28T06:37:09.973Z"
   },
   {
    "duration": 1525,
    "start_time": "2024-05-28T06:37:16.778Z"
   },
   {
    "duration": 31,
    "start_time": "2024-05-28T06:37:19.280Z"
   },
   {
    "duration": 14,
    "start_time": "2024-05-28T06:37:24.141Z"
   },
   {
    "duration": 12,
    "start_time": "2024-05-28T06:37:24.852Z"
   },
   {
    "duration": 12,
    "start_time": "2024-05-28T06:37:25.474Z"
   },
   {
    "duration": 15,
    "start_time": "2024-05-28T06:37:26.335Z"
   },
   {
    "duration": 476,
    "start_time": "2024-05-28T06:37:31.311Z"
   },
   {
    "duration": 4,
    "start_time": "2024-05-28T06:37:34.199Z"
   },
   {
    "duration": 19,
    "start_time": "2024-05-28T06:38:10.732Z"
   },
   {
    "duration": 4,
    "start_time": "2024-05-28T06:40:01.040Z"
   },
   {
    "duration": 15,
    "start_time": "2024-05-28T06:40:14.830Z"
   },
   {
    "duration": 6,
    "start_time": "2024-05-28T06:40:31.806Z"
   },
   {
    "duration": 10,
    "start_time": "2024-05-28T06:40:38.319Z"
   },
   {
    "duration": 12,
    "start_time": "2024-05-28T06:43:10.620Z"
   },
   {
    "duration": 12,
    "start_time": "2024-05-28T06:43:37.005Z"
   },
   {
    "duration": 1435,
    "start_time": "2024-05-28T06:44:39.500Z"
   },
   {
    "duration": 1392,
    "start_time": "2024-05-28T06:44:42.442Z"
   },
   {
    "duration": 17,
    "start_time": "2024-05-28T06:44:43.837Z"
   },
   {
    "duration": 17,
    "start_time": "2024-05-28T06:44:53.773Z"
   },
   {
    "duration": 12,
    "start_time": "2024-05-28T06:44:55.429Z"
   },
   {
    "duration": 14,
    "start_time": "2024-05-28T06:44:56.258Z"
   },
   {
    "duration": 11,
    "start_time": "2024-05-28T06:45:07.314Z"
   },
   {
    "duration": 22,
    "start_time": "2024-05-28T06:48:32.440Z"
   },
   {
    "duration": 10,
    "start_time": "2024-05-28T06:48:42.497Z"
   },
   {
    "duration": 5,
    "start_time": "2024-05-28T06:49:24.047Z"
   },
   {
    "duration": 9,
    "start_time": "2024-05-28T06:49:28.351Z"
   },
   {
    "duration": 13,
    "start_time": "2024-05-28T06:58:35.727Z"
   },
   {
    "duration": 12,
    "start_time": "2024-05-28T06:59:10.781Z"
   },
   {
    "duration": 6,
    "start_time": "2024-05-28T06:59:41.071Z"
   },
   {
    "duration": 14,
    "start_time": "2024-05-28T06:59:50.750Z"
   },
   {
    "duration": 15,
    "start_time": "2024-05-28T07:00:24.627Z"
   },
   {
    "duration": 14,
    "start_time": "2024-05-28T07:01:47.004Z"
   },
   {
    "duration": 11,
    "start_time": "2024-05-28T07:02:44.849Z"
   },
   {
    "duration": 12,
    "start_time": "2024-05-28T07:05:45.559Z"
   },
   {
    "duration": 154,
    "start_time": "2024-05-28T07:30:48.833Z"
   },
   {
    "duration": 4,
    "start_time": "2024-05-28T07:31:47.477Z"
   },
   {
    "duration": 256,
    "start_time": "2024-05-28T07:38:41.636Z"
   },
   {
    "duration": 144,
    "start_time": "2024-05-28T07:38:56.878Z"
   },
   {
    "duration": 3,
    "start_time": "2024-05-28T07:39:25.736Z"
   },
   {
    "duration": 1440,
    "start_time": "2024-05-28T07:39:26.299Z"
   },
   {
    "duration": 16,
    "start_time": "2024-05-28T07:39:27.742Z"
   },
   {
    "duration": 16,
    "start_time": "2024-05-28T07:39:27.760Z"
   },
   {
    "duration": 13,
    "start_time": "2024-05-28T07:39:27.780Z"
   },
   {
    "duration": 13,
    "start_time": "2024-05-28T07:39:29.089Z"
   },
   {
    "duration": 11,
    "start_time": "2024-05-28T07:39:29.714Z"
   },
   {
    "duration": 9,
    "start_time": "2024-05-28T07:39:33.679Z"
   },
   {
    "duration": 267,
    "start_time": "2024-05-28T07:39:34.542Z"
   },
   {
    "duration": 12,
    "start_time": "2024-05-28T07:39:50.306Z"
   },
   {
    "duration": 147,
    "start_time": "2024-05-28T07:40:23.340Z"
   },
   {
    "duration": 154,
    "start_time": "2024-05-28T07:40:42.876Z"
   },
   {
    "duration": 133,
    "start_time": "2024-05-28T07:40:44.678Z"
   },
   {
    "duration": 132,
    "start_time": "2024-05-28T07:42:30.711Z"
   },
   {
    "duration": 37,
    "start_time": "2024-05-28T07:46:11.762Z"
   },
   {
    "duration": 4429,
    "start_time": "2024-05-28T14:40:34.263Z"
   },
   {
    "duration": 1732,
    "start_time": "2024-05-28T14:40:39.719Z"
   },
   {
    "duration": 22,
    "start_time": "2024-05-28T14:40:41.455Z"
   },
   {
    "duration": 20,
    "start_time": "2024-05-28T14:40:42.060Z"
   },
   {
    "duration": 15,
    "start_time": "2024-05-28T14:40:43.051Z"
   },
   {
    "duration": 15,
    "start_time": "2024-05-28T14:40:43.561Z"
   },
   {
    "duration": 13,
    "start_time": "2024-05-28T14:40:44.571Z"
   },
   {
    "duration": 11,
    "start_time": "2024-05-28T14:40:49.766Z"
   },
   {
    "duration": 467,
    "start_time": "2024-05-28T14:40:51.359Z"
   },
   {
    "duration": 16,
    "start_time": "2024-05-28T14:40:54.302Z"
   },
   {
    "duration": 240,
    "start_time": "2024-05-28T14:40:56.409Z"
   },
   {
    "duration": 222,
    "start_time": "2024-05-28T14:40:57.285Z"
   },
   {
    "duration": 180,
    "start_time": "2024-05-28T14:40:58.170Z"
   },
   {
    "duration": 1032,
    "start_time": "2024-05-28T14:41:39.605Z"
   },
   {
    "duration": 242,
    "start_time": "2024-05-28T14:42:00.463Z"
   },
   {
    "duration": 180,
    "start_time": "2024-05-28T14:42:07.786Z"
   },
   {
    "duration": 193,
    "start_time": "2024-05-28T14:42:47.199Z"
   },
   {
    "duration": 60,
    "start_time": "2024-05-28T14:44:04.645Z"
   },
   {
    "duration": 12,
    "start_time": "2024-05-28T14:44:11.164Z"
   },
   {
    "duration": 382,
    "start_time": "2024-05-28T14:44:37.506Z"
   },
   {
    "duration": 36,
    "start_time": "2024-05-28T14:46:40.016Z"
   },
   {
    "duration": 12,
    "start_time": "2024-05-28T14:47:22.111Z"
   },
   {
    "duration": 331,
    "start_time": "2024-05-29T15:43:11.508Z"
   },
   {
    "duration": 4866,
    "start_time": "2024-05-29T15:43:23.318Z"
   },
   {
    "duration": 1802,
    "start_time": "2024-05-29T15:43:28.188Z"
   },
   {
    "duration": 35,
    "start_time": "2024-05-29T15:43:29.992Z"
   },
   {
    "duration": 17,
    "start_time": "2024-05-29T15:43:31.269Z"
   },
   {
    "duration": 15,
    "start_time": "2024-05-29T15:43:31.875Z"
   },
   {
    "duration": 14,
    "start_time": "2024-05-29T15:43:32.442Z"
   },
   {
    "duration": 10,
    "start_time": "2024-05-29T15:43:33.066Z"
   },
   {
    "duration": 10,
    "start_time": "2024-05-29T15:43:36.808Z"
   },
   {
    "duration": 346,
    "start_time": "2024-05-29T15:43:37.603Z"
   },
   {
    "duration": 16,
    "start_time": "2024-05-29T15:43:39.475Z"
   },
   {
    "duration": 181,
    "start_time": "2024-05-29T15:43:41.682Z"
   },
   {
    "duration": 169,
    "start_time": "2024-05-29T15:43:42.422Z"
   },
   {
    "duration": 52,
    "start_time": "2024-05-29T15:43:43.250Z"
   },
   {
    "duration": 8,
    "start_time": "2024-05-29T15:43:44.971Z"
   },
   {
    "duration": 46,
    "start_time": "2024-05-29T15:43:45.685Z"
   },
   {
    "duration": 12,
    "start_time": "2024-05-29T15:43:46.559Z"
   },
   {
    "duration": 69,
    "start_time": "2024-05-29T15:43:47.393Z"
   },
   {
    "duration": 48,
    "start_time": "2024-05-29T15:44:21.491Z"
   },
   {
    "duration": 685,
    "start_time": "2024-05-29T15:49:52.482Z"
   },
   {
    "duration": 62,
    "start_time": "2024-05-29T15:50:45.924Z"
   },
   {
    "duration": 37,
    "start_time": "2024-05-29T15:50:59.353Z"
   },
   {
    "duration": 38,
    "start_time": "2024-05-29T15:51:10.437Z"
   },
   {
    "duration": 30,
    "start_time": "2024-05-29T15:52:10.921Z"
   },
   {
    "duration": 43,
    "start_time": "2024-05-29T15:52:35.819Z"
   },
   {
    "duration": 45,
    "start_time": "2024-05-29T15:58:00.113Z"
   },
   {
    "duration": 47,
    "start_time": "2024-05-29T15:58:21.641Z"
   },
   {
    "duration": 44,
    "start_time": "2024-05-29T15:59:37.419Z"
   },
   {
    "duration": 39,
    "start_time": "2024-05-29T16:01:30.328Z"
   },
   {
    "duration": 73,
    "start_time": "2024-05-29T16:14:11.529Z"
   },
   {
    "duration": 48,
    "start_time": "2024-05-29T16:14:53.329Z"
   },
   {
    "duration": 39,
    "start_time": "2024-05-29T16:15:08.910Z"
   },
   {
    "duration": 69,
    "start_time": "2024-05-29T16:18:29.540Z"
   },
   {
    "duration": 29,
    "start_time": "2024-05-29T16:18:40.167Z"
   },
   {
    "duration": 34,
    "start_time": "2024-05-29T16:19:09.146Z"
   },
   {
    "duration": 3,
    "start_time": "2024-05-29T16:19:32.170Z"
   },
   {
    "duration": 1490,
    "start_time": "2024-05-29T16:19:32.528Z"
   },
   {
    "duration": 17,
    "start_time": "2024-05-29T16:19:34.021Z"
   },
   {
    "duration": 17,
    "start_time": "2024-05-29T16:19:34.773Z"
   },
   {
    "duration": 15,
    "start_time": "2024-05-29T16:19:35.116Z"
   },
   {
    "duration": 13,
    "start_time": "2024-05-29T16:19:35.408Z"
   },
   {
    "duration": 11,
    "start_time": "2024-05-29T16:19:35.577Z"
   },
   {
    "duration": 10,
    "start_time": "2024-05-29T16:19:36.380Z"
   },
   {
    "duration": 312,
    "start_time": "2024-05-29T16:19:36.410Z"
   },
   {
    "duration": 18,
    "start_time": "2024-05-29T16:19:36.726Z"
   },
   {
    "duration": 163,
    "start_time": "2024-05-29T16:19:36.988Z"
   },
   {
    "duration": 147,
    "start_time": "2024-05-29T16:19:41.494Z"
   },
   {
    "duration": 40,
    "start_time": "2024-05-29T16:19:42.730Z"
   },
   {
    "duration": 9,
    "start_time": "2024-05-29T16:19:44.569Z"
   },
   {
    "duration": 36,
    "start_time": "2024-05-29T16:19:45.033Z"
   },
   {
    "duration": 11,
    "start_time": "2024-05-29T16:19:47.100Z"
   },
   {
    "duration": 40,
    "start_time": "2024-05-29T16:19:53.677Z"
   },
   {
    "duration": 38,
    "start_time": "2024-05-29T16:19:59.249Z"
   },
   {
    "duration": 29,
    "start_time": "2024-05-29T16:22:25.293Z"
   },
   {
    "duration": 48,
    "start_time": "2024-05-29T16:22:37.141Z"
   },
   {
    "duration": 64,
    "start_time": "2024-05-29T16:23:11.957Z"
   },
   {
    "duration": 53,
    "start_time": "2024-05-29T16:23:20.384Z"
   },
   {
    "duration": 37,
    "start_time": "2024-05-29T16:29:36.733Z"
   },
   {
    "duration": 33,
    "start_time": "2024-05-29T16:29:45.156Z"
   },
   {
    "duration": 34,
    "start_time": "2024-05-29T16:29:51.221Z"
   },
   {
    "duration": 9,
    "start_time": "2024-05-29T16:30:09.269Z"
   },
   {
    "duration": 51,
    "start_time": "2024-05-29T16:30:29.252Z"
   },
   {
    "duration": 54,
    "start_time": "2024-05-29T16:30:48.022Z"
   },
   {
    "duration": 66,
    "start_time": "2024-05-29T16:31:32.925Z"
   },
   {
    "duration": 83,
    "start_time": "2024-05-29T16:46:53.515Z"
   },
   {
    "duration": 4425,
    "start_time": "2024-05-30T04:51:53.419Z"
   },
   {
    "duration": 1686,
    "start_time": "2024-05-30T04:51:57.847Z"
   },
   {
    "duration": 20,
    "start_time": "2024-05-30T04:52:00.660Z"
   },
   {
    "duration": 18,
    "start_time": "2024-05-30T04:52:01.040Z"
   },
   {
    "duration": 15,
    "start_time": "2024-05-30T04:52:01.364Z"
   },
   {
    "duration": 13,
    "start_time": "2024-05-30T04:52:04.945Z"
   },
   {
    "duration": 11,
    "start_time": "2024-05-30T04:52:04.962Z"
   },
   {
    "duration": 10,
    "start_time": "2024-05-30T04:52:08.899Z"
   },
   {
    "duration": 346,
    "start_time": "2024-05-30T04:52:11.106Z"
   },
   {
    "duration": 14,
    "start_time": "2024-05-30T04:52:12.718Z"
   },
   {
    "duration": 192,
    "start_time": "2024-05-30T04:52:24.280Z"
   },
   {
    "duration": 190,
    "start_time": "2024-05-30T04:52:25.783Z"
   },
   {
    "duration": 48,
    "start_time": "2024-05-30T04:52:26.872Z"
   },
   {
    "duration": 9,
    "start_time": "2024-05-30T04:52:28.726Z"
   },
   {
    "duration": 38,
    "start_time": "2024-05-30T04:52:29.465Z"
   },
   {
    "duration": 12,
    "start_time": "2024-05-30T04:52:31.337Z"
   },
   {
    "duration": 39,
    "start_time": "2024-05-30T04:52:33.112Z"
   },
   {
    "duration": 38,
    "start_time": "2024-05-30T04:52:35.396Z"
   },
   {
    "duration": 43,
    "start_time": "2024-05-30T04:53:34.113Z"
   },
   {
    "duration": 7,
    "start_time": "2024-05-30T04:54:52.457Z"
   },
   {
    "duration": 9,
    "start_time": "2024-05-30T04:55:35.390Z"
   },
   {
    "duration": 6,
    "start_time": "2024-05-30T04:58:01.684Z"
   },
   {
    "duration": 8,
    "start_time": "2024-05-30T04:59:16.021Z"
   },
   {
    "duration": 9,
    "start_time": "2024-05-30T04:59:37.321Z"
   },
   {
    "duration": 1332,
    "start_time": "2024-05-30T05:01:01.840Z"
   },
   {
    "duration": 8,
    "start_time": "2024-05-30T05:01:23.071Z"
   },
   {
    "duration": 8,
    "start_time": "2024-05-30T05:01:55.649Z"
   },
   {
    "duration": 8,
    "start_time": "2024-05-30T05:02:07.833Z"
   },
   {
    "duration": 32,
    "start_time": "2024-05-30T05:02:52.286Z"
   },
   {
    "duration": 2932,
    "start_time": "2024-05-30T05:02:59.353Z"
   },
   {
    "duration": 402,
    "start_time": "2024-05-30T05:06:22.869Z"
   },
   {
    "duration": 957,
    "start_time": "2024-05-30T05:06:43.728Z"
   },
   {
    "duration": 60,
    "start_time": "2024-05-30T05:06:52.528Z"
   },
   {
    "duration": 370,
    "start_time": "2024-05-30T05:07:12.481Z"
   },
   {
    "duration": 80,
    "start_time": "2024-05-30T05:10:13.428Z"
   },
   {
    "duration": 24,
    "start_time": "2024-05-30T05:10:57.886Z"
   },
   {
    "duration": 80,
    "start_time": "2024-05-30T05:11:57.868Z"
   },
   {
    "duration": 78,
    "start_time": "2024-05-30T05:12:09.568Z"
   },
   {
    "duration": 360,
    "start_time": "2024-05-30T05:13:30.085Z"
   },
   {
    "duration": 553,
    "start_time": "2024-05-30T05:14:24.920Z"
   },
   {
    "duration": 1124,
    "start_time": "2024-05-30T05:15:25.193Z"
   },
   {
    "duration": 420,
    "start_time": "2024-05-30T05:23:16.405Z"
   },
   {
    "duration": 4450,
    "start_time": "2024-05-30T20:24:39.442Z"
   },
   {
    "duration": 1696,
    "start_time": "2024-05-30T20:24:43.895Z"
   },
   {
    "duration": 20,
    "start_time": "2024-05-30T20:24:45.593Z"
   },
   {
    "duration": 23,
    "start_time": "2024-05-30T20:24:45.617Z"
   },
   {
    "duration": 15,
    "start_time": "2024-05-30T20:24:45.643Z"
   },
   {
    "duration": 16,
    "start_time": "2024-05-30T20:24:45.661Z"
   },
   {
    "duration": 55,
    "start_time": "2024-05-30T20:24:45.681Z"
   },
   {
    "duration": 13,
    "start_time": "2024-05-30T20:24:45.740Z"
   },
   {
    "duration": 381,
    "start_time": "2024-05-30T20:24:45.757Z"
   },
   {
    "duration": 14,
    "start_time": "2024-05-30T20:24:46.143Z"
   },
   {
    "duration": 179,
    "start_time": "2024-05-30T20:24:47.196Z"
   },
   {
    "duration": 164,
    "start_time": "2024-05-30T20:24:47.557Z"
   },
   {
    "duration": 54,
    "start_time": "2024-05-30T20:24:47.958Z"
   },
   {
    "duration": 11,
    "start_time": "2024-05-30T20:24:49.048Z"
   },
   {
    "duration": 38,
    "start_time": "2024-05-30T20:24:49.438Z"
   },
   {
    "duration": 12,
    "start_time": "2024-05-30T20:24:49.788Z"
   },
   {
    "duration": 43,
    "start_time": "2024-05-30T20:24:50.165Z"
   },
   {
    "duration": 44,
    "start_time": "2024-05-30T20:24:50.578Z"
   },
   {
    "duration": 7,
    "start_time": "2024-05-30T20:24:51.726Z"
   },
   {
    "duration": 7,
    "start_time": "2024-05-30T20:24:52.096Z"
   },
   {
    "duration": 5,
    "start_time": "2024-05-30T20:24:52.461Z"
   },
   {
    "duration": 7,
    "start_time": "2024-05-30T20:24:53.566Z"
   },
   {
    "duration": 8,
    "start_time": "2024-05-30T20:24:53.955Z"
   },
   {
    "duration": 5,
    "start_time": "2024-05-30T20:24:54.357Z"
   },
   {
    "duration": 28,
    "start_time": "2024-05-30T20:24:55.497Z"
   },
   {
    "duration": 2692,
    "start_time": "2024-05-30T20:24:55.891Z"
   },
   {
    "duration": 384,
    "start_time": "2024-05-30T20:24:58.628Z"
   },
   {
    "duration": 1697,
    "start_time": "2024-05-30T20:25:50.680Z"
   },
   {
    "duration": 495,
    "start_time": "2024-05-30T20:28:25.703Z"
   },
   {
    "duration": 1006,
    "start_time": "2024-05-30T20:30:10.413Z"
   },
   {
    "duration": 238,
    "start_time": "2024-05-30T20:34:42.644Z"
   },
   {
    "duration": 244,
    "start_time": "2024-05-30T20:34:56.050Z"
   },
   {
    "duration": 222,
    "start_time": "2024-05-30T20:35:17.539Z"
   },
   {
    "duration": 226,
    "start_time": "2024-05-30T20:38:10.851Z"
   },
   {
    "duration": 714,
    "start_time": "2024-05-30T20:47:12.367Z"
   },
   {
    "duration": 392,
    "start_time": "2024-05-30T20:47:30.939Z"
   },
   {
    "duration": 831,
    "start_time": "2024-05-30T20:48:32.806Z"
   },
   {
    "duration": 13,
    "start_time": "2024-05-30T21:17:56.516Z"
   },
   {
    "duration": 108,
    "start_time": "2024-05-30T21:22:47.189Z"
   },
   {
    "duration": 35,
    "start_time": "2024-05-30T21:23:19.586Z"
   },
   {
    "duration": 15,
    "start_time": "2024-05-30T21:23:53.184Z"
   },
   {
    "duration": 16,
    "start_time": "2024-05-30T21:26:49.295Z"
   },
   {
    "duration": 14,
    "start_time": "2024-05-30T21:33:58.471Z"
   },
   {
    "duration": 13,
    "start_time": "2024-05-30T21:34:41.500Z"
   },
   {
    "duration": 11,
    "start_time": "2024-05-30T21:34:51.283Z"
   },
   {
    "duration": 11,
    "start_time": "2024-05-30T21:36:42.880Z"
   },
   {
    "duration": 19,
    "start_time": "2024-05-30T21:37:56.015Z"
   },
   {
    "duration": 16,
    "start_time": "2024-05-30T21:38:21.237Z"
   },
   {
    "duration": 18,
    "start_time": "2024-05-30T21:44:33.153Z"
   },
   {
    "duration": 14,
    "start_time": "2024-05-30T21:48:48.777Z"
   },
   {
    "duration": 12,
    "start_time": "2024-05-30T21:53:37.594Z"
   },
   {
    "duration": 4372,
    "start_time": "2024-05-31T20:28:35.482Z"
   },
   {
    "duration": 1689,
    "start_time": "2024-05-31T20:28:39.858Z"
   },
   {
    "duration": 19,
    "start_time": "2024-05-31T20:28:41.550Z"
   },
   {
    "duration": 16,
    "start_time": "2024-05-31T20:28:41.573Z"
   },
   {
    "duration": 46,
    "start_time": "2024-05-31T20:28:41.592Z"
   },
   {
    "duration": 14,
    "start_time": "2024-05-31T20:28:41.640Z"
   },
   {
    "duration": 12,
    "start_time": "2024-05-31T20:28:41.657Z"
   },
   {
    "duration": 10,
    "start_time": "2024-05-31T20:28:41.673Z"
   },
   {
    "duration": 412,
    "start_time": "2024-05-31T20:28:41.685Z"
   },
   {
    "duration": 17,
    "start_time": "2024-05-31T20:28:42.102Z"
   },
   {
    "duration": 211,
    "start_time": "2024-05-31T20:28:42.137Z"
   },
   {
    "duration": 181,
    "start_time": "2024-05-31T20:28:42.352Z"
   },
   {
    "duration": 48,
    "start_time": "2024-05-31T20:28:42.538Z"
   },
   {
    "duration": 9,
    "start_time": "2024-05-31T20:28:42.589Z"
   },
   {
    "duration": 36,
    "start_time": "2024-05-31T20:28:42.630Z"
   },
   {
    "duration": 12,
    "start_time": "2024-05-31T20:28:42.670Z"
   },
   {
    "duration": 72,
    "start_time": "2024-05-31T20:28:42.685Z"
   },
   {
    "duration": 43,
    "start_time": "2024-05-31T20:28:42.760Z"
   },
   {
    "duration": 28,
    "start_time": "2024-05-31T20:28:42.806Z"
   },
   {
    "duration": 8,
    "start_time": "2024-05-31T20:28:42.839Z"
   },
   {
    "duration": 6,
    "start_time": "2024-05-31T20:28:42.853Z"
   },
   {
    "duration": 7,
    "start_time": "2024-05-31T20:28:42.862Z"
   },
   {
    "duration": 8,
    "start_time": "2024-05-31T20:28:42.984Z"
   },
   {
    "duration": 5,
    "start_time": "2024-05-31T20:28:43.185Z"
   },
   {
    "duration": 30,
    "start_time": "2024-05-31T20:28:43.856Z"
   },
   {
    "duration": 2675,
    "start_time": "2024-05-31T20:28:44.067Z"
   },
   {
    "duration": 400,
    "start_time": "2024-05-31T20:28:46.745Z"
   },
   {
    "duration": 14,
    "start_time": "2024-05-31T20:28:47.148Z"
   },
   {
    "duration": 13,
    "start_time": "2024-05-31T20:28:47.165Z"
   },
   {
    "duration": 52,
    "start_time": "2024-05-31T20:28:47.181Z"
   },
   {
    "duration": 11,
    "start_time": "2024-05-31T20:28:47.236Z"
   },
   {
    "duration": 7,
    "start_time": "2024-05-31T20:28:47.405Z"
   },
   {
    "duration": 5,
    "start_time": "2024-05-31T20:30:52.409Z"
   },
   {
    "duration": 5,
    "start_time": "2024-05-31T20:31:14.399Z"
   },
   {
    "duration": 1026,
    "start_time": "2024-05-31T20:31:21.393Z"
   },
   {
    "duration": 9,
    "start_time": "2024-05-31T20:32:18.424Z"
   },
   {
    "duration": 16,
    "start_time": "2024-05-31T20:33:19.042Z"
   },
   {
    "duration": 11,
    "start_time": "2024-05-31T20:33:28.962Z"
   },
   {
    "duration": 11,
    "start_time": "2024-05-31T20:37:50.799Z"
   },
   {
    "duration": 11,
    "start_time": "2024-05-31T20:41:16.708Z"
   },
   {
    "duration": 11,
    "start_time": "2024-05-31T20:42:07.758Z"
   },
   {
    "duration": 30,
    "start_time": "2024-05-31T20:57:02.671Z"
   },
   {
    "duration": 27,
    "start_time": "2024-05-31T20:57:46.274Z"
   },
   {
    "duration": 11,
    "start_time": "2024-05-31T20:57:59.686Z"
   },
   {
    "duration": 9,
    "start_time": "2024-05-31T20:58:11.555Z"
   },
   {
    "duration": 16,
    "start_time": "2024-05-31T21:10:59.346Z"
   },
   {
    "duration": 351,
    "start_time": "2024-05-31T21:13:05.523Z"
   },
   {
    "duration": 736,
    "start_time": "2024-05-31T21:13:15.847Z"
   },
   {
    "duration": 1687,
    "start_time": "2024-05-31T21:13:16.587Z"
   },
   {
    "duration": 18,
    "start_time": "2024-05-31T21:13:18.277Z"
   },
   {
    "duration": 20,
    "start_time": "2024-05-31T21:13:19.270Z"
   },
   {
    "duration": 15,
    "start_time": "2024-05-31T21:13:19.769Z"
   },
   {
    "duration": 14,
    "start_time": "2024-05-31T21:13:19.836Z"
   },
   {
    "duration": 12,
    "start_time": "2024-05-31T21:13:19.871Z"
   },
   {
    "duration": 9,
    "start_time": "2024-05-31T21:13:20.093Z"
   },
   {
    "duration": 377,
    "start_time": "2024-05-31T21:13:20.140Z"
   },
   {
    "duration": 19,
    "start_time": "2024-05-31T21:13:20.521Z"
   },
   {
    "duration": 210,
    "start_time": "2024-05-31T21:13:20.543Z"
   },
   {
    "duration": 215,
    "start_time": "2024-05-31T21:13:20.758Z"
   },
   {
    "duration": 68,
    "start_time": "2024-05-31T21:13:20.976Z"
   },
   {
    "duration": 9,
    "start_time": "2024-05-31T21:13:21.047Z"
   },
   {
    "duration": 41,
    "start_time": "2024-05-31T21:13:21.060Z"
   },
   {
    "duration": 13,
    "start_time": "2024-05-31T21:13:21.131Z"
   },
   {
    "duration": 43,
    "start_time": "2024-05-31T21:13:21.146Z"
   },
   {
    "duration": 75,
    "start_time": "2024-05-31T21:13:21.194Z"
   },
   {
    "duration": 8,
    "start_time": "2024-05-31T21:13:21.273Z"
   },
   {
    "duration": 9,
    "start_time": "2024-05-31T21:13:21.442Z"
   },
   {
    "duration": 6,
    "start_time": "2024-05-31T21:13:22.246Z"
   },
   {
    "duration": 6,
    "start_time": "2024-05-31T21:13:23.454Z"
   },
   {
    "duration": 10,
    "start_time": "2024-05-31T21:13:23.887Z"
   },
   {
    "duration": 6,
    "start_time": "2024-05-31T21:13:24.304Z"
   },
   {
    "duration": 30,
    "start_time": "2024-05-31T21:13:25.532Z"
   },
   {
    "duration": 2787,
    "start_time": "2024-05-31T21:13:26.077Z"
   },
   {
    "duration": 392,
    "start_time": "2024-05-31T21:13:30.046Z"
   },
   {
    "duration": 13,
    "start_time": "2024-05-31T21:13:31.699Z"
   },
   {
    "duration": 14,
    "start_time": "2024-05-31T21:13:32.510Z"
   },
   {
    "duration": 13,
    "start_time": "2024-05-31T21:13:33.774Z"
   },
   {
    "duration": 11,
    "start_time": "2024-05-31T21:13:37.962Z"
   },
   {
    "duration": 11,
    "start_time": "2024-05-31T21:13:38.836Z"
   },
   {
    "duration": 15,
    "start_time": "2024-05-31T21:13:42.022Z"
   },
   {
    "duration": 314,
    "start_time": "2024-05-31T21:13:53.340Z"
   },
   {
    "duration": 26,
    "start_time": "2024-05-31T21:13:59.096Z"
   },
   {
    "duration": 26,
    "start_time": "2024-05-31T21:14:03.863Z"
   },
   {
    "duration": 703,
    "start_time": "2024-05-31T21:14:37.787Z"
   },
   {
    "duration": 1792,
    "start_time": "2024-05-31T21:14:38.494Z"
   },
   {
    "duration": 18,
    "start_time": "2024-05-31T21:14:40.290Z"
   },
   {
    "duration": 28,
    "start_time": "2024-05-31T21:14:40.313Z"
   },
   {
    "duration": 14,
    "start_time": "2024-05-31T21:14:40.344Z"
   },
   {
    "duration": 21,
    "start_time": "2024-05-31T21:14:40.361Z"
   },
   {
    "duration": 46,
    "start_time": "2024-05-31T21:14:40.385Z"
   },
   {
    "duration": 10,
    "start_time": "2024-05-31T21:14:40.434Z"
   },
   {
    "duration": 365,
    "start_time": "2024-05-31T21:14:40.447Z"
   },
   {
    "duration": 19,
    "start_time": "2024-05-31T21:14:40.819Z"
   },
   {
    "duration": 231,
    "start_time": "2024-05-31T21:14:40.841Z"
   },
   {
    "duration": 181,
    "start_time": "2024-05-31T21:14:41.076Z"
   },
   {
    "duration": 48,
    "start_time": "2024-05-31T21:14:41.262Z"
   },
   {
    "duration": 22,
    "start_time": "2024-05-31T21:14:41.313Z"
   },
   {
    "duration": 42,
    "start_time": "2024-05-31T21:14:41.339Z"
   },
   {
    "duration": 14,
    "start_time": "2024-05-31T21:14:41.383Z"
   },
   {
    "duration": 49,
    "start_time": "2024-05-31T21:14:41.431Z"
   },
   {
    "duration": 65,
    "start_time": "2024-05-31T21:14:41.483Z"
   },
   {
    "duration": 11,
    "start_time": "2024-05-31T21:14:41.551Z"
   },
   {
    "duration": 8,
    "start_time": "2024-05-31T21:14:41.565Z"
   },
   {
    "duration": 6,
    "start_time": "2024-05-31T21:14:41.576Z"
   },
   {
    "duration": 6,
    "start_time": "2024-05-31T21:14:41.586Z"
   },
   {
    "duration": 43,
    "start_time": "2024-05-31T21:14:41.595Z"
   },
   {
    "duration": 6,
    "start_time": "2024-05-31T21:14:41.641Z"
   },
   {
    "duration": 36,
    "start_time": "2024-05-31T21:14:41.653Z"
   },
   {
    "duration": 2843,
    "start_time": "2024-05-31T21:14:41.693Z"
   },
   {
    "duration": 401,
    "start_time": "2024-05-31T21:14:44.540Z"
   },
   {
    "duration": 14,
    "start_time": "2024-05-31T21:14:44.948Z"
   },
   {
    "duration": 16,
    "start_time": "2024-05-31T21:14:44.965Z"
   },
   {
    "duration": 48,
    "start_time": "2024-05-31T21:14:44.984Z"
   },
   {
    "duration": 12,
    "start_time": "2024-05-31T21:14:45.035Z"
   },
   {
    "duration": 15,
    "start_time": "2024-05-31T21:14:45.050Z"
   },
   {
    "duration": 10,
    "start_time": "2024-05-31T21:14:45.070Z"
   },
   {
    "duration": 765,
    "start_time": "2024-05-31T21:15:21.877Z"
   },
   {
    "duration": 1825,
    "start_time": "2024-05-31T21:15:22.646Z"
   },
   {
    "duration": 20,
    "start_time": "2024-05-31T21:15:24.475Z"
   },
   {
    "duration": 42,
    "start_time": "2024-05-31T21:15:24.498Z"
   },
   {
    "duration": 18,
    "start_time": "2024-05-31T21:15:24.544Z"
   },
   {
    "duration": 16,
    "start_time": "2024-05-31T21:15:24.567Z"
   },
   {
    "duration": 44,
    "start_time": "2024-05-31T21:15:24.587Z"
   },
   {
    "duration": 12,
    "start_time": "2024-05-31T21:15:25.028Z"
   },
   {
    "duration": 346,
    "start_time": "2024-05-31T21:15:25.223Z"
   },
   {
    "duration": 14,
    "start_time": "2024-05-31T21:15:25.600Z"
   },
   {
    "duration": 210,
    "start_time": "2024-05-31T21:15:25.966Z"
   },
   {
    "duration": 185,
    "start_time": "2024-05-31T21:15:26.180Z"
   },
   {
    "duration": 60,
    "start_time": "2024-05-31T21:15:26.370Z"
   },
   {
    "duration": 10,
    "start_time": "2024-05-31T21:15:26.934Z"
   },
   {
    "duration": 41,
    "start_time": "2024-05-31T21:15:27.123Z"
   },
   {
    "duration": 13,
    "start_time": "2024-05-31T21:15:27.321Z"
   },
   {
    "duration": 52,
    "start_time": "2024-05-31T21:15:27.843Z"
   },
   {
    "duration": 55,
    "start_time": "2024-05-31T21:15:28.125Z"
   },
   {
    "duration": 10,
    "start_time": "2024-05-31T21:15:29.235Z"
   },
   {
    "duration": 9,
    "start_time": "2024-05-31T21:15:29.530Z"
   },
   {
    "duration": 11,
    "start_time": "2024-05-31T21:15:29.740Z"
   },
   {
    "duration": 7,
    "start_time": "2024-05-31T21:15:30.392Z"
   },
   {
    "duration": 10,
    "start_time": "2024-05-31T21:15:30.553Z"
   },
   {
    "duration": 7,
    "start_time": "2024-05-31T21:15:30.764Z"
   },
   {
    "duration": 38,
    "start_time": "2024-05-31T21:15:31.608Z"
   },
   {
    "duration": 2861,
    "start_time": "2024-05-31T21:15:31.832Z"
   },
   {
    "duration": 428,
    "start_time": "2024-05-31T21:15:34.699Z"
   },
   {
    "duration": 14,
    "start_time": "2024-05-31T21:15:35.129Z"
   },
   {
    "duration": 14,
    "start_time": "2024-05-31T21:15:35.148Z"
   },
   {
    "duration": 14,
    "start_time": "2024-05-31T21:15:35.166Z"
   },
   {
    "duration": 55,
    "start_time": "2024-05-31T21:15:35.183Z"
   },
   {
    "duration": 20,
    "start_time": "2024-05-31T21:15:41.773Z"
   },
   {
    "duration": 10,
    "start_time": "2024-05-31T21:15:43.653Z"
   },
   {
    "duration": 350,
    "start_time": "2024-05-31T21:16:18.508Z"
   },
   {
    "duration": 746,
    "start_time": "2024-05-31T21:16:27.705Z"
   },
   {
    "duration": 1836,
    "start_time": "2024-05-31T21:17:14.045Z"
   },
   {
    "duration": 21,
    "start_time": "2024-05-31T21:17:15.885Z"
   },
   {
    "duration": 22,
    "start_time": "2024-05-31T21:17:16.539Z"
   },
   {
    "duration": 19,
    "start_time": "2024-05-31T21:17:17.055Z"
   },
   {
    "duration": 13,
    "start_time": "2024-05-31T21:17:17.087Z"
   },
   {
    "duration": 11,
    "start_time": "2024-05-31T21:17:17.133Z"
   },
   {
    "duration": 10,
    "start_time": "2024-05-31T21:17:17.370Z"
   },
   {
    "duration": 369,
    "start_time": "2024-05-31T21:17:17.418Z"
   },
   {
    "duration": 19,
    "start_time": "2024-05-31T21:17:17.791Z"
   },
   {
    "duration": 207,
    "start_time": "2024-05-31T21:17:17.813Z"
   },
   {
    "duration": 176,
    "start_time": "2024-05-31T21:17:18.031Z"
   },
   {
    "duration": 61,
    "start_time": "2024-05-31T21:17:18.210Z"
   },
   {
    "duration": 10,
    "start_time": "2024-05-31T21:17:18.275Z"
   },
   {
    "duration": 58,
    "start_time": "2024-05-31T21:17:18.288Z"
   },
   {
    "duration": 13,
    "start_time": "2024-05-31T21:17:18.348Z"
   },
   {
    "duration": 71,
    "start_time": "2024-05-31T21:17:18.364Z"
   },
   {
    "duration": 51,
    "start_time": "2024-05-31T21:17:18.439Z"
   },
   {
    "duration": 7,
    "start_time": "2024-05-31T21:17:18.493Z"
   },
   {
    "duration": 31,
    "start_time": "2024-05-31T21:17:18.508Z"
   },
   {
    "duration": 7,
    "start_time": "2024-05-31T21:17:18.542Z"
   },
   {
    "duration": 6,
    "start_time": "2024-05-31T21:17:18.553Z"
   },
   {
    "duration": 9,
    "start_time": "2024-05-31T21:17:18.563Z"
   },
   {
    "duration": 56,
    "start_time": "2024-05-31T21:17:18.575Z"
   },
   {
    "duration": 30,
    "start_time": "2024-05-31T21:17:18.636Z"
   },
   {
    "duration": 2793,
    "start_time": "2024-05-31T21:17:18.669Z"
   },
   {
    "duration": 441,
    "start_time": "2024-05-31T21:17:21.466Z"
   },
   {
    "duration": 22,
    "start_time": "2024-05-31T21:17:21.911Z"
   },
   {
    "duration": 15,
    "start_time": "2024-05-31T21:17:21.937Z"
   },
   {
    "duration": 17,
    "start_time": "2024-05-31T21:17:21.955Z"
   },
   {
    "duration": 12,
    "start_time": "2024-05-31T21:17:21.975Z"
   },
   {
    "duration": 16,
    "start_time": "2024-05-31T21:17:25.990Z"
   },
   {
    "duration": 9,
    "start_time": "2024-05-31T21:17:27.127Z"
   },
   {
    "duration": 14,
    "start_time": "2024-05-31T21:17:27.626Z"
   },
   {
    "duration": 30,
    "start_time": "2024-05-31T21:20:34.910Z"
   },
   {
    "duration": 936,
    "start_time": "2024-05-31T21:22:12.788Z"
   },
   {
    "duration": 5,
    "start_time": "2024-05-31T21:24:15.607Z"
   },
   {
    "duration": 119,
    "start_time": "2024-05-31T21:24:41.433Z"
   },
   {
    "duration": 101,
    "start_time": "2024-05-31T21:26:03.381Z"
   },
   {
    "duration": 55,
    "start_time": "2024-05-31T21:26:29.434Z"
   },
   {
    "duration": 113,
    "start_time": "2024-05-31T21:27:24.065Z"
   },
   {
    "duration": 13,
    "start_time": "2024-05-31T21:29:51.169Z"
   },
   {
    "duration": 12,
    "start_time": "2024-05-31T21:30:45.662Z"
   },
   {
    "duration": 59,
    "start_time": "2024-05-31T21:31:26.205Z"
   },
   {
    "duration": 10,
    "start_time": "2024-05-31T21:33:26.034Z"
   },
   {
    "duration": 22,
    "start_time": "2024-05-31T21:43:56.145Z"
   },
   {
    "duration": 10,
    "start_time": "2024-05-31T21:44:03.169Z"
   },
   {
    "duration": 10,
    "start_time": "2024-05-31T21:44:37.652Z"
   },
   {
    "duration": 1678,
    "start_time": "2024-05-31T21:49:58.588Z"
   },
   {
    "duration": 24,
    "start_time": "2024-05-31T21:51:11.181Z"
   },
   {
    "duration": 5,
    "start_time": "2024-05-31T21:51:23.333Z"
   },
   {
    "duration": 4,
    "start_time": "2024-05-31T21:52:00.846Z"
   },
   {
    "duration": 167,
    "start_time": "2024-05-31T21:53:08.971Z"
   },
   {
    "duration": 35,
    "start_time": "2024-05-31T21:53:27.425Z"
   },
   {
    "duration": 1342,
    "start_time": "2024-05-31T21:53:50.603Z"
   },
   {
    "duration": 1004,
    "start_time": "2024-05-31T21:54:17.648Z"
   },
   {
    "duration": 4686,
    "start_time": "2024-06-01T02:16:29.701Z"
   },
   {
    "duration": 1665,
    "start_time": "2024-06-01T02:16:34.390Z"
   },
   {
    "duration": 18,
    "start_time": "2024-06-01T02:16:36.060Z"
   },
   {
    "duration": 37,
    "start_time": "2024-06-01T02:16:36.082Z"
   },
   {
    "duration": 14,
    "start_time": "2024-06-01T02:16:36.122Z"
   },
   {
    "duration": 15,
    "start_time": "2024-06-01T02:16:36.139Z"
   },
   {
    "duration": 12,
    "start_time": "2024-06-01T02:16:36.158Z"
   },
   {
    "duration": 10,
    "start_time": "2024-06-01T02:16:36.213Z"
   },
   {
    "duration": 354,
    "start_time": "2024-06-01T02:16:36.227Z"
   },
   {
    "duration": 32,
    "start_time": "2024-06-01T02:16:36.587Z"
   },
   {
    "duration": 212,
    "start_time": "2024-06-01T02:16:36.623Z"
   },
   {
    "duration": 189,
    "start_time": "2024-06-01T02:16:36.839Z"
   },
   {
    "duration": 47,
    "start_time": "2024-06-01T02:16:37.030Z"
   },
   {
    "duration": 33,
    "start_time": "2024-06-01T02:16:37.080Z"
   },
   {
    "duration": 37,
    "start_time": "2024-06-01T02:16:37.115Z"
   },
   {
    "duration": 13,
    "start_time": "2024-06-01T02:16:37.155Z"
   },
   {
    "duration": 73,
    "start_time": "2024-06-01T02:16:37.171Z"
   },
   {
    "duration": 46,
    "start_time": "2024-06-01T02:16:37.247Z"
   },
   {
    "duration": 6,
    "start_time": "2024-06-01T02:16:37.314Z"
   },
   {
    "duration": 9,
    "start_time": "2024-06-01T02:16:37.323Z"
   },
   {
    "duration": 6,
    "start_time": "2024-06-01T02:16:37.335Z"
   },
   {
    "duration": 11,
    "start_time": "2024-06-01T02:16:37.344Z"
   },
   {
    "duration": 55,
    "start_time": "2024-06-01T02:16:37.359Z"
   },
   {
    "duration": 6,
    "start_time": "2024-06-01T02:16:37.417Z"
   },
   {
    "duration": 30,
    "start_time": "2024-06-01T02:16:37.426Z"
   },
   {
    "duration": 2838,
    "start_time": "2024-06-01T02:16:37.460Z"
   },
   {
    "duration": 424,
    "start_time": "2024-06-01T02:16:40.301Z"
   },
   {
    "duration": 13,
    "start_time": "2024-06-01T02:16:40.732Z"
   },
   {
    "duration": 17,
    "start_time": "2024-06-01T02:16:40.748Z"
   },
   {
    "duration": 52,
    "start_time": "2024-06-01T02:16:40.769Z"
   },
   {
    "duration": 13,
    "start_time": "2024-06-01T02:16:40.824Z"
   },
   {
    "duration": 11,
    "start_time": "2024-06-01T02:16:40.841Z"
   },
   {
    "duration": 10,
    "start_time": "2024-06-01T02:16:40.856Z"
   },
   {
    "duration": 16,
    "start_time": "2024-06-01T02:16:40.912Z"
   },
   {
    "duration": 41,
    "start_time": "2024-06-01T02:16:40.934Z"
   },
   {
    "duration": 77,
    "start_time": "2024-06-01T02:16:40.978Z"
   },
   {
    "duration": 11,
    "start_time": "2024-06-01T02:16:41.058Z"
   },
   {
    "duration": 2108,
    "start_time": "2024-06-01T02:16:41.072Z"
   },
   {
    "duration": 1977,
    "start_time": "2024-06-01T02:31:43.282Z"
   },
   {
    "duration": 1309,
    "start_time": "2024-06-01T02:40:11.762Z"
   },
   {
    "duration": 1196,
    "start_time": "2024-06-01T03:16:52.282Z"
   },
   {
    "duration": 1194,
    "start_time": "2024-06-01T03:18:09.485Z"
   },
   {
    "duration": 9,
    "start_time": "2024-06-01T03:23:29.349Z"
   },
   {
    "duration": 14,
    "start_time": "2024-06-01T03:24:08.280Z"
   },
   {
    "duration": 289,
    "start_time": "2024-06-01T03:26:35.594Z"
   },
   {
    "duration": 507,
    "start_time": "2024-06-01T03:31:08.962Z"
   },
   {
    "duration": 1516,
    "start_time": "2024-06-01T03:31:51.111Z"
   },
   {
    "duration": 44,
    "start_time": "2024-06-01T03:34:38.768Z"
   },
   {
    "duration": 20,
    "start_time": "2024-06-01T03:44:40.340Z"
   },
   {
    "duration": 21,
    "start_time": "2024-06-01T03:54:08.440Z"
   },
   {
    "duration": 311,
    "start_time": "2024-06-01T15:27:37.371Z"
   },
   {
    "duration": 4432,
    "start_time": "2024-06-01T15:27:50.858Z"
   },
   {
    "duration": 1666,
    "start_time": "2024-06-01T15:27:55.294Z"
   },
   {
    "duration": 18,
    "start_time": "2024-06-01T15:27:56.962Z"
   },
   {
    "duration": 16,
    "start_time": "2024-06-01T15:27:56.984Z"
   },
   {
    "duration": 42,
    "start_time": "2024-06-01T15:27:57.003Z"
   },
   {
    "duration": 13,
    "start_time": "2024-06-01T15:27:57.048Z"
   },
   {
    "duration": 12,
    "start_time": "2024-06-01T15:27:57.064Z"
   },
   {
    "duration": 54,
    "start_time": "2024-06-01T15:27:57.079Z"
   },
   {
    "duration": 361,
    "start_time": "2024-06-01T15:27:57.136Z"
   },
   {
    "duration": 30,
    "start_time": "2024-06-01T15:27:57.505Z"
   },
   {
    "duration": 188,
    "start_time": "2024-06-01T15:27:57.538Z"
   },
   {
    "duration": 177,
    "start_time": "2024-06-01T15:27:57.733Z"
   },
   {
    "duration": 61,
    "start_time": "2024-06-01T15:27:57.913Z"
   },
   {
    "duration": 11,
    "start_time": "2024-06-01T15:27:57.976Z"
   },
   {
    "duration": 55,
    "start_time": "2024-06-01T15:27:57.990Z"
   },
   {
    "duration": 13,
    "start_time": "2024-06-01T15:27:58.048Z"
   },
   {
    "duration": 39,
    "start_time": "2024-06-01T15:27:58.064Z"
   },
   {
    "duration": 43,
    "start_time": "2024-06-01T15:27:58.133Z"
   },
   {
    "duration": 7,
    "start_time": "2024-06-01T15:27:58.179Z"
   },
   {
    "duration": 8,
    "start_time": "2024-06-01T15:27:58.188Z"
   },
   {
    "duration": 34,
    "start_time": "2024-06-01T15:27:58.199Z"
   },
   {
    "duration": 7,
    "start_time": "2024-06-01T15:27:58.237Z"
   },
   {
    "duration": 10,
    "start_time": "2024-06-01T15:27:58.247Z"
   },
   {
    "duration": 7,
    "start_time": "2024-06-01T15:27:58.260Z"
   },
   {
    "duration": 82,
    "start_time": "2024-06-01T15:27:58.270Z"
   },
   {
    "duration": 2684,
    "start_time": "2024-06-01T15:27:58.355Z"
   },
   {
    "duration": 407,
    "start_time": "2024-06-01T15:28:01.041Z"
   },
   {
    "duration": 13,
    "start_time": "2024-06-01T15:28:01.457Z"
   },
   {
    "duration": 14,
    "start_time": "2024-06-01T15:28:01.473Z"
   },
   {
    "duration": 48,
    "start_time": "2024-06-01T15:28:01.490Z"
   },
   {
    "duration": 14,
    "start_time": "2024-06-01T15:28:01.542Z"
   },
   {
    "duration": 11,
    "start_time": "2024-06-01T15:28:01.559Z"
   },
   {
    "duration": 10,
    "start_time": "2024-06-01T15:28:01.573Z"
   },
   {
    "duration": 59,
    "start_time": "2024-06-01T15:28:01.586Z"
   },
   {
    "duration": 29,
    "start_time": "2024-06-01T15:28:01.648Z"
   },
   {
    "duration": 84,
    "start_time": "2024-06-01T15:28:01.680Z"
   },
   {
    "duration": 21,
    "start_time": "2024-06-01T15:28:01.766Z"
   },
   {
    "duration": 535,
    "start_time": "2024-06-01T15:28:03.340Z"
   },
   {
    "duration": 563,
    "start_time": "2024-06-01T15:28:31.980Z"
   },
   {
    "duration": 20,
    "start_time": "2024-06-01T15:38:50.511Z"
   },
   {
    "duration": 285,
    "start_time": "2024-06-01T15:39:09.123Z"
   },
   {
    "duration": 19,
    "start_time": "2024-06-01T15:39:15.356Z"
   },
   {
    "duration": 44,
    "start_time": "2024-06-01T15:39:39.519Z"
   },
   {
    "duration": 20,
    "start_time": "2024-06-01T15:39:50.171Z"
   },
   {
    "duration": 17,
    "start_time": "2024-06-01T15:40:09.276Z"
   },
   {
    "duration": 13,
    "start_time": "2024-06-01T15:49:13.763Z"
   },
   {
    "duration": 325,
    "start_time": "2024-06-01T15:52:16.352Z"
   },
   {
    "duration": 26,
    "start_time": "2024-06-01T15:53:31.366Z"
   },
   {
    "duration": 12,
    "start_time": "2024-06-01T16:06:35.134Z"
   },
   {
    "duration": 662,
    "start_time": "2024-06-01T16:08:25.116Z"
   },
   {
    "duration": 15,
    "start_time": "2024-06-01T16:08:58.241Z"
   },
   {
    "duration": 11,
    "start_time": "2024-06-01T16:09:09.634Z"
   },
   {
    "duration": 11,
    "start_time": "2024-06-01T16:09:46.298Z"
   },
   {
    "duration": 12,
    "start_time": "2024-06-01T16:09:57.915Z"
   },
   {
    "duration": 549,
    "start_time": "2024-06-01T16:11:15.059Z"
   },
   {
    "duration": 1039,
    "start_time": "2024-06-01T16:11:58.120Z"
   },
   {
    "duration": 500,
    "start_time": "2024-06-01T16:13:00.356Z"
   },
   {
    "duration": 1076,
    "start_time": "2024-06-01T16:13:12.607Z"
   },
   {
    "duration": 574,
    "start_time": "2024-06-01T16:13:26.183Z"
   },
   {
    "duration": 547,
    "start_time": "2024-06-01T16:15:59.014Z"
   },
   {
    "duration": 565,
    "start_time": "2024-06-01T16:20:17.412Z"
   },
   {
    "duration": 31,
    "start_time": "2024-06-01T16:25:01.279Z"
   },
   {
    "duration": 31,
    "start_time": "2024-06-01T16:25:11.449Z"
   },
   {
    "duration": 6,
    "start_time": "2024-06-01T16:25:37.243Z"
   },
   {
    "duration": 4,
    "start_time": "2024-06-01T16:25:44.742Z"
   },
   {
    "duration": 4,
    "start_time": "2024-06-01T16:27:52.676Z"
   },
   {
    "duration": 4,
    "start_time": "2024-06-01T16:30:02.393Z"
   },
   {
    "duration": 22,
    "start_time": "2024-06-01T16:32:44.877Z"
   },
   {
    "duration": 5,
    "start_time": "2024-06-01T16:41:16.234Z"
   },
   {
    "duration": 825,
    "start_time": "2024-06-01T17:00:44.466Z"
   },
   {
    "duration": 903,
    "start_time": "2024-06-01T17:01:34.030Z"
   },
   {
    "duration": 19,
    "start_time": "2024-06-01T17:02:18.858Z"
   },
   {
    "duration": 594,
    "start_time": "2024-06-01T17:17:30.187Z"
   },
   {
    "duration": 555,
    "start_time": "2024-06-01T17:19:20.815Z"
   },
   {
    "duration": 550,
    "start_time": "2024-06-01T17:19:44.523Z"
   },
   {
    "duration": 572,
    "start_time": "2024-06-01T17:20:13.434Z"
   },
   {
    "duration": 581,
    "start_time": "2024-06-01T17:20:43.046Z"
   },
   {
    "duration": 554,
    "start_time": "2024-06-01T17:21:06.442Z"
   },
   {
    "duration": 151,
    "start_time": "2024-06-01T17:32:18.633Z"
   },
   {
    "duration": 1249,
    "start_time": "2024-06-01T17:34:08.434Z"
   },
   {
    "duration": 11,
    "start_time": "2024-06-01T17:40:49.359Z"
   },
   {
    "duration": 735,
    "start_time": "2024-06-01T18:03:16.950Z"
   },
   {
    "duration": 19,
    "start_time": "2024-06-01T18:06:45.040Z"
   },
   {
    "duration": 271,
    "start_time": "2024-06-01T18:08:06.699Z"
   },
   {
    "duration": 729,
    "start_time": "2024-06-01T18:09:21.216Z"
   },
   {
    "duration": 1617,
    "start_time": "2024-06-01T18:09:22.635Z"
   },
   {
    "duration": 17,
    "start_time": "2024-06-01T18:09:24.256Z"
   },
   {
    "duration": 16,
    "start_time": "2024-06-01T18:09:24.276Z"
   },
   {
    "duration": 39,
    "start_time": "2024-06-01T18:09:24.295Z"
   },
   {
    "duration": 14,
    "start_time": "2024-06-01T18:09:24.337Z"
   },
   {
    "duration": 12,
    "start_time": "2024-06-01T18:09:24.353Z"
   },
   {
    "duration": 10,
    "start_time": "2024-06-01T18:09:24.367Z"
   },
   {
    "duration": 372,
    "start_time": "2024-06-01T18:09:24.380Z"
   },
   {
    "duration": 13,
    "start_time": "2024-06-01T18:09:24.755Z"
   },
   {
    "duration": 211,
    "start_time": "2024-06-01T18:09:24.775Z"
   },
   {
    "duration": 181,
    "start_time": "2024-06-01T18:09:24.989Z"
   },
   {
    "duration": 67,
    "start_time": "2024-06-01T18:09:25.173Z"
   },
   {
    "duration": 10,
    "start_time": "2024-06-01T18:09:25.243Z"
   },
   {
    "duration": 36,
    "start_time": "2024-06-01T18:09:25.256Z"
   },
   {
    "duration": 43,
    "start_time": "2024-06-01T18:09:25.296Z"
   },
   {
    "duration": 41,
    "start_time": "2024-06-01T18:09:25.342Z"
   },
   {
    "duration": 68,
    "start_time": "2024-06-01T18:09:25.386Z"
   },
   {
    "duration": 7,
    "start_time": "2024-06-01T18:09:25.457Z"
   },
   {
    "duration": 8,
    "start_time": "2024-06-01T18:09:25.467Z"
   },
   {
    "duration": 9,
    "start_time": "2024-06-01T18:09:25.478Z"
   },
   {
    "duration": 7,
    "start_time": "2024-06-01T18:09:25.490Z"
   },
   {
    "duration": 10,
    "start_time": "2024-06-01T18:09:25.534Z"
   },
   {
    "duration": 5,
    "start_time": "2024-06-01T18:09:25.547Z"
   },
   {
    "duration": 30,
    "start_time": "2024-06-01T18:09:25.555Z"
   },
   {
    "duration": 2692,
    "start_time": "2024-06-01T18:09:25.588Z"
   },
   {
    "duration": 422,
    "start_time": "2024-06-01T18:09:28.283Z"
   },
   {
    "duration": 24,
    "start_time": "2024-06-01T18:09:28.712Z"
   },
   {
    "duration": 13,
    "start_time": "2024-06-01T18:09:28.739Z"
   },
   {
    "duration": 15,
    "start_time": "2024-06-01T18:09:28.755Z"
   },
   {
    "duration": 11,
    "start_time": "2024-06-01T18:09:30.345Z"
   },
   {
    "duration": 10,
    "start_time": "2024-06-01T18:09:31.109Z"
   },
   {
    "duration": 10,
    "start_time": "2024-06-01T18:09:32.481Z"
   },
   {
    "duration": 14,
    "start_time": "2024-06-01T18:09:33.154Z"
   },
   {
    "duration": 29,
    "start_time": "2024-06-01T18:09:34.808Z"
   },
   {
    "duration": 48,
    "start_time": "2024-06-01T18:09:35.457Z"
   },
   {
    "duration": 16,
    "start_time": "2024-06-01T18:09:36.778Z"
   },
   {
    "duration": 903,
    "start_time": "2024-06-01T18:09:37.486Z"
   },
   {
    "duration": 684,
    "start_time": "2024-06-01T18:09:38.435Z"
   },
   {
    "duration": 53,
    "start_time": "2024-06-01T18:09:44.606Z"
   },
   {
    "duration": 65,
    "start_time": "2024-06-01T18:11:39.955Z"
   },
   {
    "duration": 8,
    "start_time": "2024-06-01T18:21:21.159Z"
   },
   {
    "duration": 6,
    "start_time": "2024-06-01T18:22:01.872Z"
   },
   {
    "duration": 311,
    "start_time": "2024-06-01T18:35:38.886Z"
   },
   {
    "duration": 690,
    "start_time": "2024-06-01T18:36:13.292Z"
   },
   {
    "duration": 1714,
    "start_time": "2024-06-01T18:36:13.985Z"
   },
   {
    "duration": 30,
    "start_time": "2024-06-01T18:36:15.703Z"
   },
   {
    "duration": 15,
    "start_time": "2024-06-01T18:36:15.739Z"
   },
   {
    "duration": 15,
    "start_time": "2024-06-01T18:36:15.757Z"
   },
   {
    "duration": 13,
    "start_time": "2024-06-01T18:36:15.775Z"
   },
   {
    "duration": 12,
    "start_time": "2024-06-01T18:36:15.832Z"
   },
   {
    "duration": 12,
    "start_time": "2024-06-01T18:36:15.848Z"
   },
   {
    "duration": 378,
    "start_time": "2024-06-01T18:36:15.863Z"
   },
   {
    "duration": 14,
    "start_time": "2024-06-01T18:36:16.248Z"
   },
   {
    "duration": 208,
    "start_time": "2024-06-01T18:36:16.265Z"
   },
   {
    "duration": 183,
    "start_time": "2024-06-01T18:36:16.476Z"
   },
   {
    "duration": 46,
    "start_time": "2024-06-01T18:36:16.662Z"
   },
   {
    "duration": 26,
    "start_time": "2024-06-01T18:36:16.711Z"
   },
   {
    "duration": 37,
    "start_time": "2024-06-01T18:36:16.739Z"
   },
   {
    "duration": 12,
    "start_time": "2024-06-01T18:36:16.779Z"
   },
   {
    "duration": 76,
    "start_time": "2024-06-01T18:36:16.794Z"
   },
   {
    "duration": 65,
    "start_time": "2024-06-01T18:36:16.873Z"
   },
   {
    "duration": 7,
    "start_time": "2024-06-01T18:36:16.941Z"
   },
   {
    "duration": 10,
    "start_time": "2024-06-01T18:36:16.951Z"
   },
   {
    "duration": 7,
    "start_time": "2024-06-01T18:36:16.964Z"
   },
   {
    "duration": 7,
    "start_time": "2024-06-01T18:36:16.975Z"
   },
   {
    "duration": 54,
    "start_time": "2024-06-01T18:36:16.985Z"
   },
   {
    "duration": 6,
    "start_time": "2024-06-01T18:36:17.043Z"
   },
   {
    "duration": 32,
    "start_time": "2024-06-01T18:36:17.053Z"
   },
   {
    "duration": 2725,
    "start_time": "2024-06-01T18:36:17.088Z"
   },
   {
    "duration": 392,
    "start_time": "2024-06-01T18:36:19.816Z"
   },
   {
    "duration": 22,
    "start_time": "2024-06-01T18:36:20.216Z"
   },
   {
    "duration": 14,
    "start_time": "2024-06-01T18:36:20.241Z"
   },
   {
    "duration": 15,
    "start_time": "2024-06-01T18:36:20.258Z"
   },
   {
    "duration": 11,
    "start_time": "2024-06-01T18:36:20.276Z"
   },
   {
    "duration": 14,
    "start_time": "2024-06-01T18:36:20.334Z"
   },
   {
    "duration": 11,
    "start_time": "2024-06-01T18:36:20.351Z"
   },
   {
    "duration": 15,
    "start_time": "2024-06-01T18:36:20.366Z"
   },
   {
    "duration": 71,
    "start_time": "2024-06-01T18:36:20.384Z"
   },
   {
    "duration": 49,
    "start_time": "2024-06-01T18:36:20.457Z"
   },
   {
    "duration": 18,
    "start_time": "2024-06-01T18:36:20.533Z"
   },
   {
    "duration": 902,
    "start_time": "2024-06-01T18:36:20.554Z"
   },
   {
    "duration": 727,
    "start_time": "2024-06-01T18:36:21.460Z"
   },
   {
    "duration": 71,
    "start_time": "2024-06-01T18:36:22.190Z"
   },
   {
    "duration": 74,
    "start_time": "2024-06-01T18:36:22.264Z"
   },
   {
    "duration": 6,
    "start_time": "2024-06-01T18:36:22.344Z"
   },
   {
    "duration": 7,
    "start_time": "2024-06-01T18:36:22.352Z"
   },
   {
    "duration": 411,
    "start_time": "2024-06-01T18:36:26.583Z"
   },
   {
    "duration": 452,
    "start_time": "2024-06-01T18:42:42.172Z"
   },
   {
    "duration": 4504,
    "start_time": "2024-06-01T19:03:28.151Z"
   },
   {
    "duration": 1778,
    "start_time": "2024-06-01T19:03:32.659Z"
   },
   {
    "duration": 20,
    "start_time": "2024-06-01T19:03:34.440Z"
   },
   {
    "duration": 18,
    "start_time": "2024-06-01T19:03:34.464Z"
   },
   {
    "duration": 48,
    "start_time": "2024-06-01T19:03:34.485Z"
   },
   {
    "duration": 14,
    "start_time": "2024-06-01T19:03:35.838Z"
   },
   {
    "duration": 12,
    "start_time": "2024-06-01T19:03:36.343Z"
   },
   {
    "duration": 10,
    "start_time": "2024-06-01T19:03:36.541Z"
   },
   {
    "duration": 354,
    "start_time": "2024-06-01T19:03:36.593Z"
   },
   {
    "duration": 14,
    "start_time": "2024-06-01T19:03:36.951Z"
   },
   {
    "duration": 244,
    "start_time": "2024-06-01T19:03:36.968Z"
   },
   {
    "duration": 205,
    "start_time": "2024-06-01T19:03:37.222Z"
   },
   {
    "duration": 50,
    "start_time": "2024-06-01T19:03:37.430Z"
   },
   {
    "duration": 9,
    "start_time": "2024-06-01T19:03:37.767Z"
   },
   {
    "duration": 43,
    "start_time": "2024-06-01T19:03:37.804Z"
   },
   {
    "duration": 14,
    "start_time": "2024-06-01T19:03:37.850Z"
   },
   {
    "duration": 57,
    "start_time": "2024-06-01T19:03:37.881Z"
   },
   {
    "duration": 47,
    "start_time": "2024-06-01T19:03:37.941Z"
   },
   {
    "duration": 8,
    "start_time": "2024-06-01T19:03:38.664Z"
   },
   {
    "duration": 7,
    "start_time": "2024-06-01T19:03:39.233Z"
   },
   {
    "duration": 6,
    "start_time": "2024-06-01T19:03:39.492Z"
   },
   {
    "duration": 7,
    "start_time": "2024-06-01T19:03:40.957Z"
   },
   {
    "duration": 11,
    "start_time": "2024-06-01T19:03:41.151Z"
   },
   {
    "duration": 6,
    "start_time": "2024-06-01T19:03:41.356Z"
   },
   {
    "duration": 30,
    "start_time": "2024-06-01T19:03:42.071Z"
   },
   {
    "duration": 2827,
    "start_time": "2024-06-01T19:03:42.295Z"
   },
   {
    "duration": 413,
    "start_time": "2024-06-01T19:03:45.126Z"
   },
   {
    "duration": 15,
    "start_time": "2024-06-01T19:03:45.544Z"
   },
   {
    "duration": 13,
    "start_time": "2024-06-01T19:03:45.954Z"
   },
   {
    "duration": 14,
    "start_time": "2024-06-01T19:03:47.535Z"
   },
   {
    "duration": 11,
    "start_time": "2024-06-01T19:03:48.486Z"
   },
   {
    "duration": 10,
    "start_time": "2024-06-01T19:03:49.281Z"
   },
   {
    "duration": 11,
    "start_time": "2024-06-01T19:03:50.670Z"
   },
   {
    "duration": 15,
    "start_time": "2024-06-01T19:03:51.243Z"
   },
   {
    "duration": 30,
    "start_time": "2024-06-01T19:03:54.652Z"
   },
   {
    "duration": 59,
    "start_time": "2024-06-01T19:03:54.825Z"
   },
   {
    "duration": 21,
    "start_time": "2024-06-01T19:03:55.953Z"
   },
   {
    "duration": 845,
    "start_time": "2024-06-01T19:04:03.087Z"
   },
   {
    "duration": 781,
    "start_time": "2024-06-01T19:04:03.936Z"
   },
   {
    "duration": 59,
    "start_time": "2024-06-01T19:04:07.673Z"
   },
   {
    "duration": 68,
    "start_time": "2024-06-01T19:04:11.442Z"
   },
   {
    "duration": 6,
    "start_time": "2024-06-01T19:04:16.085Z"
   },
   {
    "duration": 6,
    "start_time": "2024-06-01T19:04:16.583Z"
   },
   {
    "duration": 444,
    "start_time": "2024-06-01T19:04:33.137Z"
   },
   {
    "duration": 812,
    "start_time": "2024-06-01T19:07:00.700Z"
   },
   {
    "duration": 1943,
    "start_time": "2024-06-01T19:07:01.515Z"
   },
   {
    "duration": 21,
    "start_time": "2024-06-01T19:07:03.461Z"
   },
   {
    "duration": 43,
    "start_time": "2024-06-01T19:07:03.486Z"
   },
   {
    "duration": 15,
    "start_time": "2024-06-01T19:07:03.532Z"
   },
   {
    "duration": 16,
    "start_time": "2024-06-01T19:07:03.550Z"
   },
   {
    "duration": 56,
    "start_time": "2024-06-01T19:07:03.570Z"
   },
   {
    "duration": 13,
    "start_time": "2024-06-01T19:07:03.630Z"
   },
   {
    "duration": 459,
    "start_time": "2024-06-01T19:07:03.646Z"
   },
   {
    "duration": 14,
    "start_time": "2024-06-01T19:07:04.123Z"
   },
   {
    "duration": 237,
    "start_time": "2024-06-01T19:07:04.140Z"
   },
   {
    "duration": 218,
    "start_time": "2024-06-01T19:07:04.381Z"
   },
   {
    "duration": 67,
    "start_time": "2024-06-01T19:07:04.602Z"
   },
   {
    "duration": 11,
    "start_time": "2024-06-01T19:07:04.672Z"
   },
   {
    "duration": 78,
    "start_time": "2024-06-01T19:07:04.687Z"
   },
   {
    "duration": 16,
    "start_time": "2024-06-01T19:07:04.769Z"
   },
   {
    "duration": 41,
    "start_time": "2024-06-01T19:07:05.144Z"
   },
   {
    "duration": 46,
    "start_time": "2024-06-01T19:07:05.628Z"
   },
   {
    "duration": 8,
    "start_time": "2024-06-01T19:07:05.737Z"
   },
   {
    "duration": 8,
    "start_time": "2024-06-01T19:07:05.770Z"
   },
   {
    "duration": 6,
    "start_time": "2024-06-01T19:07:05.796Z"
   },
   {
    "duration": 8,
    "start_time": "2024-06-01T19:07:05.879Z"
   },
   {
    "duration": 9,
    "start_time": "2024-06-01T19:07:05.922Z"
   },
   {
    "duration": 6,
    "start_time": "2024-06-01T19:07:05.965Z"
   },
   {
    "duration": 30,
    "start_time": "2024-06-01T19:07:06.069Z"
   },
   {
    "duration": 2913,
    "start_time": "2024-06-01T19:07:06.103Z"
   },
   {
    "duration": 478,
    "start_time": "2024-06-01T19:07:09.022Z"
   },
   {
    "duration": 25,
    "start_time": "2024-06-01T19:07:09.504Z"
   },
   {
    "duration": 18,
    "start_time": "2024-06-01T19:07:09.533Z"
   },
   {
    "duration": 18,
    "start_time": "2024-06-01T19:07:09.554Z"
   },
   {
    "duration": 54,
    "start_time": "2024-06-01T19:07:09.576Z"
   },
   {
    "duration": 12,
    "start_time": "2024-06-01T19:07:09.634Z"
   },
   {
    "duration": 16,
    "start_time": "2024-06-01T19:07:09.651Z"
   },
   {
    "duration": 55,
    "start_time": "2024-06-01T19:07:09.670Z"
   },
   {
    "duration": 31,
    "start_time": "2024-06-01T19:07:09.738Z"
   },
   {
    "duration": 82,
    "start_time": "2024-06-01T19:07:09.773Z"
   },
   {
    "duration": 19,
    "start_time": "2024-06-01T19:07:10.476Z"
   },
   {
    "duration": 921,
    "start_time": "2024-06-01T19:07:10.995Z"
   },
   {
    "duration": 751,
    "start_time": "2024-06-01T19:07:11.923Z"
   },
   {
    "duration": 73,
    "start_time": "2024-06-01T19:07:12.677Z"
   },
   {
    "duration": 79,
    "start_time": "2024-06-01T19:07:12.754Z"
   },
   {
    "duration": 6,
    "start_time": "2024-06-01T19:07:13.577Z"
   },
   {
    "duration": 7,
    "start_time": "2024-06-01T19:07:13.952Z"
   },
   {
    "duration": 432,
    "start_time": "2024-06-01T19:07:16.935Z"
   },
   {
    "duration": 4,
    "start_time": "2024-06-01T19:09:42.846Z"
   },
   {
    "duration": 1751,
    "start_time": "2024-06-01T19:09:43.350Z"
   },
   {
    "duration": 30,
    "start_time": "2024-06-01T19:09:45.104Z"
   },
   {
    "duration": 16,
    "start_time": "2024-06-01T19:09:45.137Z"
   },
   {
    "duration": 14,
    "start_time": "2024-06-01T19:09:45.157Z"
   },
   {
    "duration": 49,
    "start_time": "2024-06-01T19:09:45.174Z"
   },
   {
    "duration": 13,
    "start_time": "2024-06-01T19:09:45.226Z"
   },
   {
    "duration": 10,
    "start_time": "2024-06-01T19:09:45.241Z"
   },
   {
    "duration": 384,
    "start_time": "2024-06-01T19:09:45.254Z"
   },
   {
    "duration": 13,
    "start_time": "2024-06-01T19:09:45.641Z"
   },
   {
    "duration": 210,
    "start_time": "2024-06-01T19:09:45.660Z"
   },
   {
    "duration": 210,
    "start_time": "2024-06-01T19:09:45.873Z"
   },
   {
    "duration": 56,
    "start_time": "2024-06-01T19:09:46.085Z"
   },
   {
    "duration": 10,
    "start_time": "2024-06-01T19:09:46.144Z"
   },
   {
    "duration": 36,
    "start_time": "2024-06-01T19:09:46.156Z"
   },
   {
    "duration": 36,
    "start_time": "2024-06-01T19:09:46.195Z"
   },
   {
    "duration": 42,
    "start_time": "2024-06-01T19:09:46.234Z"
   },
   {
    "duration": 78,
    "start_time": "2024-06-01T19:09:46.280Z"
   },
   {
    "duration": 8,
    "start_time": "2024-06-01T19:09:46.361Z"
   },
   {
    "duration": 9,
    "start_time": "2024-06-01T19:09:46.371Z"
   },
   {
    "duration": 5,
    "start_time": "2024-06-01T19:09:46.383Z"
   },
   {
    "duration": 7,
    "start_time": "2024-06-01T19:09:46.425Z"
   },
   {
    "duration": 9,
    "start_time": "2024-06-01T19:09:46.435Z"
   },
   {
    "duration": 6,
    "start_time": "2024-06-01T19:09:46.448Z"
   },
   {
    "duration": 74,
    "start_time": "2024-06-01T19:09:46.457Z"
   },
   {
    "duration": 2818,
    "start_time": "2024-06-01T19:09:46.533Z"
   },
   {
    "duration": 445,
    "start_time": "2024-06-01T19:09:49.354Z"
   },
   {
    "duration": 25,
    "start_time": "2024-06-01T19:09:49.803Z"
   },
   {
    "duration": 14,
    "start_time": "2024-06-01T19:09:49.837Z"
   },
   {
    "duration": 15,
    "start_time": "2024-06-01T19:09:49.854Z"
   },
   {
    "duration": 51,
    "start_time": "2024-06-01T19:09:49.873Z"
   },
   {
    "duration": 18,
    "start_time": "2024-06-01T19:09:49.929Z"
   },
   {
    "duration": 10,
    "start_time": "2024-06-01T19:09:49.951Z"
   },
   {
    "duration": 15,
    "start_time": "2024-06-01T19:09:49.964Z"
   },
   {
    "duration": 68,
    "start_time": "2024-06-01T19:09:49.982Z"
   },
   {
    "duration": 83,
    "start_time": "2024-06-01T19:09:50.054Z"
   },
   {
    "duration": 18,
    "start_time": "2024-06-01T19:09:50.140Z"
   },
   {
    "duration": 795,
    "start_time": "2024-06-01T19:09:50.161Z"
   },
   {
    "duration": 755,
    "start_time": "2024-06-01T19:09:50.959Z"
   },
   {
    "duration": 61,
    "start_time": "2024-06-01T19:09:51.717Z"
   },
   {
    "duration": 93,
    "start_time": "2024-06-01T19:09:51.780Z"
   },
   {
    "duration": 6,
    "start_time": "2024-06-01T19:09:51.876Z"
   },
   {
    "duration": 6,
    "start_time": "2024-06-01T19:09:51.889Z"
   },
   {
    "duration": 709,
    "start_time": "2024-06-01T19:12:02.374Z"
   },
   {
    "duration": 1773,
    "start_time": "2024-06-01T19:12:03.087Z"
   },
   {
    "duration": 19,
    "start_time": "2024-06-01T19:12:04.864Z"
   },
   {
    "duration": 39,
    "start_time": "2024-06-01T19:12:04.888Z"
   },
   {
    "duration": 13,
    "start_time": "2024-06-01T19:12:04.931Z"
   },
   {
    "duration": 16,
    "start_time": "2024-06-01T19:12:04.947Z"
   },
   {
    "duration": 13,
    "start_time": "2024-06-01T19:12:04.967Z"
   },
   {
    "duration": 12,
    "start_time": "2024-06-01T19:12:05.025Z"
   },
   {
    "duration": 404,
    "start_time": "2024-06-01T19:12:05.041Z"
   },
   {
    "duration": 14,
    "start_time": "2024-06-01T19:12:05.451Z"
   },
   {
    "duration": 228,
    "start_time": "2024-06-01T19:12:05.468Z"
   },
   {
    "duration": 194,
    "start_time": "2024-06-01T19:12:05.699Z"
   },
   {
    "duration": 67,
    "start_time": "2024-06-01T19:12:05.898Z"
   },
   {
    "duration": 9,
    "start_time": "2024-06-01T19:12:05.969Z"
   },
   {
    "duration": 69,
    "start_time": "2024-06-01T19:12:05.982Z"
   },
   {
    "duration": 13,
    "start_time": "2024-06-01T19:12:06.054Z"
   },
   {
    "duration": 71,
    "start_time": "2024-06-01T19:12:06.069Z"
   },
   {
    "duration": 50,
    "start_time": "2024-06-01T19:12:06.143Z"
   },
   {
    "duration": 25,
    "start_time": "2024-06-01T19:12:06.197Z"
   },
   {
    "duration": 10,
    "start_time": "2024-06-01T19:12:06.227Z"
   },
   {
    "duration": 6,
    "start_time": "2024-06-01T19:12:06.240Z"
   },
   {
    "duration": 8,
    "start_time": "2024-06-01T19:12:06.250Z"
   },
   {
    "duration": 10,
    "start_time": "2024-06-01T19:12:06.261Z"
   },
   {
    "duration": 6,
    "start_time": "2024-06-01T19:12:06.324Z"
   },
   {
    "duration": 30,
    "start_time": "2024-06-01T19:12:06.333Z"
   },
   {
    "duration": 2935,
    "start_time": "2024-06-01T19:12:06.366Z"
   },
   {
    "duration": 462,
    "start_time": "2024-06-01T19:12:09.304Z"
   },
   {
    "duration": 14,
    "start_time": "2024-06-01T19:12:09.775Z"
   },
   {
    "duration": 39,
    "start_time": "2024-06-01T19:12:09.793Z"
   },
   {
    "duration": 14,
    "start_time": "2024-06-01T19:12:09.835Z"
   },
   {
    "duration": 13,
    "start_time": "2024-06-01T19:12:09.853Z"
   },
   {
    "duration": 60,
    "start_time": "2024-06-01T19:12:09.869Z"
   },
   {
    "duration": 12,
    "start_time": "2024-06-01T19:12:09.935Z"
   },
   {
    "duration": 17,
    "start_time": "2024-06-01T19:12:09.950Z"
   },
   {
    "duration": 73,
    "start_time": "2024-06-01T19:12:09.970Z"
   },
   {
    "duration": 54,
    "start_time": "2024-06-01T19:12:10.046Z"
   },
   {
    "duration": 19,
    "start_time": "2024-06-01T19:12:10.124Z"
   },
   {
    "duration": 1017,
    "start_time": "2024-06-01T19:12:10.147Z"
   },
   {
    "duration": 731,
    "start_time": "2024-06-01T19:12:11.167Z"
   },
   {
    "duration": 70,
    "start_time": "2024-06-01T19:12:11.901Z"
   },
   {
    "duration": 79,
    "start_time": "2024-06-01T19:12:11.973Z"
   },
   {
    "duration": 6,
    "start_time": "2024-06-01T19:12:12.057Z"
   },
   {
    "duration": 6,
    "start_time": "2024-06-01T19:12:12.066Z"
   },
   {
    "duration": 12,
    "start_time": "2024-06-01T19:15:38.960Z"
   },
   {
    "duration": 11,
    "start_time": "2024-06-01T19:18:33.106Z"
   },
   {
    "duration": 429,
    "start_time": "2024-06-01T19:19:05.231Z"
   },
   {
    "duration": 275,
    "start_time": "2024-06-01T19:23:04.105Z"
   },
   {
    "duration": 379,
    "start_time": "2024-06-01T19:37:48.576Z"
   },
   {
    "duration": 4450,
    "start_time": "2024-06-01T21:10:33.987Z"
   },
   {
    "duration": 1661,
    "start_time": "2024-06-01T21:10:38.441Z"
   },
   {
    "duration": 23,
    "start_time": "2024-06-01T21:10:40.106Z"
   },
   {
    "duration": 16,
    "start_time": "2024-06-01T21:10:40.133Z"
   },
   {
    "duration": 14,
    "start_time": "2024-06-01T21:10:40.152Z"
   },
   {
    "duration": 54,
    "start_time": "2024-06-01T21:10:40.169Z"
   },
   {
    "duration": 13,
    "start_time": "2024-06-01T21:10:40.226Z"
   },
   {
    "duration": 10,
    "start_time": "2024-06-01T21:10:40.242Z"
   },
   {
    "duration": 446,
    "start_time": "2024-06-01T21:10:40.255Z"
   },
   {
    "duration": 18,
    "start_time": "2024-06-01T21:10:40.707Z"
   },
   {
    "duration": 216,
    "start_time": "2024-06-01T21:10:40.728Z"
   },
   {
    "duration": 185,
    "start_time": "2024-06-01T21:10:40.947Z"
   },
   {
    "duration": 47,
    "start_time": "2024-06-01T21:10:41.135Z"
   },
   {
    "duration": 29,
    "start_time": "2024-06-01T21:10:41.185Z"
   },
   {
    "duration": 37,
    "start_time": "2024-06-01T21:10:41.218Z"
   },
   {
    "duration": 12,
    "start_time": "2024-06-01T21:10:41.258Z"
   },
   {
    "duration": 81,
    "start_time": "2024-06-01T21:10:41.275Z"
   },
   {
    "duration": 68,
    "start_time": "2024-06-01T21:10:41.360Z"
   },
   {
    "duration": 8,
    "start_time": "2024-06-01T21:10:41.431Z"
   },
   {
    "duration": 8,
    "start_time": "2024-06-01T21:10:41.441Z"
   },
   {
    "duration": 8,
    "start_time": "2024-06-01T21:10:41.452Z"
   },
   {
    "duration": 54,
    "start_time": "2024-06-01T21:10:41.463Z"
   },
   {
    "duration": 10,
    "start_time": "2024-06-01T21:10:41.520Z"
   },
   {
    "duration": 7,
    "start_time": "2024-06-01T21:10:41.533Z"
   },
   {
    "duration": 30,
    "start_time": "2024-06-01T21:10:41.543Z"
   },
   {
    "duration": 2763,
    "start_time": "2024-06-01T21:10:41.576Z"
   },
   {
    "duration": 413,
    "start_time": "2024-06-01T21:10:44.342Z"
   },
   {
    "duration": 13,
    "start_time": "2024-06-01T21:10:44.763Z"
   },
   {
    "duration": 37,
    "start_time": "2024-06-01T21:10:44.779Z"
   },
   {
    "duration": 14,
    "start_time": "2024-06-01T21:10:44.819Z"
   },
   {
    "duration": 14,
    "start_time": "2024-06-01T21:10:44.836Z"
   },
   {
    "duration": 11,
    "start_time": "2024-06-01T21:10:44.854Z"
   },
   {
    "duration": 52,
    "start_time": "2024-06-01T21:10:44.868Z"
   },
   {
    "duration": 13,
    "start_time": "2024-06-01T21:10:44.923Z"
   },
   {
    "duration": 29,
    "start_time": "2024-06-01T21:10:44.939Z"
   },
   {
    "duration": 81,
    "start_time": "2024-06-01T21:10:44.971Z"
   },
   {
    "duration": 17,
    "start_time": "2024-06-01T21:10:45.056Z"
   },
   {
    "duration": 965,
    "start_time": "2024-06-01T21:10:45.076Z"
   },
   {
    "duration": 707,
    "start_time": "2024-06-01T21:10:46.044Z"
   },
   {
    "duration": 69,
    "start_time": "2024-06-01T21:10:46.754Z"
   },
   {
    "duration": 70,
    "start_time": "2024-06-01T21:10:46.826Z"
   },
   {
    "duration": 6,
    "start_time": "2024-06-01T21:10:46.913Z"
   },
   {
    "duration": 6,
    "start_time": "2024-06-01T21:10:46.922Z"
   },
   {
    "duration": 478,
    "start_time": "2024-06-01T21:10:46.934Z"
   },
   {
    "duration": 292,
    "start_time": "2024-06-01T21:10:47.415Z"
   },
   {
    "duration": 353,
    "start_time": "2024-06-01T21:10:53.922Z"
   },
   {
    "duration": 11,
    "start_time": "2024-06-01T21:11:01.560Z"
   },
   {
    "duration": 5,
    "start_time": "2024-06-01T21:12:27.164Z"
   },
   {
    "duration": 5,
    "start_time": "2024-06-01T21:14:02.798Z"
   },
   {
    "duration": 52,
    "start_time": "2024-06-01T21:14:40.759Z"
   },
   {
    "duration": 551,
    "start_time": "2024-06-01T21:21:05.045Z"
   },
   {
    "duration": 53,
    "start_time": "2024-06-01T21:21:53.428Z"
   },
   {
    "duration": 4432,
    "start_time": "2024-06-03T03:09:16.870Z"
   },
   {
    "duration": 1669,
    "start_time": "2024-06-03T03:09:21.307Z"
   },
   {
    "duration": 19,
    "start_time": "2024-06-03T03:09:22.981Z"
   },
   {
    "duration": 24,
    "start_time": "2024-06-03T03:09:23.015Z"
   },
   {
    "duration": 17,
    "start_time": "2024-06-03T03:09:23.046Z"
   },
   {
    "duration": 46,
    "start_time": "2024-06-03T03:09:23.066Z"
   },
   {
    "duration": 16,
    "start_time": "2024-06-03T03:09:23.117Z"
   },
   {
    "duration": 11,
    "start_time": "2024-06-03T03:09:23.136Z"
   },
   {
    "duration": 394,
    "start_time": "2024-06-03T03:09:23.151Z"
   },
   {
    "duration": 14,
    "start_time": "2024-06-03T03:09:23.551Z"
   },
   {
    "duration": 219,
    "start_time": "2024-06-03T03:09:23.567Z"
   },
   {
    "duration": 196,
    "start_time": "2024-06-03T03:09:23.789Z"
   },
   {
    "duration": 62,
    "start_time": "2024-06-03T03:09:23.988Z"
   },
   {
    "duration": 9,
    "start_time": "2024-06-03T03:09:24.053Z"
   },
   {
    "duration": 64,
    "start_time": "2024-06-03T03:09:24.065Z"
   },
   {
    "duration": 13,
    "start_time": "2024-06-03T03:09:24.132Z"
   },
   {
    "duration": 67,
    "start_time": "2024-06-03T03:09:24.147Z"
   },
   {
    "duration": 61,
    "start_time": "2024-06-03T03:09:24.217Z"
   },
   {
    "duration": 9,
    "start_time": "2024-06-03T03:09:24.281Z"
   },
   {
    "duration": 12,
    "start_time": "2024-06-03T03:09:24.319Z"
   },
   {
    "duration": 7,
    "start_time": "2024-06-03T03:09:24.333Z"
   },
   {
    "duration": 7,
    "start_time": "2024-06-03T03:09:24.344Z"
   },
   {
    "duration": 9,
    "start_time": "2024-06-03T03:09:24.354Z"
   },
   {
    "duration": 55,
    "start_time": "2024-06-03T03:09:24.366Z"
   },
   {
    "duration": 30,
    "start_time": "2024-06-03T03:09:24.424Z"
   },
   {
    "duration": 2848,
    "start_time": "2024-06-03T03:09:24.457Z"
   },
   {
    "duration": 435,
    "start_time": "2024-06-03T03:09:27.312Z"
   },
   {
    "duration": 15,
    "start_time": "2024-06-03T03:09:27.759Z"
   },
   {
    "duration": 41,
    "start_time": "2024-06-03T03:09:27.778Z"
   },
   {
    "duration": 14,
    "start_time": "2024-06-03T03:09:27.822Z"
   },
   {
    "duration": 14,
    "start_time": "2024-06-03T03:09:27.839Z"
   },
   {
    "duration": 15,
    "start_time": "2024-06-03T03:09:27.856Z"
   },
   {
    "duration": 11,
    "start_time": "2024-06-03T03:09:27.912Z"
   },
   {
    "duration": 18,
    "start_time": "2024-06-03T03:09:27.926Z"
   },
   {
    "duration": 31,
    "start_time": "2024-06-03T03:09:27.947Z"
   },
   {
    "duration": 52,
    "start_time": "2024-06-03T03:09:28.013Z"
   },
   {
    "duration": 54,
    "start_time": "2024-06-03T03:09:28.069Z"
   },
   {
    "duration": 914,
    "start_time": "2024-06-03T03:09:28.126Z"
   },
   {
    "duration": 755,
    "start_time": "2024-06-03T03:09:29.044Z"
   },
   {
    "duration": 66,
    "start_time": "2024-06-03T03:09:29.801Z"
   },
   {
    "duration": 93,
    "start_time": "2024-06-03T03:09:29.870Z"
   },
   {
    "duration": 7,
    "start_time": "2024-06-03T03:09:29.966Z"
   },
   {
    "duration": 35,
    "start_time": "2024-06-03T03:09:29.977Z"
   },
   {
    "duration": 499,
    "start_time": "2024-06-03T03:09:30.015Z"
   },
   {
    "duration": 291,
    "start_time": "2024-06-03T03:09:30.521Z"
   },
   {
    "duration": 399,
    "start_time": "2024-06-03T03:09:30.819Z"
   },
   {
    "duration": 12,
    "start_time": "2024-06-03T03:09:31.221Z"
   },
   {
    "duration": 421,
    "start_time": "2024-06-03T03:22:24.111Z"
   },
   {
    "duration": 428,
    "start_time": "2024-06-03T03:22:58.288Z"
   },
   {
    "duration": 410,
    "start_time": "2024-06-03T03:23:11.537Z"
   },
   {
    "duration": 431,
    "start_time": "2024-06-03T03:25:15.088Z"
   },
   {
    "duration": 424,
    "start_time": "2024-06-03T03:25:53.635Z"
   },
   {
    "duration": 540,
    "start_time": "2024-06-03T03:32:47.105Z"
   },
   {
    "duration": 1678,
    "start_time": "2024-06-03T03:33:24.120Z"
   },
   {
    "duration": 470,
    "start_time": "2024-06-03T03:33:34.825Z"
   },
   {
    "duration": 458,
    "start_time": "2024-06-03T03:33:56.838Z"
   },
   {
    "duration": 546,
    "start_time": "2024-06-03T03:36:34.553Z"
   },
   {
    "duration": 311,
    "start_time": "2024-06-03T03:37:53.335Z"
   },
   {
    "duration": 469,
    "start_time": "2024-06-03T03:40:31.627Z"
   },
   {
    "duration": 895,
    "start_time": "2024-06-03T03:43:13.855Z"
   },
   {
    "duration": 115,
    "start_time": "2024-06-03T03:44:25.236Z"
   },
   {
    "duration": 1499,
    "start_time": "2024-06-03T03:44:51.485Z"
   },
   {
    "duration": 71,
    "start_time": "2024-06-03T03:45:00.819Z"
   },
   {
    "duration": 19,
    "start_time": "2024-06-03T03:47:14.792Z"
   },
   {
    "duration": 71,
    "start_time": "2024-06-03T03:47:40.497Z"
   },
   {
    "duration": 22,
    "start_time": "2024-06-03T03:47:51.741Z"
   },
   {
    "duration": 23,
    "start_time": "2024-06-03T03:49:04.009Z"
   },
   {
    "duration": 26,
    "start_time": "2024-06-03T03:49:38.354Z"
   },
   {
    "duration": 223,
    "start_time": "2024-06-03T03:51:15.997Z"
   },
   {
    "duration": 229,
    "start_time": "2024-06-03T03:51:46.645Z"
   },
   {
    "duration": 167,
    "start_time": "2024-06-03T03:52:28.607Z"
   },
   {
    "duration": 220,
    "start_time": "2024-06-03T03:53:16.424Z"
   },
   {
    "duration": 201,
    "start_time": "2024-06-03T03:53:30.907Z"
   },
   {
    "duration": 189,
    "start_time": "2024-06-03T03:57:58.581Z"
   },
   {
    "duration": 186,
    "start_time": "2024-06-03T03:58:32.995Z"
   },
   {
    "duration": 227,
    "start_time": "2024-06-03T03:59:22.555Z"
   },
   {
    "duration": 33,
    "start_time": "2024-06-03T03:59:45.910Z"
   },
   {
    "duration": 4481,
    "start_time": "2024-06-03T04:45:51.565Z"
   },
   {
    "duration": 1745,
    "start_time": "2024-06-03T04:45:56.050Z"
   },
   {
    "duration": 32,
    "start_time": "2024-06-03T04:45:57.798Z"
   },
   {
    "duration": 17,
    "start_time": "2024-06-03T04:45:57.834Z"
   },
   {
    "duration": 14,
    "start_time": "2024-06-03T04:45:57.856Z"
   },
   {
    "duration": 52,
    "start_time": "2024-06-03T04:45:57.875Z"
   },
   {
    "duration": 13,
    "start_time": "2024-06-03T04:45:57.931Z"
   },
   {
    "duration": 10,
    "start_time": "2024-06-03T04:45:57.947Z"
   },
   {
    "duration": 458,
    "start_time": "2024-06-03T04:45:57.960Z"
   },
   {
    "duration": 19,
    "start_time": "2024-06-03T04:45:58.425Z"
   },
   {
    "duration": 235,
    "start_time": "2024-06-03T04:45:58.447Z"
   },
   {
    "duration": 205,
    "start_time": "2024-06-03T04:45:58.685Z"
   },
   {
    "duration": 73,
    "start_time": "2024-06-03T04:45:58.893Z"
   },
   {
    "duration": 9,
    "start_time": "2024-06-03T04:45:58.975Z"
   },
   {
    "duration": 67,
    "start_time": "2024-06-03T04:45:58.987Z"
   },
   {
    "duration": 14,
    "start_time": "2024-06-03T04:45:59.057Z"
   },
   {
    "duration": 66,
    "start_time": "2024-06-03T04:45:59.075Z"
   },
   {
    "duration": 46,
    "start_time": "2024-06-03T04:45:59.145Z"
   },
   {
    "duration": 35,
    "start_time": "2024-06-03T04:45:59.195Z"
   },
   {
    "duration": 9,
    "start_time": "2024-06-03T04:45:59.234Z"
   },
   {
    "duration": 6,
    "start_time": "2024-06-03T04:45:59.247Z"
   },
   {
    "duration": 8,
    "start_time": "2024-06-03T04:45:59.257Z"
   },
   {
    "duration": 59,
    "start_time": "2024-06-03T04:45:59.269Z"
   },
   {
    "duration": 7,
    "start_time": "2024-06-03T04:45:59.332Z"
   },
   {
    "duration": 29,
    "start_time": "2024-06-03T04:45:59.342Z"
   },
   {
    "duration": 2953,
    "start_time": "2024-06-03T04:45:59.375Z"
   },
   {
    "duration": 468,
    "start_time": "2024-06-03T04:46:02.332Z"
   },
   {
    "duration": 26,
    "start_time": "2024-06-03T04:46:02.803Z"
   },
   {
    "duration": 15,
    "start_time": "2024-06-03T04:46:02.832Z"
   },
   {
    "duration": 15,
    "start_time": "2024-06-03T04:46:02.850Z"
   },
   {
    "duration": 12,
    "start_time": "2024-06-03T04:46:02.868Z"
   },
   {
    "duration": 53,
    "start_time": "2024-06-03T04:46:02.883Z"
   },
   {
    "duration": 11,
    "start_time": "2024-06-03T04:46:02.939Z"
   },
   {
    "duration": 17,
    "start_time": "2024-06-03T04:46:02.952Z"
   },
   {
    "duration": 73,
    "start_time": "2024-06-03T04:46:02.972Z"
   },
   {
    "duration": 52,
    "start_time": "2024-06-03T04:46:03.048Z"
   },
   {
    "duration": 18,
    "start_time": "2024-06-03T04:46:03.127Z"
   },
   {
    "duration": 809,
    "start_time": "2024-06-03T04:46:03.149Z"
   },
   {
    "duration": 800,
    "start_time": "2024-06-03T04:46:03.962Z"
   },
   {
    "duration": 82,
    "start_time": "2024-06-03T04:46:04.766Z"
   },
   {
    "duration": 92,
    "start_time": "2024-06-03T04:46:04.859Z"
   },
   {
    "duration": 7,
    "start_time": "2024-06-03T04:46:04.955Z"
   },
   {
    "duration": 10,
    "start_time": "2024-06-03T04:46:04.966Z"
   },
   {
    "duration": 521,
    "start_time": "2024-06-03T04:46:04.980Z"
   },
   {
    "duration": 287,
    "start_time": "2024-06-03T04:46:05.505Z"
   },
   {
    "duration": 399,
    "start_time": "2024-06-03T04:46:05.795Z"
   },
   {
    "duration": 11,
    "start_time": "2024-06-03T04:46:06.197Z"
   },
   {
    "duration": 444,
    "start_time": "2024-06-03T04:46:06.212Z"
   },
   {
    "duration": 513,
    "start_time": "2024-06-03T04:46:06.659Z"
   },
   {
    "duration": 211,
    "start_time": "2024-06-03T04:46:07.176Z"
   },
   {
    "duration": 15,
    "start_time": "2024-06-03T04:52:02.210Z"
   },
   {
    "duration": 9,
    "start_time": "2024-06-03T04:52:03.285Z"
   },
   {
    "duration": 416,
    "start_time": "2024-06-03T04:52:07.635Z"
   },
   {
    "duration": 509,
    "start_time": "2024-06-03T04:52:12.681Z"
   },
   {
    "duration": 231,
    "start_time": "2024-06-03T04:52:18.216Z"
   },
   {
    "duration": 681,
    "start_time": "2024-06-03T05:18:38.963Z"
   },
   {
    "duration": 507,
    "start_time": "2024-06-03T05:19:06.706Z"
   },
   {
    "duration": 704,
    "start_time": "2024-06-03T05:20:31.356Z"
   },
   {
    "duration": 230,
    "start_time": "2024-06-03T05:22:39.430Z"
   },
   {
    "duration": 446,
    "start_time": "2024-06-03T05:25:03.857Z"
   },
   {
    "duration": 340,
    "start_time": "2024-06-03T05:29:23.760Z"
   },
   {
    "duration": 490,
    "start_time": "2024-06-03T05:29:45.773Z"
   },
   {
    "duration": 2204,
    "start_time": "2024-06-03T05:31:02.423Z"
   },
   {
    "duration": 63,
    "start_time": "2024-06-03T05:31:51.740Z"
   },
   {
    "duration": 403,
    "start_time": "2024-06-03T05:33:39.548Z"
   },
   {
    "duration": 1259,
    "start_time": "2024-06-03T05:38:46.809Z"
   },
   {
    "duration": 283,
    "start_time": "2024-06-03T05:39:52.034Z"
   },
   {
    "duration": 531,
    "start_time": "2024-06-03T05:42:00.381Z"
   },
   {
    "duration": 898,
    "start_time": "2024-06-03T05:42:39.535Z"
   },
   {
    "duration": 705,
    "start_time": "2024-06-03T05:43:01.896Z"
   },
   {
    "duration": 4463,
    "start_time": "2024-06-03T20:42:58.260Z"
   },
   {
    "duration": 1672,
    "start_time": "2024-06-03T20:43:02.727Z"
   },
   {
    "duration": 19,
    "start_time": "2024-06-03T20:43:04.402Z"
   },
   {
    "duration": 16,
    "start_time": "2024-06-03T20:43:04.426Z"
   },
   {
    "duration": 14,
    "start_time": "2024-06-03T20:43:04.445Z"
   },
   {
    "duration": 56,
    "start_time": "2024-06-03T20:43:04.462Z"
   },
   {
    "duration": 12,
    "start_time": "2024-06-03T20:43:04.521Z"
   },
   {
    "duration": 9,
    "start_time": "2024-06-03T20:43:04.536Z"
   },
   {
    "duration": 394,
    "start_time": "2024-06-03T20:43:04.548Z"
   },
   {
    "duration": 13,
    "start_time": "2024-06-03T20:43:04.949Z"
   },
   {
    "duration": 207,
    "start_time": "2024-06-03T20:43:04.965Z"
   },
   {
    "duration": 176,
    "start_time": "2024-06-03T20:43:05.175Z"
   },
   {
    "duration": 54,
    "start_time": "2024-06-03T20:43:05.354Z"
   },
   {
    "duration": 9,
    "start_time": "2024-06-03T20:43:05.411Z"
   },
   {
    "duration": 37,
    "start_time": "2024-06-03T20:43:05.423Z"
   },
   {
    "duration": 49,
    "start_time": "2024-06-03T20:43:05.463Z"
   },
   {
    "duration": 41,
    "start_time": "2024-06-03T20:43:05.515Z"
   },
   {
    "duration": 66,
    "start_time": "2024-06-03T20:43:05.559Z"
   },
   {
    "duration": 7,
    "start_time": "2024-06-03T20:43:05.628Z"
   },
   {
    "duration": 8,
    "start_time": "2024-06-03T20:43:05.638Z"
   },
   {
    "duration": 6,
    "start_time": "2024-06-03T20:43:05.650Z"
   },
   {
    "duration": 48,
    "start_time": "2024-06-03T20:43:05.658Z"
   },
   {
    "duration": 8,
    "start_time": "2024-06-03T20:43:05.710Z"
   },
   {
    "duration": 6,
    "start_time": "2024-06-03T20:43:05.721Z"
   },
   {
    "duration": 29,
    "start_time": "2024-06-03T20:43:05.730Z"
   },
   {
    "duration": 2884,
    "start_time": "2024-06-03T20:43:05.762Z"
   },
   {
    "duration": 405,
    "start_time": "2024-06-03T20:43:08.650Z"
   },
   {
    "duration": 12,
    "start_time": "2024-06-03T20:43:09.064Z"
   },
   {
    "duration": 36,
    "start_time": "2024-06-03T20:43:09.079Z"
   },
   {
    "duration": 14,
    "start_time": "2024-06-03T20:43:09.118Z"
   },
   {
    "duration": 12,
    "start_time": "2024-06-03T20:43:09.135Z"
   },
   {
    "duration": 12,
    "start_time": "2024-06-03T20:43:09.149Z"
   },
   {
    "duration": 52,
    "start_time": "2024-06-03T20:43:09.164Z"
   },
   {
    "duration": 16,
    "start_time": "2024-06-03T20:43:09.219Z"
   },
   {
    "duration": 30,
    "start_time": "2024-06-03T20:43:09.238Z"
   },
   {
    "duration": 49,
    "start_time": "2024-06-03T20:43:09.308Z"
   },
   {
    "duration": 48,
    "start_time": "2024-06-03T20:43:09.361Z"
   },
   {
    "duration": 929,
    "start_time": "2024-06-03T20:43:09.414Z"
   },
   {
    "duration": 713,
    "start_time": "2024-06-03T20:43:10.346Z"
   },
   {
    "duration": 66,
    "start_time": "2024-06-03T20:43:11.062Z"
   },
   {
    "duration": 81,
    "start_time": "2024-06-03T20:43:11.131Z"
   },
   {
    "duration": 6,
    "start_time": "2024-06-03T20:43:11.218Z"
   },
   {
    "duration": 6,
    "start_time": "2024-06-03T20:43:11.228Z"
   },
   {
    "duration": 534,
    "start_time": "2024-06-03T20:43:11.236Z"
   },
   {
    "duration": 271,
    "start_time": "2024-06-03T20:43:11.773Z"
   },
   {
    "duration": 364,
    "start_time": "2024-06-03T20:43:12.047Z"
   },
   {
    "duration": 11,
    "start_time": "2024-06-03T20:43:12.414Z"
   },
   {
    "duration": 15,
    "start_time": "2024-06-03T20:43:12.428Z"
   },
   {
    "duration": 8,
    "start_time": "2024-06-03T20:43:12.446Z"
   },
   {
    "duration": 457,
    "start_time": "2024-06-03T20:43:12.456Z"
   },
   {
    "duration": 482,
    "start_time": "2024-06-03T20:43:12.915Z"
   },
   {
    "duration": 174,
    "start_time": "2024-06-03T20:43:13.407Z"
   },
   {
    "duration": 551,
    "start_time": "2024-06-03T20:43:13.584Z"
   },
   {
    "duration": 507,
    "start_time": "2024-06-03T20:43:14.138Z"
   },
   {
    "duration": 223,
    "start_time": "2024-06-03T20:43:14.648Z"
   },
   {
    "duration": 421,
    "start_time": "2024-06-03T20:43:14.874Z"
   },
   {
    "duration": 623,
    "start_time": "2024-06-03T20:43:15.298Z"
   },
   {
    "duration": 1917,
    "start_time": "2024-06-03T20:43:15.925Z"
   },
   {
    "duration": 77,
    "start_time": "2024-06-03T20:43:17.845Z"
   },
   {
    "duration": 12,
    "start_time": "2024-06-03T23:00:13.530Z"
   },
   {
    "duration": 7,
    "start_time": "2024-06-03T23:09:07.642Z"
   },
   {
    "duration": 51,
    "start_time": "2024-06-03T23:09:28.318Z"
   },
   {
    "duration": 7,
    "start_time": "2024-06-04T02:37:26.578Z"
   },
   {
    "duration": 1715,
    "start_time": "2024-06-04T02:53:52.686Z"
   },
   {
    "duration": 2785,
    "start_time": "2024-06-04T02:56:28.115Z"
   },
   {
    "duration": 2750,
    "start_time": "2024-06-04T03:02:42.620Z"
   },
   {
    "duration": 2729,
    "start_time": "2024-06-04T03:03:33.218Z"
   },
   {
    "duration": 2558,
    "start_time": "2024-06-04T03:06:30.166Z"
   },
   {
    "duration": 2743,
    "start_time": "2024-06-04T03:06:45.020Z"
   },
   {
    "duration": 20,
    "start_time": "2024-06-04T03:36:14.929Z"
   },
   {
    "duration": 16,
    "start_time": "2024-06-04T03:37:00.242Z"
   },
   {
    "duration": 931,
    "start_time": "2024-06-04T03:59:21.631Z"
   },
   {
    "duration": 952,
    "start_time": "2024-06-04T03:59:49.759Z"
   },
   {
    "duration": 7,
    "start_time": "2024-06-04T04:13:11.789Z"
   },
   {
    "duration": 6,
    "start_time": "2024-06-04T04:13:12.931Z"
   },
   {
    "duration": 6,
    "start_time": "2024-06-04T04:21:20.474Z"
   },
   {
    "duration": 6,
    "start_time": "2024-06-04T04:21:20.668Z"
   },
   {
    "duration": 5,
    "start_time": "2024-06-04T05:22:26.751Z"
   },
   {
    "duration": 1508,
    "start_time": "2024-06-04T05:22:27.266Z"
   },
   {
    "duration": 16,
    "start_time": "2024-06-04T05:22:28.777Z"
   },
   {
    "duration": 19,
    "start_time": "2024-06-04T05:22:28.810Z"
   },
   {
    "duration": 15,
    "start_time": "2024-06-04T05:22:28.833Z"
   },
   {
    "duration": 16,
    "start_time": "2024-06-04T05:22:28.852Z"
   },
   {
    "duration": 13,
    "start_time": "2024-06-04T05:22:28.908Z"
   },
   {
    "duration": 9,
    "start_time": "2024-06-04T05:22:28.924Z"
   },
   {
    "duration": 317,
    "start_time": "2024-06-04T05:22:28.936Z"
   },
   {
    "duration": 13,
    "start_time": "2024-06-04T05:22:29.256Z"
   },
   {
    "duration": 184,
    "start_time": "2024-06-04T05:22:29.274Z"
   },
   {
    "duration": 169,
    "start_time": "2024-06-04T05:22:29.460Z"
   },
   {
    "duration": 43,
    "start_time": "2024-06-04T05:22:29.632Z"
   },
   {
    "duration": 31,
    "start_time": "2024-06-04T05:22:29.679Z"
   },
   {
    "duration": 24,
    "start_time": "2024-06-04T05:22:29.713Z"
   },
   {
    "duration": 13,
    "start_time": "2024-06-04T05:22:29.740Z"
   },
   {
    "duration": 79,
    "start_time": "2024-06-04T05:22:29.756Z"
   },
   {
    "duration": 44,
    "start_time": "2024-06-04T05:22:29.837Z"
   },
   {
    "duration": 7,
    "start_time": "2024-06-04T05:22:29.909Z"
   },
   {
    "duration": 9,
    "start_time": "2024-06-04T05:22:29.919Z"
   },
   {
    "duration": 8,
    "start_time": "2024-06-04T05:22:29.931Z"
   },
   {
    "duration": 7,
    "start_time": "2024-06-04T05:22:29.943Z"
   },
   {
    "duration": 55,
    "start_time": "2024-06-04T05:22:29.957Z"
   },
   {
    "duration": 6,
    "start_time": "2024-06-04T05:22:30.015Z"
   },
   {
    "duration": 27,
    "start_time": "2024-06-04T05:22:30.024Z"
   },
   {
    "duration": 2681,
    "start_time": "2024-06-04T05:22:30.054Z"
   },
   {
    "duration": 2833,
    "start_time": "2024-06-04T05:22:32.739Z"
   },
   {
    "duration": 13,
    "start_time": "2024-06-04T05:22:35.576Z"
   },
   {
    "duration": 13,
    "start_time": "2024-06-04T05:22:35.605Z"
   },
   {
    "duration": 13,
    "start_time": "2024-06-04T05:22:35.621Z"
   },
   {
    "duration": 11,
    "start_time": "2024-06-04T05:22:35.640Z"
   },
   {
    "duration": 51,
    "start_time": "2024-06-04T05:22:35.654Z"
   },
   {
    "duration": 10,
    "start_time": "2024-06-04T05:22:35.708Z"
   },
   {
    "duration": 15,
    "start_time": "2024-06-04T05:22:35.721Z"
   },
   {
    "duration": 26,
    "start_time": "2024-06-04T05:22:35.738Z"
   },
   {
    "duration": 53,
    "start_time": "2024-06-04T05:22:35.807Z"
   },
   {
    "duration": 46,
    "start_time": "2024-06-04T05:22:35.864Z"
   },
   {
    "duration": 855,
    "start_time": "2024-06-04T05:22:35.913Z"
   },
   {
    "duration": 710,
    "start_time": "2024-06-04T05:22:36.771Z"
   },
   {
    "duration": 68,
    "start_time": "2024-06-04T05:22:37.484Z"
   },
   {
    "duration": 89,
    "start_time": "2024-06-04T05:22:37.556Z"
   },
   {
    "duration": 7,
    "start_time": "2024-06-04T05:22:37.648Z"
   },
   {
    "duration": 6,
    "start_time": "2024-06-04T05:22:37.658Z"
   },
   {
    "duration": 447,
    "start_time": "2024-06-04T05:22:37.667Z"
   },
   {
    "duration": 299,
    "start_time": "2024-06-04T05:22:38.122Z"
   },
   {
    "duration": 367,
    "start_time": "2024-06-04T05:22:38.424Z"
   },
   {
    "duration": 21,
    "start_time": "2024-06-04T05:22:38.794Z"
   },
   {
    "duration": 14,
    "start_time": "2024-06-04T05:22:38.818Z"
   },
   {
    "duration": 8,
    "start_time": "2024-06-04T05:22:38.836Z"
   },
   {
    "duration": 423,
    "start_time": "2024-06-04T05:22:38.847Z"
   },
   {
    "duration": 13,
    "start_time": "2024-06-04T05:22:39.347Z"
   },
   {
    "duration": 468,
    "start_time": "2024-06-04T05:22:41.330Z"
   },
   {
    "duration": 172,
    "start_time": "2024-06-04T05:22:52.858Z"
   },
   {
    "duration": 527,
    "start_time": "2024-06-04T05:22:54.609Z"
   },
   {
    "duration": 491,
    "start_time": "2024-06-04T05:22:55.141Z"
   },
   {
    "duration": 191,
    "start_time": "2024-06-04T05:23:03.191Z"
   },
   {
    "duration": 385,
    "start_time": "2024-06-04T05:23:04.444Z"
   },
   {
    "duration": 839,
    "start_time": "2024-06-04T05:23:11.946Z"
   },
   {
    "duration": 617,
    "start_time": "2024-06-04T05:27:32.754Z"
   },
   {
    "duration": 721,
    "start_time": "2024-06-04T05:29:26.096Z"
   },
   {
    "duration": 622,
    "start_time": "2024-06-04T05:30:15.423Z"
   },
   {
    "duration": 694,
    "start_time": "2024-06-04T05:30:37.552Z"
   },
   {
    "duration": 637,
    "start_time": "2024-06-04T05:30:58.447Z"
   },
   {
    "duration": 625,
    "start_time": "2024-06-04T05:31:19.433Z"
   },
   {
    "duration": 1836,
    "start_time": "2024-06-04T05:34:16.097Z"
   },
   {
    "duration": 3,
    "start_time": "2024-06-04T05:36:40.996Z"
   },
   {
    "duration": 1441,
    "start_time": "2024-06-04T05:36:41.598Z"
   },
   {
    "duration": 17,
    "start_time": "2024-06-04T05:36:43.043Z"
   },
   {
    "duration": 16,
    "start_time": "2024-06-04T05:36:43.063Z"
   },
   {
    "duration": 14,
    "start_time": "2024-06-04T05:36:43.107Z"
   },
   {
    "duration": 13,
    "start_time": "2024-06-04T05:36:43.127Z"
   },
   {
    "duration": 13,
    "start_time": "2024-06-04T05:36:43.143Z"
   },
   {
    "duration": 54,
    "start_time": "2024-06-04T05:36:43.159Z"
   },
   {
    "duration": 291,
    "start_time": "2024-06-04T05:36:43.216Z"
   },
   {
    "duration": 12,
    "start_time": "2024-06-04T05:36:43.510Z"
   },
   {
    "duration": 182,
    "start_time": "2024-06-04T05:36:43.525Z"
   },
   {
    "duration": 162,
    "start_time": "2024-06-04T05:36:43.710Z"
   },
   {
    "duration": 61,
    "start_time": "2024-06-04T05:36:43.875Z"
   },
   {
    "duration": 12,
    "start_time": "2024-06-04T05:36:43.940Z"
   },
   {
    "duration": 47,
    "start_time": "2024-06-04T05:36:43.960Z"
   },
   {
    "duration": 12,
    "start_time": "2024-06-04T05:36:44.011Z"
   },
   {
    "duration": 41,
    "start_time": "2024-06-04T05:36:44.025Z"
   },
   {
    "duration": 77,
    "start_time": "2024-06-04T05:36:44.070Z"
   },
   {
    "duration": 6,
    "start_time": "2024-06-04T05:36:44.150Z"
   },
   {
    "duration": 7,
    "start_time": "2024-06-04T05:36:44.160Z"
   },
   {
    "duration": 37,
    "start_time": "2024-06-04T05:36:44.171Z"
   },
   {
    "duration": 7,
    "start_time": "2024-06-04T05:36:44.211Z"
   },
   {
    "duration": 9,
    "start_time": "2024-06-04T05:36:44.222Z"
   },
   {
    "duration": 6,
    "start_time": "2024-06-04T05:36:44.235Z"
   },
   {
    "duration": 76,
    "start_time": "2024-06-04T05:36:44.244Z"
   },
   {
    "duration": 2427,
    "start_time": "2024-06-04T05:36:44.323Z"
   },
   {
    "duration": 2632,
    "start_time": "2024-06-04T05:36:46.753Z"
   },
   {
    "duration": 24,
    "start_time": "2024-06-04T05:36:49.390Z"
   },
   {
    "duration": 17,
    "start_time": "2024-06-04T05:36:49.417Z"
   },
   {
    "duration": 16,
    "start_time": "2024-06-04T05:36:49.437Z"
   },
   {
    "duration": 53,
    "start_time": "2024-06-04T05:36:49.456Z"
   },
   {
    "duration": 13,
    "start_time": "2024-06-04T05:36:49.512Z"
   },
   {
    "duration": 11,
    "start_time": "2024-06-04T05:36:49.528Z"
   },
   {
    "duration": 14,
    "start_time": "2024-06-04T05:36:49.542Z"
   },
   {
    "duration": 62,
    "start_time": "2024-06-04T05:36:49.560Z"
   },
   {
    "duration": 44,
    "start_time": "2024-06-04T05:36:49.624Z"
   },
   {
    "duration": 50,
    "start_time": "2024-06-04T05:36:49.671Z"
   },
   {
    "duration": 869,
    "start_time": "2024-06-04T05:36:49.727Z"
   },
   {
    "duration": 639,
    "start_time": "2024-06-04T05:36:50.599Z"
   },
   {
    "duration": 65,
    "start_time": "2024-06-04T05:36:51.241Z"
   },
   {
    "duration": 65,
    "start_time": "2024-06-04T05:36:51.309Z"
   },
   {
    "duration": 26,
    "start_time": "2024-06-04T05:36:51.382Z"
   },
   {
    "duration": 6,
    "start_time": "2024-06-04T05:36:51.411Z"
   },
   {
    "duration": 431,
    "start_time": "2024-06-04T05:36:51.420Z"
   },
   {
    "duration": 273,
    "start_time": "2024-06-04T05:36:51.854Z"
   },
   {
    "duration": 365,
    "start_time": "2024-06-04T05:36:52.130Z"
   },
   {
    "duration": 15,
    "start_time": "2024-06-04T05:36:52.498Z"
   },
   {
    "duration": 15,
    "start_time": "2024-06-04T05:36:52.516Z"
   },
   {
    "duration": 8,
    "start_time": "2024-06-04T05:36:52.534Z"
   },
   {
    "duration": 439,
    "start_time": "2024-06-04T05:36:52.544Z"
   },
   {
    "duration": 20,
    "start_time": "2024-06-04T05:36:52.986Z"
   },
   {
    "duration": 486,
    "start_time": "2024-06-04T05:36:53.009Z"
   },
   {
    "duration": 174,
    "start_time": "2024-06-04T05:36:53.498Z"
   },
   {
    "duration": 488,
    "start_time": "2024-06-04T05:36:53.675Z"
   },
   {
    "duration": 480,
    "start_time": "2024-06-04T05:36:54.166Z"
   },
   {
    "duration": 190,
    "start_time": "2024-06-04T05:36:54.650Z"
   },
   {
    "duration": 421,
    "start_time": "2024-06-04T05:36:54.843Z"
   },
   {
    "duration": 599,
    "start_time": "2024-06-04T05:37:00.149Z"
   },
   {
    "duration": 1786,
    "start_time": "2024-06-04T05:37:07.363Z"
   },
   {
    "duration": 1023,
    "start_time": "2024-06-04T05:39:23.687Z"
   },
   {
    "duration": 52,
    "start_time": "2024-06-04T05:40:07.225Z"
   },
   {
    "duration": 299,
    "start_time": "2024-06-04T05:41:16.623Z"
   },
   {
    "duration": 102,
    "start_time": "2024-06-04T05:41:36.311Z"
   },
   {
    "duration": 99,
    "start_time": "2024-06-04T05:42:25.434Z"
   },
   {
    "duration": 55,
    "start_time": "2024-06-04T05:42:44.182Z"
   },
   {
    "duration": 231,
    "start_time": "2024-06-04T05:45:33.728Z"
   },
   {
    "duration": 53,
    "start_time": "2024-06-04T05:45:44.788Z"
   },
   {
    "duration": 51,
    "start_time": "2024-06-04T05:55:10.288Z"
   },
   {
    "duration": 10,
    "start_time": "2024-06-04T06:01:56.203Z"
   },
   {
    "duration": 10,
    "start_time": "2024-06-04T06:01:59.463Z"
   },
   {
    "duration": 8,
    "start_time": "2024-06-04T06:03:31.956Z"
   },
   {
    "duration": 10,
    "start_time": "2024-06-04T06:03:42.543Z"
   },
   {
    "duration": 8,
    "start_time": "2024-06-04T06:03:58.811Z"
   },
   {
    "duration": 16,
    "start_time": "2024-06-06T21:32:28.387Z"
   }
  ],
  "colab": {
   "provenance": []
  },
  "kernelspec": {
   "display_name": "Python [conda env:base] *",
   "language": "python",
   "name": "conda-base-py"
  },
  "language_info": {
   "codemirror_mode": {
    "name": "ipython",
    "version": 3
   },
   "file_extension": ".py",
   "mimetype": "text/x-python",
   "name": "python",
   "nbconvert_exporter": "python",
   "pygments_lexer": "ipython3",
   "version": "3.12.7"
  },
  "toc": {
   "base_numbering": 1,
   "nav_menu": {},
   "number_sections": true,
   "sideBar": true,
   "skip_h1_title": true,
   "title_cell": "Table of Contents",
   "title_sidebar": "Contents",
   "toc_cell": false,
   "toc_position": {},
   "toc_section_display": true,
   "toc_window_display": false
  },
  "vscode": {
   "interpreter": {
    "hash": "01a7be9ec63e704a62cefc5fe7a4756944464ee731be31632bdf42a4cb4688cf"
   }
  }
 },
 "nbformat": 4,
 "nbformat_minor": 5
}
